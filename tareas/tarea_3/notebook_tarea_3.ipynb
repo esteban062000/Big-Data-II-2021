{
  "nbformat": 4,
  "nbformat_minor": 0,
  "metadata": {
    "language_info": {
      "name": "python"
    },
    "orig_nbformat": 4,
    "colab": {
      "name": "notebook_tarea_3.ipynb",
      "provenance": []
    }
  },
  "cells": [
    {
      "cell_type": "markdown",
      "metadata": {
        "id": "YQUrlEz74WZ5"
      },
      "source": [
        "# Determinando la mejor agrupación de las tiendas de Starbucks según su ubicación geográfica\n",
        "\n"
      ]
    },
    {
      "cell_type": "markdown",
      "metadata": {
        "id": "vkzVodtR6grW"
      },
      "source": [
        "## 1. Descripción del problema \n",
        "\n",
        "Se desea conocer cuál es la mejor forma de agrupar las tiendas de Starbucks, a nivel mundial, según su ubicación geográfica. Con esta información, se puede decidir cómo estructurar los cargos administrativos de la empresa; por ejemplo, algunas compañías toman Centroamérica como una región, mientras que otras tienen operaciones específicas para Costa Rica. \n",
        "\n",
        "Para esto, se utilizarán técnicas de aprendizaje no supervisado, específicamente de *clustering*, pues no se conoce con antelación cuál es el mejor agrupamiento de las tiendas. En este contexto, el *mejor agrupamiento* no necesariamente será el óptimo, sino que se refiere al *mejor agrupamiento obtenido por algún algoritmo* pues, como en diversos problemas de aprendizaje no supervisado, no se conoce cuál es la solución óptima al problema."
      ]
    },
    {
      "cell_type": "markdown",
      "metadata": {
        "id": "CfNzZ3Wm4wqQ"
      },
      "source": [
        "## 2. Preprocesamiento y limpieza de datos\n",
        "\n",
        "El preprocesamiento y limpieza de datos se llevó a cabo con **Open Refine**. Se adjunta en el repositorio el historial de acciones realizadas."
      ]
    },
    {
      "cell_type": "markdown",
      "metadata": {
        "id": "RqRgLzE85B8A"
      },
      "source": [
        "### 2.a Eliminar columnas redundantes o que no se utilizarán\n",
        "\n",
        "Las columnas redundantes son aquellas que poseen poca variabilidad, es decir, que poseen el mismo valor en una gran mayoría de las entradas. En este *dataset*, las columnas **Brand** y **Ownership Type** tienen muy poca variabilidad, pues casi la totalidad de las filas tienen los valores *Starbucks* y *Licensed*, respectivamente. Por esta razón, se eliminan del *dataset*.\n",
        "\n",
        "Adicionalmente, se eliminan las columnas que no se utilizarán en el trabajo. Específicamente:\n",
        "\n",
        "- **Store Number**\n",
        "- **Store Name**\n",
        "- **Street Address**\n",
        "- **City**\n",
        "- **State/Province**\n",
        "- **Postcode**\n",
        "- **Phone Number**\n",
        "\n",
        "Esta limpieza se realizara para disminuir el ruido que entrará al modelo, una vez se inicie con el aprendizaje no supervisado."
      ]
    },
    {
      "cell_type": "markdown",
      "metadata": {
        "id": "TfrScgqU5Hs8"
      },
      "source": [
        "### 2.b Cambiar tipo de datos en columnas de Longitud y Latitud\n",
        "\n",
        "Algunos valores en estas columnas son de tipo entero, mientras que la mayoría son de tipo *double*. Para corregir estas inconsistencias, se convertirán todos los valores en la columna a tipo *double*. Esto es necesario puesto que, en algunas ocasiones, los modelos no reconocen estas diferencias en los tipos, por lo que no pueden ejecutarse correctamete."
      ]
    },
    {
      "cell_type": "markdown",
      "metadata": {
        "id": "5jtcchZK42D5"
      },
      "source": [
        "## 3. Transformación de datos\n",
        "\n",
        "La transformación de datos se llevó a cabo con **Open Refine**. Se adjunta en el repositorio el historial de acciones realizadas."
      ]
    },
    {
      "cell_type": "markdown",
      "metadata": {
        "id": "xKWSLNtw5LNa"
      },
      "source": [
        "### 3.a Transformación de la columna Timezone \n",
        "\n",
        "En el *dataset* original, esta columna indica la zona horaria, continente y país de ubicación de la tienda. Se aplicó una transformación para que, únicamente, muestre el continente. De esta forma, si el valor original era\n",
        "\n",
        "> GMT+1:00 Europe/Andorra ,\n",
        "\n",
        "se transforma a\n",
        "\n",
        "> Europe.\n",
        "\n",
        "Esta transformación se llevó a cabo con el siguiente código GREL:\n",
        "\n",
        "```\n",
        "# Tiene formato de código\n",
        "```"
      ]
    },
    {
      "cell_type": "markdown",
      "metadata": {
        "id": "lfJYxH-k5YnM"
      },
      "source": [
        "### 3.b Creación de columna isUnitedStates a partir de Country"
      ]
    },
    {
      "cell_type": "markdown",
      "metadata": {
        "id": "AE5gcA8Q5dUO"
      },
      "source": [
        "Se incluyó una nueva columna con valores booleanos, llamada *isUnitedStates*, creada a partir de la columna *Country*.\n",
        "\n",
        "Esta transformación se llevó a cabo con el siguiente código GREL:\n",
        "\n",
        "```\n",
        "# Tiene formato de código\n",
        "```\n",
        "\n",
        "\n",
        "Ambas transformaciones se llevaron a cabo para ser utilizadas en la siguiente sección, Análisis Exploratorio de Datos, donde se lleva a cabo un estudio según las clases (es decir, ubicación) a la que pertenecen las tiendas."
      ]
    },
    {
      "cell_type": "markdown",
      "metadata": {
        "id": "Jttk6M1G4kIw"
      },
      "source": [
        "## 4. Análisis Exploratorio de Datos"
      ]
    },
    {
      "cell_type": "markdown",
      "metadata": {
        "id": "S2cP6x1K4pPo"
      },
      "source": [
        "### 4.a Estadística Descriptiva\n",
        "\n",
        "Primeramente, se observa cómo luce el conjunto de datos una vez limpiado:"
      ]
    },
    {
      "cell_type": "code",
      "metadata": {
        "id": "Hx_oor6L-9JS"
      },
      "source": [
        "data.head()"
      ],
      "execution_count": null,
      "outputs": []
    },
    {
      "cell_type": "markdown",
      "metadata": {
        "id": "DSv0TEef-_IQ"
      },
      "source": [
        "Luego, se pueden obtener las principales medidas estadísticas para cada atributo en los datos:"
      ]
    },
    {
      "cell_type": "code",
      "metadata": {
        "id": "WbXw3EOs_DwD"
      },
      "source": [
        "data.describe()"
      ],
      "execution_count": null,
      "outputs": []
    },
    {
      "cell_type": "markdown",
      "metadata": {
        "id": "ha9PMITF_FZj"
      },
      "source": [
        "Seguidamente, se realizan distintos gráficos para obtener una impresión visual de la composición de los datos."
      ]
    },
    {
      "cell_type": "markdown",
      "metadata": {
        "id": "VaVcdO0f_LOP"
      },
      "source": [
        "#### 4.a.1 Histograma para Continent"
      ]
    },
    {
      "cell_type": "markdown",
      "metadata": {
        "id": "yijXswln_QKB"
      },
      "source": [
        "#### 4.a.2 Histograma para isUnitedStates"
      ]
    },
    {
      "cell_type": "markdown",
      "metadata": {
        "id": "qNg66sDj_WbE"
      },
      "source": [
        "#### 4.a.3 Diagrama de cajas para Longitud"
      ]
    },
    {
      "cell_type": "markdown",
      "metadata": {
        "id": "7PXnJWF9_aAq"
      },
      "source": [
        "#### 4.a.4 Diagrama de cajas para Latitud"
      ]
    },
    {
      "cell_type": "markdown",
      "metadata": {
        "id": "upUsTBgx4r9y"
      },
      "source": [
        "### 4.b Particionamiento en clases"
      ]
    },
    {
      "cell_type": "markdown",
      "metadata": {
        "id": "NHYI5VQt44yx"
      },
      "source": [
        "Puesto que Starbucks es una compañía estadounidense, se espera que la mayoría de sus tiendas se encuentren en los Estados Unidos. Por ende, al confirmar esta suposición con la información proveniente de los datos, se agruparán en dos clases: las tienas que pertenecen a los Estados Unidos y las que no. Con esto, se pueden tener impresiones sobre sus coordenadas geográficas, una vez separadas en estos dos tipos.\n",
        "\n",
        "En línea con el objetivo de la investigación, es común que las empresas administren sus cargos ejecutivos de una manera distinta según se trate de tiendas locales o en el extranjero. Por ende, es natural la separación entre tiendas ubicadas en el país de procedencia y aquellas ubicadas en otros países."
      ]
    },
    {
      "cell_type": "code",
      "metadata": {
        "id": "9qta12j2AIws"
      },
      "source": [
        "# Codigo particionamiento"
      ],
      "execution_count": null,
      "outputs": []
    },
    {
      "cell_type": "markdown",
      "metadata": {
        "id": "2slwYoDkALOZ"
      },
      "source": [
        "#### 4.b.1 Diagrama de cajas para columna Longitud de tiendas en Estados Unidos"
      ]
    },
    {
      "cell_type": "markdown",
      "metadata": {
        "id": "h6gBHpAPAUAf"
      },
      "source": [
        "#### 4.b.2 Diagrama de cajas para columna Latitud de tiendas en Estados Unidos"
      ]
    },
    {
      "cell_type": "markdown",
      "metadata": {
        "id": "iFWFX9rNAWs2"
      },
      "source": [
        "#### 4.b.3 Diagrama de cajas para columna Longitud de tiendas fuera de Estados Unidos"
      ]
    },
    {
      "cell_type": "markdown",
      "metadata": {
        "id": "O3nETde2AZ67"
      },
      "source": [
        "#### 4.b.4 Diagrama de cajas para columna Latitud de tiendas fuera de Estados Unidos"
      ]
    },
    {
      "cell_type": "markdown",
      "metadata": {
        "id": "e4qWpAE256p6"
      },
      "source": [
        "## 5. Técnicas de segmentación\n",
        "\n",
        "Explicar por qué sirven"
      ]
    },
    {
      "cell_type": "markdown",
      "metadata": {
        "id": "Bq-ycabT5-Z3"
      },
      "source": [
        "### 5.a K-Means"
      ]
    },
    {
      "cell_type": "markdown",
      "metadata": {
        "id": "kUHG4YcX6AFu"
      },
      "source": [
        "### 5.b DBSCAN"
      ]
    },
    {
      "cell_type": "markdown",
      "metadata": {
        "id": "G7Ppl3X-6FeQ"
      },
      "source": [
        "## 6. Evaluación de modelos"
      ]
    },
    {
      "cell_type": "markdown",
      "metadata": {
        "id": "j_DuwoLG6J62"
      },
      "source": [
        "### 6.a Silhouette Analysis - K-Means"
      ]
    },
    {
      "cell_type": "markdown",
      "metadata": {
        "id": "o6v1w8E96R6x"
      },
      "source": [
        "### 6.b Silhouette Analysis - DBSCAN"
      ]
    },
    {
      "cell_type": "markdown",
      "metadata": {
        "id": "nQ-kG85U6YfS"
      },
      "source": [
        "## 7. Resultados\n",
        "\n",
        "Gráfica + tabla"
      ]
    },
    {
      "cell_type": "markdown",
      "metadata": {
        "id": "CNP-LwGh6alo"
      },
      "source": [
        "## 8. Análisis"
      ]
    }
  ]
}