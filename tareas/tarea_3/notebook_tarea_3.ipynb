{
  "nbformat": 4,
  "nbformat_minor": 0,
  "metadata": {
    "language_info": {
      "name": "python"
    },
    "orig_nbformat": 4,
    "colab": {
      "name": "notebook_tarea_3.ipynb",
      "provenance": []
    }
  },
  "cells": [
    {
      "cell_type": "markdown",
      "metadata": {
        "id": "YQUrlEz74WZ5"
      },
      "source": [
        "# Determinando la mejor agrupación de las tiendas de Starbucks según su ubicación geográfica\n",
        "\n"
      ]
    },
    {
      "cell_type": "markdown",
      "metadata": {
        "id": "vkzVodtR6grW"
      },
      "source": [
        "## 1. Descripción del problema \n",
        "\n",
        "y justificación del enfoque a utilizar"
      ]
    },
    {
      "cell_type": "markdown",
      "metadata": {
        "id": "CfNzZ3Wm4wqQ"
      },
      "source": [
        "## 2. Preprocesamiento y limpieza de datos "
      ]
    },
    {
      "cell_type": "markdown",
      "metadata": {
        "id": "RqRgLzE85B8A"
      },
      "source": [
        "### 2.a Eliminar columnas redundantes o que no se utilizarán"
      ]
    },
    {
      "cell_type": "markdown",
      "metadata": {
        "id": "TfrScgqU5Hs8"
      },
      "source": [
        "### 2.b Cambiar tipo de datos en columnas de Longitud y Latitud"
      ]
    },
    {
      "cell_type": "markdown",
      "metadata": {
        "id": "5jtcchZK42D5"
      },
      "source": [
        "## 3. Transformación de datos"
      ]
    },
    {
      "cell_type": "markdown",
      "metadata": {
        "id": "xKWSLNtw5LNa"
      },
      "source": [
        "### 3.a Transformación de la columna Timezone \n",
        "\n",
        "Para que indique el continente de la tienda"
      ]
    },
    {
      "cell_type": "markdown",
      "metadata": {
        "id": "lfJYxH-k5YnM"
      },
      "source": [
        "### 3.b Creación de columna isUnitedStates a partir de Timezone"
      ]
    },
    {
      "cell_type": "markdown",
      "metadata": {
        "id": "AE5gcA8Q5dUO"
      },
      "source": [
        "Para que indique si es de Estados Unidos o no"
      ]
    },
    {
      "cell_type": "markdown",
      "metadata": {
        "id": "Jttk6M1G4kIw"
      },
      "source": [
        "## 4. Análisis Exploratorio de Datos"
      ]
    },
    {
      "cell_type": "markdown",
      "metadata": {
        "id": "S2cP6x1K4pPo"
      },
      "source": [
        "### 4.a Estadística Descriptiva"
      ]
    },
    {
      "cell_type": "markdown",
      "metadata": {
        "id": "upUsTBgx4r9y"
      },
      "source": [
        "### 4.b Particionamiento en clases"
      ]
    },
    {
      "cell_type": "markdown",
      "metadata": {
        "id": "NHYI5VQt44yx"
      },
      "source": [
        "Se utiliza la columna isUnitedStates"
      ]
    },
    {
      "cell_type": "markdown",
      "metadata": {
        "id": "e4qWpAE256p6"
      },
      "source": [
        "## 5. Técnicas de segmentación\n",
        "\n",
        "Explicar por qué sirven"
      ]
    },
    {
      "cell_type": "markdown",
      "metadata": {
        "id": "Bq-ycabT5-Z3"
      },
      "source": [
        "### 5.a K-Means"
      ]
    },
    {
      "cell_type": "markdown",
      "metadata": {
        "id": "kUHG4YcX6AFu"
      },
      "source": [
        "### 5.b DBSCAN"
      ]
    },
    {
      "cell_type": "markdown",
      "metadata": {
        "id": "G7Ppl3X-6FeQ"
      },
      "source": [
        "## 6. Evaluación de modelos"
      ]
    },
    {
      "cell_type": "markdown",
      "metadata": {
        "id": "j_DuwoLG6J62"
      },
      "source": [
        "### 6.a Silhouette Analysis - K-Means"
      ]
    },
    {
      "cell_type": "markdown",
      "metadata": {
        "id": "o6v1w8E96R6x"
      },
      "source": [
        "### 6.b Silhouette Analysis - DBSCAN"
      ]
    },
    {
      "cell_type": "markdown",
      "metadata": {
        "id": "nQ-kG85U6YfS"
      },
      "source": [
        "## 7. Resultados\n",
        "\n",
        "Gráfica + tabla"
      ]
    },
    {
      "cell_type": "markdown",
      "metadata": {
        "id": "CNP-LwGh6alo"
      },
      "source": [
        "## 8. Análisis"
      ]
    }
  ]
}