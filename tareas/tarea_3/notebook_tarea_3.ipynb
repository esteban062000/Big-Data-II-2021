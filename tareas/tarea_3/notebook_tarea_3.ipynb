{
  "nbformat": 4,
  "nbformat_minor": 0,
  "metadata": {
    "orig_nbformat": 4,
    "colab": {
      "name": "notebook_tarea_3.ipynb",
      "provenance": []
    },
    "language_info": {
      "name": "python"
    },
    "kernelspec": {
      "name": "python3",
      "display_name": "Python 3"
    }
  },
  "cells": [
    {
      "cell_type": "markdown",
      "metadata": {
        "id": "YQUrlEz74WZ5"
      },
      "source": [
        "# Determinando la mejor agrupación de las tiendas de Starbucks según su ubicación geográfica\n",
        "\n"
      ]
    },
    {
      "cell_type": "markdown",
      "metadata": {
        "id": "vkzVodtR6grW"
      },
      "source": [
        "## 1. Descripción del problema \n",
        "\n",
        "Se desea conocer cuál es la mejor forma de agrupar las tiendas de Starbucks, a nivel mundial, según su ubicación geográfica. Con esta información, se puede decidir cómo estructurar los cargos administrativos de la empresa; por ejemplo, algunas compañías toman Centroamérica como una región, mientras que otras tienen operaciones específicas para Costa Rica. \n",
        "\n",
        "Para esto, se utilizarán técnicas de aprendizaje no supervisado, específicamente de *clustering*, pues no se conoce con antelación cuál es el mejor agrupamiento de las tiendas. En este contexto, el *mejor agrupamiento* no necesariamente será el óptimo, sino que se refiere al *mejor agrupamiento obtenido por algún algoritmo* pues, como en diversos problemas de aprendizaje no supervisado, no se conoce cuál es la solución óptima al problema."
      ]
    },
    {
      "cell_type": "markdown",
      "metadata": {
        "id": "CfNzZ3Wm4wqQ"
      },
      "source": [
        "## 2. Preprocesamiento y limpieza de datos\n",
        "\n",
        "El preprocesamiento y limpieza de datos se llevó a cabo con **Open Refine**. Se adjunta en el repositorio el historial de acciones realizadas."
      ]
    },
    {
      "cell_type": "markdown",
      "metadata": {
        "id": "RqRgLzE85B8A"
      },
      "source": [
        "### 2.a Eliminar columnas redundantes o que no se utilizarán\n",
        "\n",
        "Las columnas redundantes son aquellas que poseen poca variabilidad, es decir, que poseen el mismo valor en una gran mayoría de las entradas. En este *dataset*, las columnas **Brand** y **Ownership Type** tienen muy poca variabilidad, pues casi la totalidad de las filas tienen los valores *Starbucks* y *Licensed*, respectivamente. Por esta razón, se eliminan del *dataset*.\n",
        "\n",
        "Adicionalmente, se eliminan las columnas que no se utilizarán en el trabajo. Específicamente:\n",
        "\n",
        "- **Store Number**\n",
        "- **Store Name**\n",
        "- **Street Address**\n",
        "- **City**\n",
        "- **State/Province**\n",
        "- **Postcode**\n",
        "- **Phone Number**\n",
        "\n",
        "Esta limpieza se realizara para disminuir el ruido que entrará al modelo, una vez se inicie con el aprendizaje no supervisado."
      ]
    },
    {
      "cell_type": "markdown",
      "metadata": {
        "id": "TfrScgqU5Hs8"
      },
      "source": [
        "### 2.b Cambiar tipo de datos en columnas de Longitud y Latitud\n",
        "\n",
        "Algunos valores en estas columnas son de tipo entero, mientras que la mayoría son de tipo *double*. Para corregir estas inconsistencias, se convertirán todos los valores en la columna a tipo *double*. Esto es necesario puesto que, en algunas ocasiones, los modelos no reconocen estas diferencias en los tipos, por lo que no pueden ejecutarse correctamete."
      ]
    },
    {
      "cell_type": "markdown",
      "metadata": {
        "id": "5jtcchZK42D5"
      },
      "source": [
        "## 3. Transformación de datos\n",
        "\n",
        "La transformación de datos se llevó a cabo con **Open Refine**. Se adjunta en el repositorio el historial de acciones realizadas."
      ]
    },
    {
      "cell_type": "markdown",
      "metadata": {
        "id": "xKWSLNtw5LNa"
      },
      "source": [
        "### 3.a Transformación de la columna Timezone \n",
        "\n",
        "En el *dataset* original, esta columna indica la zona horaria, continente y país de ubicación de la tienda. Se aplicó una transformación para que, únicamente, muestre el continente. De esta forma, si el valor original era\n",
        "\n",
        "> GMT+1:00 Europe/Andorra ,\n",
        "\n",
        "se transforma a\n",
        "\n",
        "> Europe.\n",
        "\n",
        "Esta transformación se llevó a cabo con el siguiente código GREL:\n",
        "\n",
        "```\n",
        "if(contains(value, \"Africa\"),1,if(contains(value, \"America\"),2,if(contains(value, \"Asia\"),3,if(contains(value, \"Europe\"),4,5))))\n",
        "```"
      ]
    },
    {
      "cell_type": "markdown",
      "metadata": {
        "id": "lfJYxH-k5YnM"
      },
      "source": [
        "### 3.b Creación de columna isUnitedStates a partir de Country"
      ]
    },
    {
      "cell_type": "markdown",
      "metadata": {
        "id": "AE5gcA8Q5dUO"
      },
      "source": [
        "Se incluyó una nueva columna con valores booleanos, llamada *isUnitedStates*, creada a partir de la columna *Country*.\n",
        "\n",
        "Esta transformación se llevó a cabo con el siguiente código GREL:\n",
        "\n",
        "```\n",
        "if(value == \"US\", 1,0)\n",
        "```\n",
        "\n",
        "\n",
        "Ambas transformaciones se llevaron a cabo para ser utilizadas en la siguiente sección, Análisis Exploratorio de Datos, donde se lleva a cabo un estudio según las clases (es decir, ubicación) a la que pertenecen las tiendas."
      ]
    },
    {
      "cell_type": "markdown",
      "metadata": {
        "id": "Jttk6M1G4kIw"
      },
      "source": [
        "## 4. Análisis Exploratorio de Datos"
      ]
    },
    {
      "cell_type": "code",
      "metadata": {
        "id": "ZTu-NKeMcHoC",
        "outputId": "59fa1b38-677c-4d94-9dd3-afa25a41b390",
        "colab": {
          "resources": {
            "http://localhost:8080/nbextensions/google.colab/files.js": {
              "data": "Ly8gQ29weXJpZ2h0IDIwMTcgR29vZ2xlIExMQwovLwovLyBMaWNlbnNlZCB1bmRlciB0aGUgQXBhY2hlIExpY2Vuc2UsIFZlcnNpb24gMi4wICh0aGUgIkxpY2Vuc2UiKTsKLy8geW91IG1heSBub3QgdXNlIHRoaXMgZmlsZSBleGNlcHQgaW4gY29tcGxpYW5jZSB3aXRoIHRoZSBMaWNlbnNlLgovLyBZb3UgbWF5IG9idGFpbiBhIGNvcHkgb2YgdGhlIExpY2Vuc2UgYXQKLy8KLy8gICAgICBodHRwOi8vd3d3LmFwYWNoZS5vcmcvbGljZW5zZXMvTElDRU5TRS0yLjAKLy8KLy8gVW5sZXNzIHJlcXVpcmVkIGJ5IGFwcGxpY2FibGUgbGF3IG9yIGFncmVlZCB0byBpbiB3cml0aW5nLCBzb2Z0d2FyZQovLyBkaXN0cmlidXRlZCB1bmRlciB0aGUgTGljZW5zZSBpcyBkaXN0cmlidXRlZCBvbiBhbiAiQVMgSVMiIEJBU0lTLAovLyBXSVRIT1VUIFdBUlJBTlRJRVMgT1IgQ09ORElUSU9OUyBPRiBBTlkgS0lORCwgZWl0aGVyIGV4cHJlc3Mgb3IgaW1wbGllZC4KLy8gU2VlIHRoZSBMaWNlbnNlIGZvciB0aGUgc3BlY2lmaWMgbGFuZ3VhZ2UgZ292ZXJuaW5nIHBlcm1pc3Npb25zIGFuZAovLyBsaW1pdGF0aW9ucyB1bmRlciB0aGUgTGljZW5zZS4KCi8qKgogKiBAZmlsZW92ZXJ2aWV3IEhlbHBlcnMgZm9yIGdvb2dsZS5jb2xhYiBQeXRob24gbW9kdWxlLgogKi8KKGZ1bmN0aW9uKHNjb3BlKSB7CmZ1bmN0aW9uIHNwYW4odGV4dCwgc3R5bGVBdHRyaWJ1dGVzID0ge30pIHsKICBjb25zdCBlbGVtZW50ID0gZG9jdW1lbnQuY3JlYXRlRWxlbWVudCgnc3BhbicpOwogIGVsZW1lbnQudGV4dENvbnRlbnQgPSB0ZXh0OwogIGZvciAoY29uc3Qga2V5IG9mIE9iamVjdC5rZXlzKHN0eWxlQXR0cmlidXRlcykpIHsKICAgIGVsZW1lbnQuc3R5bGVba2V5XSA9IHN0eWxlQXR0cmlidXRlc1trZXldOwogIH0KICByZXR1cm4gZWxlbWVudDsKfQoKLy8gTWF4IG51bWJlciBvZiBieXRlcyB3aGljaCB3aWxsIGJlIHVwbG9hZGVkIGF0IGEgdGltZS4KY29uc3QgTUFYX1BBWUxPQURfU0laRSA9IDEwMCAqIDEwMjQ7CgpmdW5jdGlvbiBfdXBsb2FkRmlsZXMoaW5wdXRJZCwgb3V0cHV0SWQpIHsKICBjb25zdCBzdGVwcyA9IHVwbG9hZEZpbGVzU3RlcChpbnB1dElkLCBvdXRwdXRJZCk7CiAgY29uc3Qgb3V0cHV0RWxlbWVudCA9IGRvY3VtZW50LmdldEVsZW1lbnRCeUlkKG91dHB1dElkKTsKICAvLyBDYWNoZSBzdGVwcyBvbiB0aGUgb3V0cHV0RWxlbWVudCB0byBtYWtlIGl0IGF2YWlsYWJsZSBmb3IgdGhlIG5leHQgY2FsbAogIC8vIHRvIHVwbG9hZEZpbGVzQ29udGludWUgZnJvbSBQeXRob24uCiAgb3V0cHV0RWxlbWVudC5zdGVwcyA9IHN0ZXBzOwoKICByZXR1cm4gX3VwbG9hZEZpbGVzQ29udGludWUob3V0cHV0SWQpOwp9CgovLyBUaGlzIGlzIHJvdWdobHkgYW4gYXN5bmMgZ2VuZXJhdG9yIChub3Qgc3VwcG9ydGVkIGluIHRoZSBicm93c2VyIHlldCksCi8vIHdoZXJlIHRoZXJlIGFyZSBtdWx0aXBsZSBhc3luY2hyb25vdXMgc3RlcHMgYW5kIHRoZSBQeXRob24gc2lkZSBpcyBnb2luZwovLyB0byBwb2xsIGZvciBjb21wbGV0aW9uIG9mIGVhY2ggc3RlcC4KLy8gVGhpcyB1c2VzIGEgUHJvbWlzZSB0byBibG9jayB0aGUgcHl0aG9uIHNpZGUgb24gY29tcGxldGlvbiBvZiBlYWNoIHN0ZXAsCi8vIHRoZW4gcGFzc2VzIHRoZSByZXN1bHQgb2YgdGhlIHByZXZpb3VzIHN0ZXAgYXMgdGhlIGlucHV0IHRvIHRoZSBuZXh0IHN0ZXAuCmZ1bmN0aW9uIF91cGxvYWRGaWxlc0NvbnRpbnVlKG91dHB1dElkKSB7CiAgY29uc3Qgb3V0cHV0RWxlbWVudCA9IGRvY3VtZW50LmdldEVsZW1lbnRCeUlkKG91dHB1dElkKTsKICBjb25zdCBzdGVwcyA9IG91dHB1dEVsZW1lbnQuc3RlcHM7CgogIGNvbnN0IG5leHQgPSBzdGVwcy5uZXh0KG91dHB1dEVsZW1lbnQubGFzdFByb21pc2VWYWx1ZSk7CiAgcmV0dXJuIFByb21pc2UucmVzb2x2ZShuZXh0LnZhbHVlLnByb21pc2UpLnRoZW4oKHZhbHVlKSA9PiB7CiAgICAvLyBDYWNoZSB0aGUgbGFzdCBwcm9taXNlIHZhbHVlIHRvIG1ha2UgaXQgYXZhaWxhYmxlIHRvIHRoZSBuZXh0CiAgICAvLyBzdGVwIG9mIHRoZSBnZW5lcmF0b3IuCiAgICBvdXRwdXRFbGVtZW50Lmxhc3RQcm9taXNlVmFsdWUgPSB2YWx1ZTsKICAgIHJldHVybiBuZXh0LnZhbHVlLnJlc3BvbnNlOwogIH0pOwp9CgovKioKICogR2VuZXJhdG9yIGZ1bmN0aW9uIHdoaWNoIGlzIGNhbGxlZCBiZXR3ZWVuIGVhY2ggYXN5bmMgc3RlcCBvZiB0aGUgdXBsb2FkCiAqIHByb2Nlc3MuCiAqIEBwYXJhbSB7c3RyaW5nfSBpbnB1dElkIEVsZW1lbnQgSUQgb2YgdGhlIGlucHV0IGZpbGUgcGlja2VyIGVsZW1lbnQuCiAqIEBwYXJhbSB7c3RyaW5nfSBvdXRwdXRJZCBFbGVtZW50IElEIG9mIHRoZSBvdXRwdXQgZGlzcGxheS4KICogQHJldHVybiB7IUl0ZXJhYmxlPCFPYmplY3Q+fSBJdGVyYWJsZSBvZiBuZXh0IHN0ZXBzLgogKi8KZnVuY3Rpb24qIHVwbG9hZEZpbGVzU3RlcChpbnB1dElkLCBvdXRwdXRJZCkgewogIGNvbnN0IGlucHV0RWxlbWVudCA9IGRvY3VtZW50LmdldEVsZW1lbnRCeUlkKGlucHV0SWQpOwogIGlucHV0RWxlbWVudC5kaXNhYmxlZCA9IGZhbHNlOwoKICBjb25zdCBvdXRwdXRFbGVtZW50ID0gZG9jdW1lbnQuZ2V0RWxlbWVudEJ5SWQob3V0cHV0SWQpOwogIG91dHB1dEVsZW1lbnQuaW5uZXJIVE1MID0gJyc7CgogIGNvbnN0IHBpY2tlZFByb21pc2UgPSBuZXcgUHJvbWlzZSgocmVzb2x2ZSkgPT4gewogICAgaW5wdXRFbGVtZW50LmFkZEV2ZW50TGlzdGVuZXIoJ2NoYW5nZScsIChlKSA9PiB7CiAgICAgIHJlc29sdmUoZS50YXJnZXQuZmlsZXMpOwogICAgfSk7CiAgfSk7CgogIGNvbnN0IGNhbmNlbCA9IGRvY3VtZW50LmNyZWF0ZUVsZW1lbnQoJ2J1dHRvbicpOwogIGlucHV0RWxlbWVudC5wYXJlbnRFbGVtZW50LmFwcGVuZENoaWxkKGNhbmNlbCk7CiAgY2FuY2VsLnRleHRDb250ZW50ID0gJ0NhbmNlbCB1cGxvYWQnOwogIGNvbnN0IGNhbmNlbFByb21pc2UgPSBuZXcgUHJvbWlzZSgocmVzb2x2ZSkgPT4gewogICAgY2FuY2VsLm9uY2xpY2sgPSAoKSA9PiB7CiAgICAgIHJlc29sdmUobnVsbCk7CiAgICB9OwogIH0pOwoKICAvLyBXYWl0IGZvciB0aGUgdXNlciB0byBwaWNrIHRoZSBmaWxlcy4KICBjb25zdCBmaWxlcyA9IHlpZWxkIHsKICAgIHByb21pc2U6IFByb21pc2UucmFjZShbcGlja2VkUHJvbWlzZSwgY2FuY2VsUHJvbWlzZV0pLAogICAgcmVzcG9uc2U6IHsKICAgICAgYWN0aW9uOiAnc3RhcnRpbmcnLAogICAgfQogIH07CgogIGNhbmNlbC5yZW1vdmUoKTsKCiAgLy8gRGlzYWJsZSB0aGUgaW5wdXQgZWxlbWVudCBzaW5jZSBmdXJ0aGVyIHBpY2tzIGFyZSBub3QgYWxsb3dlZC4KICBpbnB1dEVsZW1lbnQuZGlzYWJsZWQgPSB0cnVlOwoKICBpZiAoIWZpbGVzKSB7CiAgICByZXR1cm4gewogICAgICByZXNwb25zZTogewogICAgICAgIGFjdGlvbjogJ2NvbXBsZXRlJywKICAgICAgfQogICAgfTsKICB9CgogIGZvciAoY29uc3QgZmlsZSBvZiBmaWxlcykgewogICAgY29uc3QgbGkgPSBkb2N1bWVudC5jcmVhdGVFbGVtZW50KCdsaScpOwogICAgbGkuYXBwZW5kKHNwYW4oZmlsZS5uYW1lLCB7Zm9udFdlaWdodDogJ2JvbGQnfSkpOwogICAgbGkuYXBwZW5kKHNwYW4oCiAgICAgICAgYCgke2ZpbGUudHlwZSB8fCAnbi9hJ30pIC0gJHtmaWxlLnNpemV9IGJ5dGVzLCBgICsKICAgICAgICBgbGFzdCBtb2RpZmllZDogJHsKICAgICAgICAgICAgZmlsZS5sYXN0TW9kaWZpZWREYXRlID8gZmlsZS5sYXN0TW9kaWZpZWREYXRlLnRvTG9jYWxlRGF0ZVN0cmluZygpIDoKICAgICAgICAgICAgICAgICAgICAgICAgICAgICAgICAgICAgJ24vYSd9IC0gYCkpOwogICAgY29uc3QgcGVyY2VudCA9IHNwYW4oJzAlIGRvbmUnKTsKICAgIGxpLmFwcGVuZENoaWxkKHBlcmNlbnQpOwoKICAgIG91dHB1dEVsZW1lbnQuYXBwZW5kQ2hpbGQobGkpOwoKICAgIGNvbnN0IGZpbGVEYXRhUHJvbWlzZSA9IG5ldyBQcm9taXNlKChyZXNvbHZlKSA9PiB7CiAgICAgIGNvbnN0IHJlYWRlciA9IG5ldyBGaWxlUmVhZGVyKCk7CiAgICAgIHJlYWRlci5vbmxvYWQgPSAoZSkgPT4gewogICAgICAgIHJlc29sdmUoZS50YXJnZXQucmVzdWx0KTsKICAgICAgfTsKICAgICAgcmVhZGVyLnJlYWRBc0FycmF5QnVmZmVyKGZpbGUpOwogICAgfSk7CiAgICAvLyBXYWl0IGZvciB0aGUgZGF0YSB0byBiZSByZWFkeS4KICAgIGxldCBmaWxlRGF0YSA9IHlpZWxkIHsKICAgICAgcHJvbWlzZTogZmlsZURhdGFQcm9taXNlLAogICAgICByZXNwb25zZTogewogICAgICAgIGFjdGlvbjogJ2NvbnRpbnVlJywKICAgICAgfQogICAgfTsKCiAgICAvLyBVc2UgYSBjaHVua2VkIHNlbmRpbmcgdG8gYXZvaWQgbWVzc2FnZSBzaXplIGxpbWl0cy4gU2VlIGIvNjIxMTU2NjAuCiAgICBsZXQgcG9zaXRpb24gPSAwOwogICAgZG8gewogICAgICBjb25zdCBsZW5ndGggPSBNYXRoLm1pbihmaWxlRGF0YS5ieXRlTGVuZ3RoIC0gcG9zaXRpb24sIE1BWF9QQVlMT0FEX1NJWkUpOwogICAgICBjb25zdCBjaHVuayA9IG5ldyBVaW50OEFycmF5KGZpbGVEYXRhLCBwb3NpdGlvbiwgbGVuZ3RoKTsKICAgICAgcG9zaXRpb24gKz0gbGVuZ3RoOwoKICAgICAgY29uc3QgYmFzZTY0ID0gYnRvYShTdHJpbmcuZnJvbUNoYXJDb2RlLmFwcGx5KG51bGwsIGNodW5rKSk7CiAgICAgIHlpZWxkIHsKICAgICAgICByZXNwb25zZTogewogICAgICAgICAgYWN0aW9uOiAnYXBwZW5kJywKICAgICAgICAgIGZpbGU6IGZpbGUubmFtZSwKICAgICAgICAgIGRhdGE6IGJhc2U2NCwKICAgICAgICB9LAogICAgICB9OwoKICAgICAgbGV0IHBlcmNlbnREb25lID0gZmlsZURhdGEuYnl0ZUxlbmd0aCA9PT0gMCA/CiAgICAgICAgICAxMDAgOgogICAgICAgICAgTWF0aC5yb3VuZCgocG9zaXRpb24gLyBmaWxlRGF0YS5ieXRlTGVuZ3RoKSAqIDEwMCk7CiAgICAgIHBlcmNlbnQudGV4dENvbnRlbnQgPSBgJHtwZXJjZW50RG9uZX0lIGRvbmVgOwoKICAgIH0gd2hpbGUgKHBvc2l0aW9uIDwgZmlsZURhdGEuYnl0ZUxlbmd0aCk7CiAgfQoKICAvLyBBbGwgZG9uZS4KICB5aWVsZCB7CiAgICByZXNwb25zZTogewogICAgICBhY3Rpb246ICdjb21wbGV0ZScsCiAgICB9CiAgfTsKfQoKc2NvcGUuZ29vZ2xlID0gc2NvcGUuZ29vZ2xlIHx8IHt9OwpzY29wZS5nb29nbGUuY29sYWIgPSBzY29wZS5nb29nbGUuY29sYWIgfHwge307CnNjb3BlLmdvb2dsZS5jb2xhYi5fZmlsZXMgPSB7CiAgX3VwbG9hZEZpbGVzLAogIF91cGxvYWRGaWxlc0NvbnRpbnVlLAp9Owp9KShzZWxmKTsK",
              "ok": true,
              "headers": [
                [
                  "content-type",
                  "application/javascript"
                ]
              ],
              "status": 200,
              "status_text": ""
            }
          },
          "base_uri": "https://localhost:8080/",
          "height": 73
        }
      },
      "source": [
        "from google.colab import files\n",
        "import matplotlib.pyplot as plt \n",
        "import pandas as pd\n",
        "import numpy as np \n",
        "from numpy import unique\n",
        "from numpy import where\n",
        "from scipy.stats import pearsonr\n",
        "import seaborn as sns\n",
        "from sklearn.datasets import make_classification\n",
        "from sklearn.cluster import KMeans\n",
        "from sklearn.cluster import DBSCAN\n",
        "from sklearn.decomposition import PCA\n",
        "from sklearn.neighbors import NearestNeighbors\n",
        "from matplotlib import pyplot\n",
        "import pandas as pd\n",
        "\n",
        "uploaded = files.upload()\n",
        "data = pd.read_csv('Starbucks.csv')"
      ],
      "execution_count": 1,
      "outputs": [
        {
          "output_type": "display_data",
          "data": {
            "text/html": [
              "\n",
              "     <input type=\"file\" id=\"files-af8aa131-dddd-4343-8e11-c97ab1bfd224\" name=\"files[]\" multiple disabled\n",
              "        style=\"border:none\" />\n",
              "     <output id=\"result-af8aa131-dddd-4343-8e11-c97ab1bfd224\">\n",
              "      Upload widget is only available when the cell has been executed in the\n",
              "      current browser session. Please rerun this cell to enable.\n",
              "      </output>\n",
              "      <script src=\"/nbextensions/google.colab/files.js\"></script> "
            ],
            "text/plain": [
              "<IPython.core.display.HTML object>"
            ]
          },
          "metadata": {}
        },
        {
          "output_type": "stream",
          "name": "stdout",
          "text": [
            "Saving Starbucks.csv to Starbucks.csv\n"
          ]
        }
      ]
    },
    {
      "cell_type": "markdown",
      "metadata": {
        "id": "S2cP6x1K4pPo"
      },
      "source": [
        "### 4.a Estadística Descriptiva\n",
        "\n",
        "Primeramente, se observa cómo luce el conjunto de datos una vez limpiado:"
      ]
    },
    {
      "cell_type": "code",
      "metadata": {
        "id": "Hx_oor6L-9JS",
        "outputId": "2b768086-01c2-4cff-b513-106594c623a0",
        "colab": {
          "base_uri": "https://localhost:8080/",
          "height": 206
        }
      },
      "source": [
        "data.head()"
      ],
      "execution_count": 2,
      "outputs": [
        {
          "output_type": "execute_result",
          "data": {
            "text/html": [
              "<div>\n",
              "<style scoped>\n",
              "    .dataframe tbody tr th:only-of-type {\n",
              "        vertical-align: middle;\n",
              "    }\n",
              "\n",
              "    .dataframe tbody tr th {\n",
              "        vertical-align: top;\n",
              "    }\n",
              "\n",
              "    .dataframe thead th {\n",
              "        text-align: right;\n",
              "    }\n",
              "</style>\n",
              "<table border=\"1\" class=\"dataframe\">\n",
              "  <thead>\n",
              "    <tr style=\"text-align: right;\">\n",
              "      <th></th>\n",
              "      <th>isUnitedStates</th>\n",
              "      <th>Continent</th>\n",
              "      <th>Longitude</th>\n",
              "      <th>Latitude</th>\n",
              "    </tr>\n",
              "  </thead>\n",
              "  <tbody>\n",
              "    <tr>\n",
              "      <th>0</th>\n",
              "      <td>0</td>\n",
              "      <td>4</td>\n",
              "      <td>1.53</td>\n",
              "      <td>42.51</td>\n",
              "    </tr>\n",
              "    <tr>\n",
              "      <th>1</th>\n",
              "      <td>0</td>\n",
              "      <td>3</td>\n",
              "      <td>55.47</td>\n",
              "      <td>25.42</td>\n",
              "    </tr>\n",
              "    <tr>\n",
              "      <th>2</th>\n",
              "      <td>0</td>\n",
              "      <td>3</td>\n",
              "      <td>55.47</td>\n",
              "      <td>25.39</td>\n",
              "    </tr>\n",
              "    <tr>\n",
              "      <th>3</th>\n",
              "      <td>0</td>\n",
              "      <td>3</td>\n",
              "      <td>54.38</td>\n",
              "      <td>24.48</td>\n",
              "    </tr>\n",
              "    <tr>\n",
              "      <th>4</th>\n",
              "      <td>0</td>\n",
              "      <td>3</td>\n",
              "      <td>54.54</td>\n",
              "      <td>24.51</td>\n",
              "    </tr>\n",
              "  </tbody>\n",
              "</table>\n",
              "</div>"
            ],
            "text/plain": [
              "   isUnitedStates  Continent  Longitude  Latitude\n",
              "0               0          4       1.53     42.51\n",
              "1               0          3      55.47     25.42\n",
              "2               0          3      55.47     25.39\n",
              "3               0          3      54.38     24.48\n",
              "4               0          3      54.54     24.51"
            ]
          },
          "metadata": {},
          "execution_count": 2
        }
      ]
    },
    {
      "cell_type": "markdown",
      "metadata": {
        "id": "DSv0TEef-_IQ"
      },
      "source": [
        "Luego, se pueden obtener las principales medidas estadísticas para cada atributo en los datos:"
      ]
    },
    {
      "cell_type": "code",
      "metadata": {
        "id": "WbXw3EOs_DwD",
        "outputId": "27a90354-6683-41f3-9157-93947a8a803e",
        "colab": {
          "base_uri": "https://localhost:8080/",
          "height": 300
        }
      },
      "source": [
        "data.describe()"
      ],
      "execution_count": 3,
      "outputs": [
        {
          "output_type": "execute_result",
          "data": {
            "text/html": [
              "<div>\n",
              "<style scoped>\n",
              "    .dataframe tbody tr th:only-of-type {\n",
              "        vertical-align: middle;\n",
              "    }\n",
              "\n",
              "    .dataframe tbody tr th {\n",
              "        vertical-align: top;\n",
              "    }\n",
              "\n",
              "    .dataframe thead th {\n",
              "        text-align: right;\n",
              "    }\n",
              "</style>\n",
              "<table border=\"1\" class=\"dataframe\">\n",
              "  <thead>\n",
              "    <tr style=\"text-align: right;\">\n",
              "      <th></th>\n",
              "      <th>isUnitedStates</th>\n",
              "      <th>Continent</th>\n",
              "      <th>Longitude</th>\n",
              "      <th>Latitude</th>\n",
              "    </tr>\n",
              "  </thead>\n",
              "  <tbody>\n",
              "    <tr>\n",
              "      <th>count</th>\n",
              "      <td>25599.000000</td>\n",
              "      <td>25599.000000</td>\n",
              "      <td>25599.000000</td>\n",
              "      <td>25599.000000</td>\n",
              "    </tr>\n",
              "    <tr>\n",
              "      <th>mean</th>\n",
              "      <td>0.531583</td>\n",
              "      <td>2.458221</td>\n",
              "      <td>-27.872234</td>\n",
              "      <td>34.793016</td>\n",
              "    </tr>\n",
              "    <tr>\n",
              "      <th>std</th>\n",
              "      <td>0.499011</td>\n",
              "      <td>0.663441</td>\n",
              "      <td>96.844046</td>\n",
              "      <td>13.342332</td>\n",
              "    </tr>\n",
              "    <tr>\n",
              "      <th>min</th>\n",
              "      <td>0.000000</td>\n",
              "      <td>1.000000</td>\n",
              "      <td>-159.460000</td>\n",
              "      <td>-46.410000</td>\n",
              "    </tr>\n",
              "    <tr>\n",
              "      <th>25%</th>\n",
              "      <td>0.000000</td>\n",
              "      <td>2.000000</td>\n",
              "      <td>-104.665000</td>\n",
              "      <td>31.240000</td>\n",
              "    </tr>\n",
              "    <tr>\n",
              "      <th>50%</th>\n",
              "      <td>1.000000</td>\n",
              "      <td>2.000000</td>\n",
              "      <td>-79.350000</td>\n",
              "      <td>36.750000</td>\n",
              "    </tr>\n",
              "    <tr>\n",
              "      <th>75%</th>\n",
              "      <td>1.000000</td>\n",
              "      <td>3.000000</td>\n",
              "      <td>100.630000</td>\n",
              "      <td>41.570000</td>\n",
              "    </tr>\n",
              "    <tr>\n",
              "      <th>max</th>\n",
              "      <td>1.000000</td>\n",
              "      <td>5.000000</td>\n",
              "      <td>176.920000</td>\n",
              "      <td>64.850000</td>\n",
              "    </tr>\n",
              "  </tbody>\n",
              "</table>\n",
              "</div>"
            ],
            "text/plain": [
              "       isUnitedStates     Continent     Longitude      Latitude\n",
              "count    25599.000000  25599.000000  25599.000000  25599.000000\n",
              "mean         0.531583      2.458221    -27.872234     34.793016\n",
              "std          0.499011      0.663441     96.844046     13.342332\n",
              "min          0.000000      1.000000   -159.460000    -46.410000\n",
              "25%          0.000000      2.000000   -104.665000     31.240000\n",
              "50%          1.000000      2.000000    -79.350000     36.750000\n",
              "75%          1.000000      3.000000    100.630000     41.570000\n",
              "max          1.000000      5.000000    176.920000     64.850000"
            ]
          },
          "metadata": {},
          "execution_count": 3
        }
      ]
    },
    {
      "cell_type": "markdown",
      "metadata": {
        "id": "ha9PMITF_FZj"
      },
      "source": [
        "Seguidamente, se realizan distintos gráficos para obtener una impresión visual de la composición de los datos."
      ]
    },
    {
      "cell_type": "markdown",
      "metadata": {
        "id": "VaVcdO0f_LOP"
      },
      "source": [
        "#### 4.a.1 Histograma para Continent\n",
        "\n"
      ]
    },
    {
      "cell_type": "code",
      "metadata": {
        "id": "jERLquGgdMy1",
        "outputId": "9cfcfc89-54f2-400f-cc13-6eccf5251510",
        "colab": {
          "base_uri": "https://localhost:8080/",
          "height": 295
        }
      },
      "source": [
        "plt.title('Tiendas de Starbucks por continente')\n",
        "plt.xlabel('Continente')\n",
        "plt.ylabel('Cantidad de tiendas')\n",
        "plt.hist(data['Continent'], edgecolor=\"k\")\n",
        "plt.show()"
      ],
      "execution_count": 29,
      "outputs": [
        {
          "output_type": "display_data",
          "data": {
            "image/png": "[encoded data removed]",
            "text/plain": [
              "<Figure size 432x288 with 1 Axes>"
            ]
          },
          "metadata": {
            "needs_background": "light"
          }
        }
      ]
    },
    {
      "cell_type": "markdown",
      "metadata": {
        "id": "yijXswln_QKB"
      },
      "source": [
        "#### 4.a.2 Histograma para isUnitedStates"
      ]
    },
    {
      "cell_type": "code",
      "metadata": {
        "id": "WrFF7Bj8hG78",
        "outputId": "3985b362-257c-483a-8465-5ea6a0160ef5",
        "colab": {
          "base_uri": "https://localhost:8080/",
          "height": 295
        }
      },
      "source": [
        "plt.title('Tiendas de Starbucks en Estados Unidos y en el extranjero')\n",
        "plt.xlabel('Extranjero vs Estados Unidos')\n",
        "plt.ylabel('Cantidad de tiendas')\n",
        "plt.hist(data['isUnitedStates'], edgecolor=\"k\")\n",
        "plt.show()"
      ],
      "execution_count": 31,
      "outputs": [
        {
          "output_type": "display_data",
          "data": {
            "image/png": "[encoded data removed]",
            "text/plain": [
              "<Figure size 432x288 with 1 Axes>"
            ]
          },
          "metadata": {
            "needs_background": "light"
          }
        }
      ]
    },
    {
      "cell_type": "markdown",
      "metadata": {
        "id": "qNg66sDj_WbE"
      },
      "source": [
        "#### 4.a.3 Diagrama de cajas para Longitud"
      ]
    },
    {
      "cell_type": "code",
      "metadata": {
        "id": "UXPVsdUChV1j",
        "outputId": "b166e5b8-33e4-4327-bc5a-1e492a6217cd",
        "colab": {
          "base_uri": "https://localhost:8080/",
          "height": 295
        }
      },
      "source": [
        "plt.title('Coordenadas de Longitud en las Tiendas de Starbucks')\n",
        "plt.xlabel('Longitud')\n",
        "plt.ylabel('Coordenada')\n",
        "plt.boxplot(data['Longitude'])\n",
        "plt.show()"
      ],
      "execution_count": 34,
      "outputs": [
        {
          "output_type": "display_data",
          "data": {
            "image/png": "[encoded data removed]",
            "text/plain": [
              "<Figure size 432x288 with 1 Axes>"
            ]
          },
          "metadata": {
            "needs_background": "light"
          }
        }
      ]
    },
    {
      "cell_type": "markdown",
      "metadata": {
        "id": "7PXnJWF9_aAq"
      },
      "source": [
        "#### 4.a.4 Diagrama de cajas para Latitud"
      ]
    },
    {
      "cell_type": "code",
      "metadata": {
        "id": "35c-lEvRh2cy",
        "outputId": "0a4753c3-e542-4d91-8cbe-e8d2d60e32d4",
        "colab": {
          "base_uri": "https://localhost:8080/",
          "height": 295
        }
      },
      "source": [
        "plt.title('Coordenadas de Latitud en las Tiendas de Starbucks')\n",
        "plt.xlabel('Latitud')\n",
        "plt.ylabel('Coordenada')\n",
        "plt.boxplot(data['Latitude'])\n",
        "plt.show()"
      ],
      "execution_count": 35,
      "outputs": [
        {
          "output_type": "display_data",
          "data": {
            "image/png": "[encoded data removed]",
            "text/plain": [
              "<Figure size 432x288 with 1 Axes>"
            ]
          },
          "metadata": {
            "needs_background": "light"
          }
        }
      ]
    },
    {
      "cell_type": "markdown",
      "metadata": {
        "id": "upUsTBgx4r9y"
      },
      "source": [
        "### 4.b Particionamiento en clases"
      ]
    },
    {
      "cell_type": "markdown",
      "metadata": {
        "id": "NHYI5VQt44yx"
      },
      "source": [
        "Puesto que Starbucks es una compañía estadounidense, se espera que la mayoría de sus tiendas se encuentren en los Estados Unidos. Por ende, al confirmar esta suposición con la información proveniente de los datos, se agruparán en dos clases: las tienas que pertenecen a los Estados Unidos y las que no. Con esto, se pueden tener impresiones sobre sus coordenadas geográficas, una vez separadas en estos dos tipos.\n",
        "\n",
        "En línea con el objetivo de la investigación, es común que las empresas administren sus cargos ejecutivos de una manera distinta según se trate de tiendas locales o en el extranjero. Por ende, es natural la separación entre tiendas ubicadas en el país de procedencia y aquellas ubicadas en otros países."
      ]
    },
    {
      "cell_type": "code",
      "metadata": {
        "id": "9qta12j2AIws",
        "outputId": "892a473b-e8ca-49ba-c54a-0baca57a9d37",
        "colab": {
          "base_uri": "https://localhost:8080/"
        }
      },
      "source": [
        "dataUS = data[(data[\"isUnitedStates\"] == 1)]\n",
        "dataOtherCountries = data[(data[\"isUnitedStates\"] == 0)]\n",
        "print(\"Observaciones totales = \", len(data))\n",
        "print(\"Observaciones de Estados Unidos = \", len(dataUS))\n",
        "print(\"Observaciones de otros paises = \", len(dataOtherCountries))"
      ],
      "execution_count": 41,
      "outputs": [
        {
          "output_type": "stream",
          "name": "stdout",
          "text": [
            "Observaciones totales =  25599\n",
            "Observaciones de Estados Unidos =  13608\n",
            "Observaciones de otros paises =  11991\n"
          ]
        }
      ]
    },
    {
      "cell_type": "markdown",
      "metadata": {
        "id": "2slwYoDkALOZ"
      },
      "source": [
        "#### 4.b.1 Diagrama de cajas para columna Longitud de tiendas en Estados Unidos"
      ]
    },
    {
      "cell_type": "code",
      "metadata": {
        "id": "XV0ztAGmi2r3",
        "outputId": "f5928cb0-36d1-4aa6-f29d-057a30551a4e",
        "colab": {
          "base_uri": "https://localhost:8080/",
          "height": 295
        }
      },
      "source": [
        "plt.title('Coordenadas de Longitud en las Tiendas de Starbucks en Estados Unidos')\n",
        "plt.xlabel('Longitud')\n",
        "plt.ylabel('Coordenada')\n",
        "plt.boxplot(dataUS['Longitude'])\n",
        "plt.show()"
      ],
      "execution_count": 42,
      "outputs": [
        {
          "output_type": "display_data",
          "data": {
            "image/png": "[encoded data removed]",
            "text/plain": [
              "<Figure size 432x288 with 1 Axes>"
            ]
          },
          "metadata": {
            "needs_background": "light"
          }
        }
      ]
    },
    {
      "cell_type": "markdown",
      "metadata": {
        "id": "h6gBHpAPAUAf"
      },
      "source": [
        "#### 4.b.2 Diagrama de cajas para columna Latitud de tiendas en Estados Unidos"
      ]
    },
    {
      "cell_type": "code",
      "metadata": {
        "id": "briVXVLhjAg-",
        "outputId": "3e1cc0de-9bff-42ae-9174-16042a368a53",
        "colab": {
          "base_uri": "https://localhost:8080/",
          "height": 295
        }
      },
      "source": [
        "plt.title('Coordenadas de Latitud en las Tiendas de Starbucks en Estados Unidos')\n",
        "plt.xlabel('Latitud')\n",
        "plt.ylabel('Coordenada')\n",
        "plt.boxplot(dataUS['Latitude'])\n",
        "plt.show()"
      ],
      "execution_count": 43,
      "outputs": [
        {
          "output_type": "display_data",
          "data": {
            "image/png": "[encoded data removed]",
            "text/plain": [
              "<Figure size 432x288 with 1 Axes>"
            ]
          },
          "metadata": {
            "needs_background": "light"
          }
        }
      ]
    },
    {
      "cell_type": "markdown",
      "metadata": {
        "id": "iFWFX9rNAWs2"
      },
      "source": [
        "#### 4.b.3 Diagrama de cajas para columna Longitud de tiendas fuera de Estados Unidos"
      ]
    },
    {
      "cell_type": "code",
      "metadata": {
        "id": "IlbP0O4bjIPe",
        "outputId": "85e248d9-13fb-448d-be65-5d132f937c76",
        "colab": {
          "base_uri": "https://localhost:8080/",
          "height": 295
        }
      },
      "source": [
        "plt.title('Coordenadas de Longitud en las Tiendas de Starbucks fuera de Estados Unidos')\n",
        "plt.xlabel('Longitud')\n",
        "plt.ylabel('Coordenada')\n",
        "plt.boxplot(dataOtherCountries['Longitude'])\n",
        "plt.show()"
      ],
      "execution_count": 45,
      "outputs": [
        {
          "output_type": "display_data",
          "data": {
            "image/png": "[encoded data removed]",
            "text/plain": [
              "<Figure size 432x288 with 1 Axes>"
            ]
          },
          "metadata": {
            "needs_background": "light"
          }
        }
      ]
    },
    {
      "cell_type": "markdown",
      "metadata": {
        "id": "O3nETde2AZ67"
      },
      "source": [
        "#### 4.b.4 Diagrama de cajas para columna Latitud de tiendas fuera de Estados Unidos"
      ]
    },
    {
      "cell_type": "code",
      "metadata": {
        "id": "vCc7ejKVjDjv",
        "outputId": "9c3a0e3c-8f6d-4510-fa89-bac76c952bf4",
        "colab": {
          "base_uri": "https://localhost:8080/",
          "height": 295
        }
      },
      "source": [
        "plt.title('Coordenadas de Latitud en las Tiendas de Starbucks fuera de Estados Unidos')\n",
        "plt.xlabel('Latitud')\n",
        "plt.ylabel('Coordenada')\n",
        "plt.boxplot(dataOtherCountries['Latitude'])\n",
        "plt.show()"
      ],
      "execution_count": 44,
      "outputs": [
        {
          "output_type": "display_data",
          "data": {
            "image/png": "[encoded data removed]",
            "text/plain": [
              "<Figure size 432x288 with 1 Axes>"
            ]
          },
          "metadata": {
            "needs_background": "light"
          }
        }
      ]
    },
    {
      "cell_type": "markdown",
      "metadata": {
        "id": "YnprGCB_jZps"
      },
      "source": [
        "Con las observaciones anteriores, se pudo obtener una impresión gráfica de cómo están compuestos los datos. Primero, se puede concluir que la cantidad de tiendas en Estados Unidos es mayor que la totalidad de las tiendas de Starbucks en el resto del mundo; esto confirma que, al estructurar los cargos administrativos de la compañía, se debe tener especial atención en el caso de Estados Unidos, pues contiene muchas más tiendas que cualquier otro país.\n",
        "\n",
        "También, al realizar la separación por clases, se puede ver cómo se redujeron los valores tanto de longitud y latitud en el caso de los datos que únicamente toman en cuenta a Estados Unidos. Esto corresponde con los datos del mundo real, pues ese país se encuentra al oeste del meridiano Greenwich y al norte del Ecuador, por lo que su longitud y latitud serán, respectivamente, negativas y positivas."
      ]
    },
    {
      "cell_type": "markdown",
      "metadata": {
        "id": "e4qWpAE256p6"
      },
      "source": [
        "## 5. Técnicas de segmentación\n",
        "\n",
        "Explicar por qué sirven"
      ]
    },
    {
      "cell_type": "markdown",
      "metadata": {
        "id": "Bq-ycabT5-Z3"
      },
      "source": [
        "### 5.a K-Means"
      ]
    },
    {
      "cell_type": "markdown",
      "metadata": {
        "id": "kUHG4YcX6AFu"
      },
      "source": [
        "### 5.b DBSCAN"
      ]
    },
    {
      "cell_type": "markdown",
      "metadata": {
        "id": "G7Ppl3X-6FeQ"
      },
      "source": [
        "## 6. Evaluación de modelos"
      ]
    },
    {
      "cell_type": "markdown",
      "metadata": {
        "id": "j_DuwoLG6J62"
      },
      "source": [
        "### 6.a Silhouette Analysis - K-Means"
      ]
    },
    {
      "cell_type": "markdown",
      "metadata": {
        "id": "o6v1w8E96R6x"
      },
      "source": [
        "### 6.b Silhouette Analysis - DBSCAN"
      ]
    },
    {
      "cell_type": "markdown",
      "metadata": {
        "id": "nQ-kG85U6YfS"
      },
      "source": [
        "## 7. Resultados\n",
        "\n",
        "Gráfica + tabla"
      ]
    },
    {
      "cell_type": "markdown",
      "metadata": {
        "id": "CNP-LwGh6alo"
      },
      "source": [
        "## 8. Análisis"
      ]
    }
  ]
}