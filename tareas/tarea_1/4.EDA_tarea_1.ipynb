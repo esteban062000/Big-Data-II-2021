{
  "nbformat": 4,
  "nbformat_minor": 0,
  "metadata": {
    "orig_nbformat": 4,
    "colab": {
      "name": "4.EDA_tarea_1.ipynb",
      "provenance": []
    },
    "language_info": {
      "name": "python"
    },
    "kernelspec": {
      "name": "python3",
      "display_name": "Python 3"
    }
  },
  "cells": [
    {
      "cell_type": "markdown",
      "metadata": {
        "id": "dF2IxbRNPEZ1"
      },
      "source": [
        "# Análisis Exploratorio de Datos"
      ]
    },
    {
      "cell_type": "markdown",
      "metadata": {
        "id": "gyzw5blVUySE"
      },
      "source": [
        "Se cargan los datos desde la computadora local."
      ]
    },
    {
      "cell_type": "code",
      "metadata": {
        "id": "h1htAHx7S-Vw",
        "colab": {
          "resources": {
            "http://localhost:8080/nbextensions/google.colab/files.js": {
              "data": "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",
              "ok": true,
              "headers": [
                [
                  "content-type",
                  "application/javascript"
                ]
              ],
              "status": 200,
              "status_text": ""
            }
          },
          "base_uri": "https://localhost:8080/",
          "height": 415
        },
        "outputId": "37018119-ed86-4320-9c30-bf13708a33ab"
      },
      "source": [
        "from google.colab import files\n",
        "uploaded = files.upload()\n",
        "import pandas as pd\n",
        "data = pd.read_excel('2.DatasetTransformado20210914_public_ofs-csv.xlsx')\n",
        "data.to_csv(encoding='utf-8', index=False)\n",
        "data.head()"
      ],
      "execution_count": 2,
      "outputs": [
        {
          "output_type": "display_data",
          "data": {
            "text/html": [
              "\n",
              "     <input type=\"file\" id=\"files-acadfbc1-abe0-4fbb-ac7d-b214d3d0bd01\" name=\"files[]\" multiple disabled\n",
              "        style=\"border:none\" />\n",
              "     <output id=\"result-acadfbc1-abe0-4fbb-ac7d-b214d3d0bd01\">\n",
              "      Upload widget is only available when the cell has been executed in the\n",
              "      current browser session. Please rerun this cell to enable.\n",
              "      </output>\n",
              "      <script src=\"/nbextensions/google.colab/files.js\"></script> "
            ],
            "text/plain": [
              "<IPython.core.display.HTML object>"
            ]
          },
          "metadata": {}
        },
        {
          "output_type": "stream",
          "name": "stdout",
          "text": [
            "Saving 2.DatasetTransformado20210914_public_ofs-csv.xlsx to 2.DatasetTransformado20210914_public_ofs-csv.xlsx\n"
          ]
        },
        {
          "output_type": "execute_result",
          "data": {
            "text/html": [
              "<div>\n",
              "<style scoped>\n",
              "    .dataframe tbody tr th:only-of-type {\n",
              "        vertical-align: middle;\n",
              "    }\n",
              "\n",
              "    .dataframe tbody tr th {\n",
              "        vertical-align: top;\n",
              "    }\n",
              "\n",
              "    .dataframe thead th {\n",
              "        text-align: right;\n",
              "    }\n",
              "</style>\n",
              "<table border=\"1\" class=\"dataframe\">\n",
              "  <thead>\n",
              "    <tr style=\"text-align: right;\">\n",
              "      <th></th>\n",
              "      <th>raison_sociale</th>\n",
              "      <th>siren</th>\n",
              "      <th>num_etablissement</th>\n",
              "      <th>num_da</th>\n",
              "      <th>cfa</th>\n",
              "      <th>effectifs</th>\n",
              "      <th>adresse_voie</th>\n",
              "      <th>adresse_complement_adresse</th>\n",
              "      <th>adresse_code_postal</th>\n",
              "      <th>adresse_ville</th>\n",
              "      <th>sum_stagiaires</th>\n",
              "      <th>sum_heures_stagiaires</th>\n",
              "      <th>code_specialite_1</th>\n",
              "      <th>specialite_1_isInformatique</th>\n",
              "      <th>nb_stagiaires_1</th>\n",
              "      <th>nb_heures_stagiaires_1</th>\n",
              "      <th>code_specialite_2</th>\n",
              "      <th>nb_stagiaires_2</th>\n",
              "      <th>nb_heures_stagiaires_2</th>\n",
              "      <th>code_specialite_3</th>\n",
              "      <th>nb_stagiaires_3</th>\n",
              "      <th>nb_heures_stagiaires_3</th>\n",
              "      <th>code_specialite_4</th>\n",
              "      <th>nb_stagiaires_4</th>\n",
              "      <th>nb_heures_stagiaires_4</th>\n",
              "    </tr>\n",
              "  </thead>\n",
              "  <tbody>\n",
              "    <tr>\n",
              "      <th>0</th>\n",
              "      <td>1000 MERCIS</td>\n",
              "      <td>429621311</td>\n",
              "      <td>27</td>\n",
              "      <td>11755050975</td>\n",
              "      <td>Non</td>\n",
              "      <td>17</td>\n",
              "      <td>28 RUE DE CHATEAUDUN</td>\n",
              "      <td>NaN</td>\n",
              "      <td>75009</td>\n",
              "      <td>PARIS</td>\n",
              "      <td>79</td>\n",
              "      <td>3500.0</td>\n",
              "      <td>326.0</td>\n",
              "      <td>True</td>\n",
              "      <td>79.0</td>\n",
              "      <td>3500.0</td>\n",
              "      <td>NaN</td>\n",
              "      <td>0</td>\n",
              "      <td>NaN</td>\n",
              "      <td>NaN</td>\n",
              "      <td>0</td>\n",
              "      <td>NaN</td>\n",
              "      <td>NaN</td>\n",
              "      <td>0</td>\n",
              "      <td>NaN</td>\n",
              "    </tr>\n",
              "    <tr>\n",
              "      <th>1</th>\n",
              "      <td>100% ENGLISH</td>\n",
              "      <td>499401610</td>\n",
              "      <td>21</td>\n",
              "      <td>93040083604</td>\n",
              "      <td>Non</td>\n",
              "      <td>7</td>\n",
              "      <td>L AGORA P.A. DU MOULIN NEUF</td>\n",
              "      <td>CHEMIN CHAMPS DE PRUNIERS</td>\n",
              "      <td>4100</td>\n",
              "      <td>MANOSQUE</td>\n",
              "      <td>64</td>\n",
              "      <td>2525.0</td>\n",
              "      <td>136.0</td>\n",
              "      <td>False</td>\n",
              "      <td>64.0</td>\n",
              "      <td>2525.0</td>\n",
              "      <td>NaN</td>\n",
              "      <td>0</td>\n",
              "      <td>NaN</td>\n",
              "      <td>NaN</td>\n",
              "      <td>0</td>\n",
              "      <td>NaN</td>\n",
              "      <td>NaN</td>\n",
              "      <td>0</td>\n",
              "      <td>NaN</td>\n",
              "    </tr>\n",
              "    <tr>\n",
              "      <th>2</th>\n",
              "      <td>10H10 PRODUCTIONS</td>\n",
              "      <td>879911618</td>\n",
              "      <td>12</td>\n",
              "      <td>11922335992</td>\n",
              "      <td>Non</td>\n",
              "      <td>2</td>\n",
              "      <td>53 Avenue Aristide Briand</td>\n",
              "      <td>NaN</td>\n",
              "      <td>92120</td>\n",
              "      <td>MONTROUGE</td>\n",
              "      <td>1</td>\n",
              "      <td>12.0</td>\n",
              "      <td>320.0</td>\n",
              "      <td>False</td>\n",
              "      <td>1.0</td>\n",
              "      <td>12.0</td>\n",
              "      <td>321.0</td>\n",
              "      <td>0</td>\n",
              "      <td>0.0</td>\n",
              "      <td>NaN</td>\n",
              "      <td>0</td>\n",
              "      <td>NaN</td>\n",
              "      <td>NaN</td>\n",
              "      <td>0</td>\n",
              "      <td>NaN</td>\n",
              "    </tr>\n",
              "    <tr>\n",
              "      <th>3</th>\n",
              "      <td>123 CARTONS</td>\n",
              "      <td>328616602</td>\n",
              "      <td>38</td>\n",
              "      <td>52440562044</td>\n",
              "      <td>Non</td>\n",
              "      <td>1</td>\n",
              "      <td>12 IMPASSE DE LA CROIX OLIVE</td>\n",
              "      <td>NaN</td>\n",
              "      <td>44860</td>\n",
              "      <td>PONT ST MARTIN</td>\n",
              "      <td>2</td>\n",
              "      <td>90.0</td>\n",
              "      <td>132.0</td>\n",
              "      <td>False</td>\n",
              "      <td>2.0</td>\n",
              "      <td>90.0</td>\n",
              "      <td>NaN</td>\n",
              "      <td>0</td>\n",
              "      <td>NaN</td>\n",
              "      <td>NaN</td>\n",
              "      <td>0</td>\n",
              "      <td>NaN</td>\n",
              "      <td>NaN</td>\n",
              "      <td>0</td>\n",
              "      <td>NaN</td>\n",
              "    </tr>\n",
              "    <tr>\n",
              "      <th>4</th>\n",
              "      <td>1 2 3 CONSEIL</td>\n",
              "      <td>517401808</td>\n",
              "      <td>20</td>\n",
              "      <td>82420212142</td>\n",
              "      <td>Non</td>\n",
              "      <td>8</td>\n",
              "      <td>2 ALLEE GIACOMO PUCCINI</td>\n",
              "      <td>NaN</td>\n",
              "      <td>42100</td>\n",
              "      <td>ST ETIENNE</td>\n",
              "      <td>423</td>\n",
              "      <td>3540.0</td>\n",
              "      <td>314.0</td>\n",
              "      <td>False</td>\n",
              "      <td>10.0</td>\n",
              "      <td>77.0</td>\n",
              "      <td>344.0</td>\n",
              "      <td>413</td>\n",
              "      <td>3463.0</td>\n",
              "      <td>NaN</td>\n",
              "      <td>0</td>\n",
              "      <td>NaN</td>\n",
              "      <td>NaN</td>\n",
              "      <td>0</td>\n",
              "      <td>NaN</td>\n",
              "    </tr>\n",
              "  </tbody>\n",
              "</table>\n",
              "</div>"
            ],
            "text/plain": [
              "      raison_sociale      siren  ...  nb_stagiaires_4 nb_heures_stagiaires_4\n",
              "0        1000 MERCIS  429621311  ...                0                    NaN\n",
              "1       100% ENGLISH  499401610  ...                0                    NaN\n",
              "2  10H10 PRODUCTIONS  879911618  ...                0                    NaN\n",
              "3        123 CARTONS  328616602  ...                0                    NaN\n",
              "4      1 2 3 CONSEIL  517401808  ...                0                    NaN\n",
              "\n",
              "[5 rows x 25 columns]"
            ]
          },
          "metadata": {},
          "execution_count": 2
        }
      ]
    },
    {
      "cell_type": "markdown",
      "metadata": {
        "id": "T4YvfLWLd5Fx"
      },
      "source": [
        "Se eliminan los valores atípicos que puedan sesgar la información obtenida en el EDA."
      ]
    },
    {
      "cell_type": "code",
      "metadata": {
        "colab": {
          "base_uri": "https://localhost:8080/"
        },
        "id": "YZL0pPQveS_6",
        "outputId": "bde8e9e2-4587-477e-a3c0-fa15be95c1c5"
      },
      "source": [
        "print(\"Observaciones con outliers: \", len(data))\n",
        "\n",
        "# Se eliminan outlires del atributo num_etablissement\n",
        "upper_quartile = data[\"num_etablissement\"].quantile(0.99)\n",
        "data = data[(data[\"num_etablissement\"] < upper_quartile)]\n",
        "\n",
        "# Se eliminan outlires del atributo sum_heures_stagiaires\n",
        "upper_quartile = data[\"sum_heures_stagiaires\"].quantile(0.99)\n",
        "data = data[(data[\"sum_heures_stagiaires\"] < upper_quartile)]\n",
        "\n",
        "# Se eliminan outlires del atributo sum_stagiaires\n",
        "upper_quartile = data[\"sum_stagiaires\"].quantile(0.99)\n",
        "data = data[(data[\"sum_stagiaires\"] < upper_quartile)]\n",
        "\n",
        "print(\"Observaciones sin outliers: \", len(data))\n"
      ],
      "execution_count": 3,
      "outputs": [
        {
          "output_type": "stream",
          "name": "stdout",
          "text": [
            "Observaciones con outliers:  21682\n",
            "Observaciones sin outliers:  20263\n"
          ]
        }
      ]
    },
    {
      "cell_type": "markdown",
      "metadata": {
        "id": "_7zb-FwhU0Cm"
      },
      "source": [
        "Se realizan agrupaciones según los atributos de interés, en particular, se agrupa por ciudad y por especialidad."
      ]
    },
    {
      "cell_type": "code",
      "metadata": {
        "id": "R3Y5LTGgUofF",
        "colab": {
          "base_uri": "https://localhost:8080/",
          "height": 303
        },
        "outputId": "c1ecda26-c1b3-4aa0-b6d9-5540441815b7"
      },
      "source": [
        "sumBySpeciality1 = data.groupby('code_specialite_1')['nb_stagiaires_1', 'nb_heures_stagiaires_1'].agg('sum')\n",
        "sumByCity = data.groupby('adresse_ville')['sum_stagiaires', 'sum_heures_stagiaires'].agg('sum')\n",
        "sumByCity.head()"
      ],
      "execution_count": 4,
      "outputs": [
        {
          "output_type": "stream",
          "name": "stderr",
          "text": [
            "/usr/local/lib/python3.7/dist-packages/ipykernel_launcher.py:1: FutureWarning: Indexing with multiple keys (implicitly converted to a tuple of keys) will be deprecated, use a list instead.\n",
            "  \"\"\"Entry point for launching an IPython kernel.\n",
            "/usr/local/lib/python3.7/dist-packages/ipykernel_launcher.py:2: FutureWarning: Indexing with multiple keys (implicitly converted to a tuple of keys) will be deprecated, use a list instead.\n",
            "  \n"
          ]
        },
        {
          "output_type": "execute_result",
          "data": {
            "text/html": [
              "<div>\n",
              "<style scoped>\n",
              "    .dataframe tbody tr th:only-of-type {\n",
              "        vertical-align: middle;\n",
              "    }\n",
              "\n",
              "    .dataframe tbody tr th {\n",
              "        vertical-align: top;\n",
              "    }\n",
              "\n",
              "    .dataframe thead th {\n",
              "        text-align: right;\n",
              "    }\n",
              "</style>\n",
              "<table border=\"1\" class=\"dataframe\">\n",
              "  <thead>\n",
              "    <tr style=\"text-align: right;\">\n",
              "      <th></th>\n",
              "      <th>sum_stagiaires</th>\n",
              "      <th>sum_heures_stagiaires</th>\n",
              "    </tr>\n",
              "    <tr>\n",
              "      <th>adresse_ville</th>\n",
              "      <th></th>\n",
              "      <th></th>\n",
              "    </tr>\n",
              "  </thead>\n",
              "  <tbody>\n",
              "    <tr>\n",
              "      <th>ABBARETZ</th>\n",
              "      <td>310</td>\n",
              "      <td>4130.0</td>\n",
              "    </tr>\n",
              "    <tr>\n",
              "      <th>ABBEVILLE</th>\n",
              "      <td>232</td>\n",
              "      <td>19878.0</td>\n",
              "    </tr>\n",
              "    <tr>\n",
              "      <th>ABLEIGES</th>\n",
              "      <td>945</td>\n",
              "      <td>6585.0</td>\n",
              "    </tr>\n",
              "    <tr>\n",
              "      <th>ABLIS</th>\n",
              "      <td>34</td>\n",
              "      <td>406.0</td>\n",
              "    </tr>\n",
              "    <tr>\n",
              "      <th>ABOEN</th>\n",
              "      <td>139</td>\n",
              "      <td>3683.0</td>\n",
              "    </tr>\n",
              "  </tbody>\n",
              "</table>\n",
              "</div>"
            ],
            "text/plain": [
              "               sum_stagiaires  sum_heures_stagiaires\n",
              "adresse_ville                                       \n",
              "ABBARETZ                  310                 4130.0\n",
              "ABBEVILLE                 232                19878.0\n",
              "ABLEIGES                  945                 6585.0\n",
              "ABLIS                      34                  406.0\n",
              "ABOEN                     139                 3683.0"
            ]
          },
          "metadata": {},
          "execution_count": 4
        }
      ]
    },
    {
      "cell_type": "markdown",
      "metadata": {
        "id": "xVaIGHCdWprI"
      },
      "source": [
        "## Tres técnicas para el EDA\n",
        "\n",
        "### 1. Análisis descriptivo\n",
        "\n",
        "Se obtienen las medidas estadísticas más comunes para las columnas de interés en el dataset. \n",
        "\n"
      ]
    },
    {
      "cell_type": "code",
      "metadata": {
        "colab": {
          "base_uri": "https://localhost:8080/"
        },
        "id": "LSyRlUvgXeeK",
        "outputId": "ea42450e-83f8-47ca-90de-cd2533248d22"
      },
      "source": [
        "data['num_etablissement'].describe()"
      ],
      "execution_count": 5,
      "outputs": [
        {
          "output_type": "execute_result",
          "data": {
            "text/plain": [
              "count    20263.000000\n",
              "mean        26.476583\n",
              "std         17.300925\n",
              "min          1.000000\n",
              "25%         15.000000\n",
              "50%         21.000000\n",
              "75%         33.000000\n",
              "max        162.000000\n",
              "Name: num_etablissement, dtype: float64"
            ]
          },
          "metadata": {},
          "execution_count": 5
        }
      ]
    },
    {
      "cell_type": "code",
      "metadata": {
        "colab": {
          "base_uri": "https://localhost:8080/"
        },
        "id": "nsx8Un1shdHn",
        "outputId": "dcf1c4d7-3273-4af4-9f12-56d722af0061"
      },
      "source": [
        "data['sum_stagiaires'].describe()"
      ],
      "execution_count": 6,
      "outputs": [
        {
          "output_type": "execute_result",
          "data": {
            "text/plain": [
              "count    20263.000000\n",
              "mean       167.855846\n",
              "std        339.741646\n",
              "min          1.000000\n",
              "25%         12.000000\n",
              "50%         45.000000\n",
              "75%        157.000000\n",
              "max       3007.000000\n",
              "Name: sum_stagiaires, dtype: float64"
            ]
          },
          "metadata": {},
          "execution_count": 6
        }
      ]
    },
    {
      "cell_type": "code",
      "metadata": {
        "colab": {
          "base_uri": "https://localhost:8080/"
        },
        "id": "eLnwh9MWY1E5",
        "outputId": "3488d875-27e1-4d56-8661-07633b4f85fd"
      },
      "source": [
        "data['sum_heures_stagiaires'].describe()"
      ],
      "execution_count": 7,
      "outputs": [
        {
          "output_type": "execute_result",
          "data": {
            "text/plain": [
              "count     20263.000000\n",
              "mean       6899.832355\n",
              "std       21931.876293\n",
              "min           1.000000\n",
              "25%         133.000000\n",
              "50%         648.000000\n",
              "75%        3299.500000\n",
              "max      239955.000000\n",
              "Name: sum_heures_stagiaires, dtype: float64"
            ]
          },
          "metadata": {},
          "execution_count": 7
        }
      ]
    },
    {
      "cell_type": "markdown",
      "metadata": {
        "id": "0XUBcozCY9fP"
      },
      "source": [
        "Seguidamente, se realizan algunos gráficos para obtener impresiones visuales de los datos. Primero, se grafican las 5 ciudades que poseen más organismos de formación."
      ]
    },
    {
      "cell_type": "code",
      "metadata": {
        "colab": {
          "base_uri": "https://localhost:8080/",
          "height": 393
        },
        "id": "ru3Nx1W5V-dh",
        "outputId": "de3b60bd-e34b-4c4f-8626-ea2b4bc08c29"
      },
      "source": [
        "import matplotlib.pyplot as plt\n",
        "plt.title('Ciudades con más organismos de formación')\n",
        "plt.xlabel('Ciudad')\n",
        "plt.ylabel('Cantidad de organismos')\n",
        "data['adresse_ville'].value_counts()[:5].plot(kind=\"bar\")"
      ],
      "execution_count": 23,
      "outputs": [
        {
          "output_type": "execute_result",
          "data": {
            "text/plain": [
              "<matplotlib.axes._subplots.AxesSubplot at 0x7f3d94583c90>"
            ]
          },
          "metadata": {},
          "execution_count": 23
        },
        {
          "output_type": "display_data",
          "data": {
            "image/png": "[encoded data removed]",
            "text/plain": [
              "<Figure size 432x288 with 1 Axes>"
            ]
          },
          "metadata": {
            "needs_background": "light"
          }
        }
      ]
    },
    {
      "cell_type": "markdown",
      "metadata": {
        "id": "opPsX1cCbNfx"
      },
      "source": [
        "Luego, se grafican las 5 especialidades_1 más frecuentes. Estas son las especialidades que tienen mayor popularidad en el conjunto de datos."
      ]
    },
    {
      "cell_type": "code",
      "metadata": {
        "colab": {
          "base_uri": "https://localhost:8080/",
          "height": 331
        },
        "id": "usE04GHwZFdA",
        "outputId": "5a48afe2-be86-4ad9-bdff-6d772ef54ba4"
      },
      "source": [
        "plt.title('Especialidades más comunes en Francia')\n",
        "plt.xlabel('Especialidad')\n",
        "plt.ylabel('Cantidad de organismos que la ofrecen')\n",
        "data['code_specialite_1'].value_counts().head().plot(kind=\"bar\")"
      ],
      "execution_count": 31,
      "outputs": [
        {
          "output_type": "execute_result",
          "data": {
            "text/plain": [
              "<matplotlib.axes._subplots.AxesSubplot at 0x7f3d9458d310>"
            ]
          },
          "metadata": {},
          "execution_count": 31
        },
        {
          "output_type": "display_data",
          "data": {
            "image/png": "[encoded data removed]",
            "text/plain": [
              "<Figure size 432x288 with 1 Axes>"
            ]
          },
          "metadata": {
            "needs_background": "light"
          }
        }
      ]
    },
    {
      "cell_type": "markdown",
      "metadata": {
        "id": "HmxKbSGibbmu"
      },
      "source": [
        "Según la información del sitio web oficial de los datos, las 5 especialidades más comunes son:\n",
        "\n",
        "\n",
        "\n",
        "*   **326:** Informática (*Informatique, traitement de l'information, réseaux de transmission des données*).\n",
        "*   **333:** Docencia (*Enseignement, formation*).\n",
        "*   **100:** Estudios generales (*Formations générales*).\n",
        "*   **331:** Salud (*Santé*).\n",
        "*   **413:** Desarrollo interpersonal e intrapersonal (*Développement des capacités comportementales et relationnelles*).\n",
        "\n",
        "\n",
        "\n"
      ]
    },
    {
      "cell_type": "markdown",
      "metadata": {
        "id": "9q7D8oGSV7n1"
      },
      "source": [
        "### 2. Correlación entre num_establisements y sum_heures_stagiaires\n",
        "\n",
        "La intuición nos indica que, si un organismo formador tiene más establecimientos, ofrecerá también más horas de formación. Para confirmar esto, primero se realiza un diagrama de dispersión entre estas variables."
      ]
    },
    {
      "cell_type": "code",
      "metadata": {
        "colab": {
          "base_uri": "https://localhost:8080/",
          "height": 296
        },
        "id": "PtEBQgNHdLto",
        "outputId": "b67dd520-202c-4a46-b639-17970d38011e"
      },
      "source": [
        "data.plot.scatter(y = 'num_etablissement', x = 'sum_heures_stagiaires', title = \"Diagrama de dispersión entre cantidad de establecimientos y horas de formación\");"
      ],
      "execution_count": 30,
      "outputs": [
        {
          "output_type": "display_data",
          "data": {
            "image/png": "[encoded data removed]",
            "text/plain": [
              "<Figure size 432x288 with 1 Axes>"
            ]
          },
          "metadata": {
            "needs_background": "light"
          }
        }
      ]
    },
    {
      "cell_type": "markdown",
      "metadata": {
        "id": "UXvbzo2dlM5c"
      },
      "source": [
        "Según el diagrama, parece **no** haber una correlación entre los atributos. Para confirmar esto, se calcula el Coeficiente de Correlación de Pearson."
      ]
    },
    {
      "cell_type": "code",
      "metadata": {
        "colab": {
          "base_uri": "https://localhost:8080/"
        },
        "id": "WEBmt2vHk7hr",
        "outputId": "2f84348d-53c5-47ec-a488-173e740b8a2b"
      },
      "source": [
        "import numpy as np\n",
        "coeficientePearson = np.corrcoef(data['num_etablissement'], data['sum_heures_stagiaires'])\n",
        "\n",
        "print(coeficientePearson)"
      ],
      "execution_count": 12,
      "outputs": [
        {
          "output_type": "stream",
          "name": "stdout",
          "text": [
            "[[1.         0.06990947]\n",
            " [0.06990947 1.        ]]\n"
          ]
        }
      ]
    },
    {
      "cell_type": "markdown",
      "metadata": {
        "id": "U4qdCNnBrHBx"
      },
      "source": [
        "El umbral para indicar la presencia de una correlación, por lo general, se encuentra entre 0.6 y 0.7 . En este caso, el valor obtenido (0.069), indica que **no** hay correlación entre las variables estudiadas."
      ]
    },
    {
      "cell_type": "markdown",
      "metadata": {
        "id": "xx5QZ6IPcwOL"
      },
      "source": [
        "### 3. Particionamiento entre París y demás zonas\n",
        "\n",
        "Primero, se divide el dataset:"
      ]
    },
    {
      "cell_type": "code",
      "metadata": {
        "colab": {
          "base_uri": "https://localhost:8080/"
        },
        "id": "sXp4bVV5rr69",
        "outputId": "95b712d1-5d0b-446e-fa99-54ede2afd505"
      },
      "source": [
        "dataParis = data[(data[\"adresse_ville\"] == \"PARIS\")]\n",
        "dataOtherCities = data[(data[\"adresse_ville\"] != \"PARIS\")]\n",
        "print(\"Observaciones totales = \", len(data))\n",
        "print(\"Observaciones de Paris = \", len(dataParis))\n",
        "print(\"Observaciones de otras ciudades = \", len(dataOtherCities))"
      ],
      "execution_count": 13,
      "outputs": [
        {
          "output_type": "stream",
          "name": "stdout",
          "text": [
            "Observaciones totales =  20263\n",
            "Observaciones de Paris =  2199\n",
            "Observaciones de otras ciudades =  18064\n"
          ]
        }
      ]
    },
    {
      "cell_type": "markdown",
      "metadata": {
        "id": "peGywMsZsV58"
      },
      "source": [
        "Luego, se calculan medidas estadísticas específicas para la ciudad de París:"
      ]
    },
    {
      "cell_type": "code",
      "metadata": {
        "colab": {
          "base_uri": "https://localhost:8080/"
        },
        "id": "PmeRBztysa5J",
        "outputId": "10c23b68-514d-4a6b-faa0-dbf4751e40f6"
      },
      "source": [
        "dataParis['num_etablissement'].describe()"
      ],
      "execution_count": 14,
      "outputs": [
        {
          "output_type": "execute_result",
          "data": {
            "text/plain": [
              "count    2199.000000\n",
              "mean       28.700773\n",
              "std        18.888388\n",
              "min        10.000000\n",
              "25%        16.000000\n",
              "50%        24.000000\n",
              "75%        36.000000\n",
              "max       153.000000\n",
              "Name: num_etablissement, dtype: float64"
            ]
          },
          "metadata": {},
          "execution_count": 14
        }
      ]
    },
    {
      "cell_type": "code",
      "metadata": {
        "colab": {
          "base_uri": "https://localhost:8080/"
        },
        "id": "OSc6L17ZsgTD",
        "outputId": "6757a338-2f11-49d2-ef97-281a66330985"
      },
      "source": [
        "dataParis['sum_stagiaires'].describe()"
      ],
      "execution_count": 15,
      "outputs": [
        {
          "output_type": "execute_result",
          "data": {
            "text/plain": [
              "count    2199.000000\n",
              "mean      235.738063\n",
              "std       415.837737\n",
              "min         1.000000\n",
              "25%        19.500000\n",
              "50%        75.000000\n",
              "75%       242.000000\n",
              "max      3007.000000\n",
              "Name: sum_stagiaires, dtype: float64"
            ]
          },
          "metadata": {},
          "execution_count": 15
        }
      ]
    },
    {
      "cell_type": "code",
      "metadata": {
        "colab": {
          "base_uri": "https://localhost:8080/"
        },
        "id": "vM-QQeeesi8h",
        "outputId": "2cd7236e-aa7f-46d8-eded-148e35c8c40e"
      },
      "source": [
        "dataParis['sum_heures_stagiaires'].describe()"
      ],
      "execution_count": 16,
      "outputs": [
        {
          "output_type": "execute_result",
          "data": {
            "text/plain": [
              "count      2199.000000\n",
              "mean       8178.093679\n",
              "std       23445.529729\n",
              "min           1.000000\n",
              "25%         182.000000\n",
              "50%        1050.000000\n",
              "75%        4945.000000\n",
              "max      227482.000000\n",
              "Name: sum_heures_stagiaires, dtype: float64"
            ]
          },
          "metadata": {},
          "execution_count": 16
        }
      ]
    },
    {
      "cell_type": "markdown",
      "metadata": {
        "id": "13hKSeKKszzV"
      },
      "source": [
        "Finalmente, se grafican las 5 especialidades_1 más frecuentes en París. "
      ]
    },
    {
      "cell_type": "code",
      "metadata": {
        "colab": {
          "base_uri": "https://localhost:8080/",
          "height": 331
        },
        "id": "o-SanDKos6qZ",
        "outputId": "9e07c0e3-8fb4-4531-91b4-7ac1b9b5e078"
      },
      "source": [
        "plt.title('Especialidades más comunes en París')\n",
        "plt.xlabel('Especialidad')\n",
        "plt.ylabel('Número de organismos que la ofrecen')\n",
        "dataParis['code_specialite_1'].value_counts().head().plot(kind=\"bar\")"
      ],
      "execution_count": 27,
      "outputs": [
        {
          "output_type": "execute_result",
          "data": {
            "text/plain": [
              "<matplotlib.axes._subplots.AxesSubplot at 0x7f3d9456fc90>"
            ]
          },
          "metadata": {},
          "execution_count": 27
        },
        {
          "output_type": "display_data",
          "data": {
            "image/png": "[encoded data removed]",
            "text/plain": [
              "<Figure size 432x288 with 1 Axes>"
            ]
          },
          "metadata": {
            "needs_background": "light"
          }
        }
      ]
    },
    {
      "cell_type": "markdown",
      "metadata": {
        "id": "AScOTGeHtA3j"
      },
      "source": [
        "Según la información del sitio web oficial de los datos, las 5 especialidades más comunes son:\n",
        "\n",
        "\n",
        "*   **413:** Desarrollo interpersonal e intrapersonal (*Développement des capacités comportementales et relationnelles*).\n",
        "*   **326:** Informática (*Informatique, traitement de l'information, réseaux de transmission des données*).\n",
        "*   **100:** Estudios generales (*Formations générales*).\n",
        "*   **331:** Salud (*Santé*).\n",
        "*   **312:** Comercio y ventas (*Commerce, vente*).\n",
        "\n",
        "\n",
        "\n"
      ]
    },
    {
      "cell_type": "markdown",
      "metadata": {
        "id": "2I4WlYSEohuW"
      },
      "source": [
        "También, se desea conocer la especialidad que tiene más pasantes y más horas de formación en París. Para eso, primero se realiza un *groupby* por especialidad sobre el dataset que solo contiene datos de París, y se suman los atributos de las columnas *nb_stagiaires_1* y *nb_heures_stagiaires_1*."
      ]
    },
    {
      "cell_type": "code",
      "metadata": {
        "colab": {
          "base_uri": "https://localhost:8080/"
        },
        "id": "Ez8APQsXtnzs",
        "outputId": "d5d8077d-51da-4424-e03a-2d2883fdcc5f"
      },
      "source": [
        "sumBySpeciality1Paris = dataParis.groupby('code_specialite_1')['nb_stagiaires_1', 'nb_heures_stagiaires_1'].agg('sum')"
      ],
      "execution_count": 18,
      "outputs": [
        {
          "output_type": "stream",
          "name": "stderr",
          "text": [
            "/usr/local/lib/python3.7/dist-packages/ipykernel_launcher.py:1: FutureWarning: Indexing with multiple keys (implicitly converted to a tuple of keys) will be deprecated, use a list instead.\n",
            "  \"\"\"Entry point for launching an IPython kernel.\n"
          ]
        }
      ]
    },
    {
      "cell_type": "markdown",
      "metadata": {
        "id": "JCit6juKn_3Y"
      },
      "source": [
        "Luego, se ordenan por el atributo *nb_stagiaires_1*, en orden descendente."
      ]
    },
    {
      "cell_type": "code",
      "metadata": {
        "colab": {
          "base_uri": "https://localhost:8080/",
          "height": 450
        },
        "id": "Zg0AePHyts81",
        "outputId": "e3c72e61-a6aa-4504-aea3-4228a7044f3f"
      },
      "source": [
        "sumBySpeciality1Paris.sort_values(by='nb_stagiaires_1', ascending=False)"
      ],
      "execution_count": 93,
      "outputs": [
        {
          "output_type": "execute_result",
          "data": {
            "text/html": [
              "<div>\n",
              "<style scoped>\n",
              "    .dataframe tbody tr th:only-of-type {\n",
              "        vertical-align: middle;\n",
              "    }\n",
              "\n",
              "    .dataframe tbody tr th {\n",
              "        vertical-align: top;\n",
              "    }\n",
              "\n",
              "    .dataframe thead th {\n",
              "        text-align: right;\n",
              "    }\n",
              "</style>\n",
              "<table border=\"1\" class=\"dataframe\">\n",
              "  <thead>\n",
              "    <tr style=\"text-align: right;\">\n",
              "      <th></th>\n",
              "      <th>nb_stagiaires_1</th>\n",
              "      <th>nb_heures_stagiaires_1</th>\n",
              "    </tr>\n",
              "    <tr>\n",
              "      <th>code_specialite_1</th>\n",
              "      <th></th>\n",
              "      <th></th>\n",
              "    </tr>\n",
              "  </thead>\n",
              "  <tbody>\n",
              "    <tr>\n",
              "      <th>331.0</th>\n",
              "      <td>38382.0</td>\n",
              "      <td>810450.0</td>\n",
              "    </tr>\n",
              "    <tr>\n",
              "      <th>413.0</th>\n",
              "      <td>37370.0</td>\n",
              "      <td>618282.0</td>\n",
              "    </tr>\n",
              "    <tr>\n",
              "      <th>326.0</th>\n",
              "      <td>25022.0</td>\n",
              "      <td>670616.0</td>\n",
              "    </tr>\n",
              "    <tr>\n",
              "      <th>312.0</th>\n",
              "      <td>23270.0</td>\n",
              "      <td>1388693.0</td>\n",
              "    </tr>\n",
              "    <tr>\n",
              "      <th>100.0</th>\n",
              "      <td>22827.0</td>\n",
              "      <td>682129.0</td>\n",
              "    </tr>\n",
              "    <tr>\n",
              "      <th>...</th>\n",
              "      <td>...</td>\n",
              "      <td>...</td>\n",
              "    </tr>\n",
              "    <tr>\n",
              "      <th>111.0</th>\n",
              "      <td>16.0</td>\n",
              "      <td>343.0</td>\n",
              "    </tr>\n",
              "    <tr>\n",
              "      <th>222.0</th>\n",
              "      <td>10.0</td>\n",
              "      <td>90.0</td>\n",
              "    </tr>\n",
              "    <tr>\n",
              "      <th>116.0</th>\n",
              "      <td>10.0</td>\n",
              "      <td>140.0</td>\n",
              "    </tr>\n",
              "    <tr>\n",
              "      <th>211.0</th>\n",
              "      <td>8.0</td>\n",
              "      <td>360.0</td>\n",
              "    </tr>\n",
              "    <tr>\n",
              "      <th>224.0</th>\n",
              "      <td>1.0</td>\n",
              "      <td>680.0</td>\n",
              "    </tr>\n",
              "  </tbody>\n",
              "</table>\n",
              "<p>84 rows × 2 columns</p>\n",
              "</div>"
            ],
            "text/plain": [
              "                   nb_stagiaires_1  nb_heures_stagiaires_1\n",
              "code_specialite_1                                         \n",
              "331.0                      38382.0                810450.0\n",
              "413.0                      37370.0                618282.0\n",
              "326.0                      25022.0                670616.0\n",
              "312.0                      23270.0               1388693.0\n",
              "100.0                      22827.0                682129.0\n",
              "...                            ...                     ...\n",
              "111.0                         16.0                   343.0\n",
              "222.0                         10.0                    90.0\n",
              "116.0                         10.0                   140.0\n",
              "211.0                          8.0                   360.0\n",
              "224.0                          1.0                   680.0\n",
              "\n",
              "[84 rows x 2 columns]"
            ]
          },
          "metadata": {},
          "execution_count": 93
        }
      ]
    },
    {
      "cell_type": "markdown",
      "metadata": {
        "id": "B-Zh_WF1oMvV"
      },
      "source": [
        "La especialidad 331, Salud, es la que tiene más pasantes en París, con 38 382 estudiantes. Por otro lado, Materiales de Construcción, la especialidad 224, solo cuenta con 1 pasante. Informática es la tercera especialidad más popular en París, con poco más de 25 000 pasantes.\n",
        "\n",
        "Seguidamente, se ordenan por la cantidad de horas de formación."
      ]
    },
    {
      "cell_type": "code",
      "metadata": {
        "colab": {
          "base_uri": "https://localhost:8080/",
          "height": 450
        },
        "id": "ZgB5eiN_uOjx",
        "outputId": "e5b100b8-fa7d-49bc-ec87-bdf255a9dea1"
      },
      "source": [
        "sumBySpeciality1Paris.sort_values(by='nb_heures_stagiaires_1', ascending=False)"
      ],
      "execution_count": 19,
      "outputs": [
        {
          "output_type": "execute_result",
          "data": {
            "text/html": [
              "<div>\n",
              "<style scoped>\n",
              "    .dataframe tbody tr th:only-of-type {\n",
              "        vertical-align: middle;\n",
              "    }\n",
              "\n",
              "    .dataframe tbody tr th {\n",
              "        vertical-align: top;\n",
              "    }\n",
              "\n",
              "    .dataframe thead th {\n",
              "        text-align: right;\n",
              "    }\n",
              "</style>\n",
              "<table border=\"1\" class=\"dataframe\">\n",
              "  <thead>\n",
              "    <tr style=\"text-align: right;\">\n",
              "      <th></th>\n",
              "      <th>nb_stagiaires_1</th>\n",
              "      <th>nb_heures_stagiaires_1</th>\n",
              "    </tr>\n",
              "    <tr>\n",
              "      <th>code_specialite_1</th>\n",
              "      <th></th>\n",
              "      <th></th>\n",
              "    </tr>\n",
              "  </thead>\n",
              "  <tbody>\n",
              "    <tr>\n",
              "      <th>312.0</th>\n",
              "      <td>23270.0</td>\n",
              "      <td>1388693.0</td>\n",
              "    </tr>\n",
              "    <tr>\n",
              "      <th>331.0</th>\n",
              "      <td>38382.0</td>\n",
              "      <td>810450.0</td>\n",
              "    </tr>\n",
              "    <tr>\n",
              "      <th>100.0</th>\n",
              "      <td>22827.0</td>\n",
              "      <td>682129.0</td>\n",
              "    </tr>\n",
              "    <tr>\n",
              "      <th>326.0</th>\n",
              "      <td>25022.0</td>\n",
              "      <td>670616.0</td>\n",
              "    </tr>\n",
              "    <tr>\n",
              "      <th>413.0</th>\n",
              "      <td>37370.0</td>\n",
              "      <td>618282.0</td>\n",
              "    </tr>\n",
              "    <tr>\n",
              "      <th>...</th>\n",
              "      <td>...</td>\n",
              "      <td>...</td>\n",
              "    </tr>\n",
              "    <tr>\n",
              "      <th>225.0</th>\n",
              "      <td>35.0</td>\n",
              "      <td>210.0</td>\n",
              "    </tr>\n",
              "    <tr>\n",
              "      <th>223.0</th>\n",
              "      <td>52.0</td>\n",
              "      <td>193.0</td>\n",
              "    </tr>\n",
              "    <tr>\n",
              "      <th>220.0</th>\n",
              "      <td>31.0</td>\n",
              "      <td>174.0</td>\n",
              "    </tr>\n",
              "    <tr>\n",
              "      <th>116.0</th>\n",
              "      <td>10.0</td>\n",
              "      <td>140.0</td>\n",
              "    </tr>\n",
              "    <tr>\n",
              "      <th>222.0</th>\n",
              "      <td>10.0</td>\n",
              "      <td>90.0</td>\n",
              "    </tr>\n",
              "  </tbody>\n",
              "</table>\n",
              "<p>84 rows × 2 columns</p>\n",
              "</div>"
            ],
            "text/plain": [
              "                   nb_stagiaires_1  nb_heures_stagiaires_1\n",
              "code_specialite_1                                         \n",
              "312.0                      23270.0               1388693.0\n",
              "331.0                      38382.0                810450.0\n",
              "100.0                      22827.0                682129.0\n",
              "326.0                      25022.0                670616.0\n",
              "413.0                      37370.0                618282.0\n",
              "...                            ...                     ...\n",
              "225.0                         35.0                   210.0\n",
              "223.0                         52.0                   193.0\n",
              "220.0                         31.0                   174.0\n",
              "116.0                         10.0                   140.0\n",
              "222.0                         10.0                    90.0\n",
              "\n",
              "[84 rows x 2 columns]"
            ]
          },
          "metadata": {},
          "execution_count": 19
        }
      ]
    },
    {
      "cell_type": "markdown",
      "metadata": {
        "id": "H3pIS5Pto-02"
      },
      "source": [
        "La especialidad 312, Comercio y Ventas, es la que tiene más horas de formación, con aproximadamente 59 horas de estudio por pasante. Informática, por su parte, es la cuarta especialidad con más horas de formación, con poco menos de 27 horas de estudio por pasante."
      ]
    },
    {
      "cell_type": "markdown",
      "metadata": {
        "id": "cFSQS1ijWh0V"
      },
      "source": [
        "## Dos gráficas"
      ]
    },
    {
      "cell_type": "markdown",
      "metadata": {
        "id": "0zQYzRtfWdUc"
      },
      "source": [
        "## Dos atributos problemáticos\n",
        "\n",
        "### 1. CFA\n",
        "\n",
        "### 2. Adresse_voie"
      ]
    },
    {
      "cell_type": "markdown",
      "metadata": {
        "id": "qkNm5QL7tRdS"
      },
      "source": [
        "## Conclusiones"
      ]
    }
  ]
}