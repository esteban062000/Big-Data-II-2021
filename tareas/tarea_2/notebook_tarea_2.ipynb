{
  "nbformat": 4,
  "nbformat_minor": 0,
  "metadata": {
    "kernelspec": {
      "display_name": "Python 3",
      "language": "python",
      "name": "python3"
    },
    "language_info": {
      "codemirror_mode": {
        "name": "ipython",
        "version": 3
      },
      "file_extension": ".py",
      "mimetype": "text/x-python",
      "name": "python",
      "nbconvert_exporter": "python",
      "pygments_lexer": "ipython3",
      "version": "3.8.2"
    },
    "colab": {
      "name": "Lab2_Notes.ipynb",
      "provenance": []
    }
  },
  "cells": [
    {
      "cell_type": "markdown",
      "metadata": {
        "id": "TOyFuPJd9C1Z"
      },
      "source": [
        "# Predicción del resultado de partidas de ajedrez a partir de su metadata.\n",
        "\n",
        "**Palabras clave:**\n",
        "\n",
        "- **ELO:** valor numérico que determina la fuerza de un jugador de ajedrez. En Costa Rica, se inicia con 1400 puntos y se alcanza la Primera División con un ELO de 2000, mientras que el campeón nacional tiene una fuerza cercana a 2400. El campeón del mundo, actualmente, posee un ELO de 2855. \n",
        "- **Lichess:** sitio web *open-source* muy popular para jugar ajedrez en línea, con millones de partidas jugadas cada mes. En Internet, los ELOs tienden a ser más altos (debido a las mecánicas que utilizan las páginas para calcularlo).\n",
        "- **Apertura:** primeras jugadas que se realizan en una partida de ajedrez. Típicamente, corresponde a las primeras 10 o 15 movidas.\n",
        "- **ECO:** *Encyclopedia of Chess Openings*; clasificación alfanumérica para todas las aperturas posibles en el ajedrez. Cada código consta de una letra (de la A a la E) seguida de dos dígitos.\n",
        "- **Control de tiempo:** minutos que posee cada jugador para la partida. Una partida *bullet* significa 1 minuto por jugador; una partida *blitz* consta de 5 minutos por jugador.\n",
        "- **Tablas:** empate en ajedrez.\n",
        "- **PGN:** *Portable Game Notation*; extensión de archivo especializado para programas diseñados para trabajar con material de ajedrez.\n",
        "\n",
        "## 1. Descripción del problema y justificación del enfoque a utilizar\n",
        "\n",
        "Con base en las características de una partida de ajedrez (ELO de sus jugadores, apertura jugada, control de tiempo empleado, cantidad de jugadas, entre otros) se desea predecir quién ganó el juego. Para esto, se utilizarán técnicas de aprendizaje automático para clasificación binaria, donde \"1\" significa victoria de las Blancas, mientras que \"0\" significa victoria de las Negras. En este trabajo, no se tomarán en cuenta las partidas que terminaron en tablas, por lo que una clasificación binaria se ajusta bien al escenario planteado.\n",
        "\n",
        "### Dataset a utilizar\n",
        "\n",
        "Se utilizará un *dataset* obtenido de la página [Lichess.org](https://lichess.org/), con cerca de 20 000 partidas jugadas en septiembre del 2017. El *dataset* fue convertido de PGN a CSV por un usuario de Kaggle y se encuentra disponible en dicha página.\n",
        "\n",
        "Puede encontrar el conjunto de datos a utilizar haciendo click en este [enlace](https://www.kaggle.com/datasnaek/chess)."
      ]
    },
    {
      "cell_type": "markdown",
      "metadata": {
        "id": "rOHWYwDZEcwe"
      },
      "source": [
        "## 2. Preprocesamiento y limpieza de datos\n",
        "\n",
        "El preprocesamiento y limpieza de datos fue llevado a cabo con **OpenRefine**. Se adjunta en el repositorio el archivo *.json* con todos los cambios realizados al conjunto de datos.\n",
        "\n",
        "### 2.a Eliminar todas las columnas que no se utilizarán.\n",
        "\n",
        "Para disminuir el ruido que entrará al modelo de aprendizaje automático, se eliminaron todas las columnas en el *dataset* original que no se estudiarán en este trabajo. En específico, se eliminaron los siguientes *features*:\n",
        "\n",
        "- id.\n",
        "- created_at.\n",
        "- last_move_at.\n",
        "- victory_status.\n",
        "- white_id.\n",
        "- black_id. \n",
        "- opening_name.\n",
        "- opening_ply.\n",
        "\n",
        "### 2.b Eliminar todas las partidas cuyo resultado terminó en tablas.\n",
        "\n",
        "Seguidamente, se eliminaron todas las filas cuyo valor en la columna *winner* era \"draw\". Para esto, se utilizó un *text facet* que encontró todas las filas *draw* y se removieron del conjunto de datos. Se eliminaron 950 filas, lo que representa el 4.74% del total de datos. Esto se realizó por tres razones:\n",
        "\n",
        "1. Es un porcentaje lo suficientemente bajo como para justificar su eliminación del conjunto de datos.\n",
        "2. En el presente trabajo, interesa construir un modelo que pueda predecir el ganador de una partida, no las posibilidades de entablar.\n",
        "3. Al eliminar esta tercera opción como un posible resultado, se simplifica el problema de una clasificación multiclase a una clasificación binaria.\n",
        "\n",
        "### 2.c Reordenar las columnas.\n",
        "\n",
        "Para simplificar el código, se colocó la columna de respuesta (*winner*) al final del conjunto de datos."
      ]
    }
  ]
}