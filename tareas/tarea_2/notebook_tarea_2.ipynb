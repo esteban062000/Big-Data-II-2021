{
  "nbformat": 4,
  "nbformat_minor": 0,
  "metadata": {
    "kernelspec": {
      "display_name": "Python 3",
      "language": "python",
      "name": "python3"
    },
    "language_info": {
      "codemirror_mode": {
        "name": "ipython",
        "version": 3
      },
      "file_extension": ".py",
      "mimetype": "text/x-python",
      "name": "python",
      "nbconvert_exporter": "python",
      "pygments_lexer": "ipython3",
      "version": "3.8.2"
    },
    "colab": {
      "name": "Lab2_Notes.ipynb",
      "provenance": []
    }
  },
  "cells": [
    {
      "cell_type": "markdown",
      "metadata": {
        "id": "TOyFuPJd9C1Z"
      },
      "source": [
        "# Predicción del resultado de partidas de ajedrez a partir de su metadata.\n",
        "\n",
        "**Palabras clave:**\n",
        "\n",
        "- **ELO:** valor numérico que determina la fuerza de un jugador de ajedrez. En Costa Rica, se inicia con 1400 puntos y se alcanza la Primera División con un ELO de 2000, mientras que el campeón nacional tiene una fuerza cercana a 2400. El campeón del mundo, actualmente, posee un ELO de 2855. \n",
        "- **Lichess:** sitio web *open-source* muy popular para jugar ajedrez en línea, con millones de partidas jugadas cada mes. En Internet, los ELOs tienden a ser más altos (debido a las mecánicas que utilizan las páginas para calcularlo).\n",
        "- **Apertura:** primeras jugadas que se realizan en una partida de ajedrez. Típicamente, corresponde a las primeras 10 o 15 movidas.\n",
        "- **ECO:** *Encyclopedia of Chess Openings*; clasificación alfanumérica para todas las aperturas posibles en el ajedrez. Cada código consta de una letra (de la A a la E) seguida de dos dígitos.\n",
        "- **Control de tiempo:** minutos que posee cada jugador para la partida. Una partida *bullet* significa 1 minuto por jugador; una partida *blitz* consta de 5 minutos por jugador.\n",
        "- **Tablas:** empate en ajedrez.\n",
        "- **PGN:** *Portable Game Notation*; extensión de archivo especializado para programas diseñados para trabajar con material de ajedrez.\n",
        "\n",
        "## 1. Descripción del problema y justificación del enfoque a utilizar\n",
        "\n",
        "Con base en las características de una partida de ajedrez (ELO de sus jugadores, apertura jugada, control de tiempo empleado, cantidad de jugadas, entre otros) se desea predecir quién ganó el juego. Para esto, se utilizarán técnicas de aprendizaje automático para clasificación binaria, donde \"1\" significa victoria de las Blancas, mientras que \"0\" significa victoria de las Negras. En este trabajo, no se tomarán en cuenta las partidas que terminaron en tablas, por lo que una clasificación binaria se ajusta bien al escenario planteado.\n",
        "\n",
        "### Dataset a utilizar\n",
        "\n",
        "Se utilizará un *dataset* obtenido de la página [Lichess.org](https://lichess.org/), con cerca de 20 000 partidas jugadas en septiembre del 2017. El *dataset* fue convertido de PGN a CSV por un usuario de Kaggle y se encuentra disponible en dicha página.\n",
        "\n",
        "Puede encontrar el conjunto de datos a utilizar haciendo click en este [enlace](https://www.kaggle.com/datasnaek/chess)."
      ]
    },
    {
      "cell_type": "markdown",
      "metadata": {
        "id": "rOHWYwDZEcwe"
      },
      "source": [
        "## 2. Preprocesamiento y limpieza de datos\n",
        "\n",
        "El preprocesamiento y limpieza de datos fue llevado a cabo con **OpenRefine**. Se adjunta en el repositorio el archivo *.json* con todos los cambios realizados al conjunto de datos.\n",
        "\n",
        "### 2.a Eliminar todas las columnas que no se utilizarán.\n",
        "\n",
        "Para disminuir el ruido que entrará al modelo de aprendizaje automático, se eliminaron todas las columnas en el *dataset* original que no se estudiarán en este trabajo. En específico, se eliminaron los siguientes *features*:\n",
        "\n",
        "- id.\n",
        "- created_at.\n",
        "- last_move_at.\n",
        "- victory_status.\n",
        "- white_id.\n",
        "- black_id. \n",
        "- opening_name.\n",
        "- opening_ply.\n",
        "\n",
        "### 2.b Eliminar todas las partidas cuyo resultado terminó en tablas.\n",
        "\n",
        "Seguidamente, se eliminaron todas las filas cuyo valor en la columna *winner* era \"draw\". Para esto, se utilizó un *text facet* que encontró todas las filas *draw* y se removieron del conjunto de datos. Se eliminaron 950 filas, lo que representa el 4.74% del total de datos. Esto se realizó por tres razones:\n",
        "\n",
        "1. Es un porcentaje lo suficientemente bajo como para justificar su eliminación del conjunto de datos.\n",
        "2. En el presente trabajo, interesa construir un modelo que pueda predecir el ganador de una partida, no las posibilidades de entablar.\n",
        "3. Al eliminar esta tercera opción como un posible resultado, se simplifica el problema de una clasificación multiclase a una clasificación binaria.\n",
        "\n",
        "### 2.c Reordenar las columnas.\n",
        "\n",
        "Para simplificar el código, se colocó la columna de respuesta (*winner*) en el extremo derecho del conjunto de datos."
      ]
    },
    {
      "cell_type": "markdown",
      "metadata": {
        "id": "7RYquSVlF-bH"
      },
      "source": [
        "## 3. Transformación de Datos\n",
        "\n",
        "La transformación de datos fue llevada a cabo con **OpenRefine**. Se adjunta en el repositorio el archivo *.json* con todos los cambios realizados al conjunto de datos.\n",
        "\n",
        "### 3.a Convertir columna *rated* a valor numérico.\n",
        "\n",
        "La columna *rated* indica si el juego afectará el rating (es decir, el ELO) de los jugadores. Originalmente, sus valores eran strings de \"TRUE\" o \"FALSE\". Para convertir de estos valores categóricos a valores numéricos, se utilizó el siguiente código GREL:\n",
        "\n",
        "```\n",
        "if(value == \"FALSE\",0,1)\n",
        "```\n",
        "\n",
        "### 3.b Convertir columna *increment_code* a valor numérico.\n",
        "\n",
        "El *feature* *increment_code* indica el control de tiempo de la partida. Por ejemplo, valor de \"15+10\" indica que cada jugador inicia con 15 minutos y, cada vez que realiza un movimiento, se le añaden 10 segundos. Para convertir esta cadena de texto a un valor numérico, se eliminó el incremento (es decir, los segundos que se obtienen con cada jugada) y dejar únicamente el tiempo base (los minutos). Para esto, se utilizó el siguiente código GREL:\n",
        "\n",
        "```\n",
        "value.replace(/\\+.*/,'')\n",
        "```\n",
        "\n",
        "### 3.c Cambiar *opening_eco* a valor numérico.\n",
        "\n",
        "El código ECO representa dos problemas para los modelos de aprendizaje automático: 1. es un valor alfanumérico; 2. existen 500 valores posibles. En este trabajo, se decidió simplificar el código ECO y agrupar por el primer símbolo, es decir, la letra (A,B,C,D o E) que se encuentra al inicio del código. Luego, se le asignó un número a cada letra (A = 1, B = 2, etc) para poder tener una entrada numérica en el modelo. De esta forma, un código ECO de A66 y otro de A32 terminarán con el mismo valor: 1.\n",
        "\n",
        "Esta transformación se basa en la agrupación propia de los códigos ECO: las aperturas de la clase \"A\" son aperturas de flanco; la clase \"B\" contiene a las aperturas semiabiertas; el Gambito de Dama, por ejemplo, se encuentra en la clase \"D\". De esta forma, las aperturas bajo una misma letra en el código ECO no son tan distintas entre sí, lo que permite agruparlas para facilitar la transformación de datos. Para lograr esto, se utilizó el siguiente código GREL:\n",
        "\n",
        "```\n",
        "if(value.startsWith(\"A\"),1,if(value.startsWith(\"B\"),2,if(value.startsWith(\"C\"),3,if(value.startsWith(\"D\"),4,5))))\n",
        "```\n",
        "\n"
      ]
    },
    {
      "cell_type": "markdown",
      "metadata": {
        "id": "n_dr0K_dJlOb"
      },
      "source": [
        "Luego del preprocesamiento y transformación de datos, se tienen los siguientes *features* con los que se trabajará:\n",
        "\n",
        "- isRated.\n",
        "- turns.\n",
        "- timeControl.\n",
        "- whiteRating.\n",
        "- blackRating.\n",
        "- openingECO.\n",
        "- winner."
      ]
    },
    {
      "cell_type": "markdown",
      "metadata": {
        "id": "DOONZG-UKJEE"
      },
      "source": [
        "## 4. Análisis Exploratorio de Datos\n",
        "\n"
      ]
    },
    {
      "cell_type": "markdown",
      "metadata": {
        "id": "pPmxRxRSMZAx"
      },
      "source": [
        "Se cargan los datos desde la computadora local."
      ]
    },
    {
      "cell_type": "code",
      "metadata": {
        "colab": {
          "resources": {
            "http://localhost:8080/nbextensions/google.colab/files.js": {
              "data": "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",
              "ok": true,
              "headers": [
                [
                  "content-type",
                  "application/javascript"
                ]
              ],
              "status": 200,
              "status_text": ""
            }
          },
          "base_uri": "https://localhost:8080/",
          "height": 259
        },
        "id": "aHVXB-IgLwBM",
        "outputId": "72f20a24-e18c-43e5-82c6-3a3c842fb88f"
      },
      "source": [
        "\n",
        "from google.colab import files\n",
        "import pandas as pd\n",
        "uploaded = files.upload()\n",
        "data = pd.read_excel('ChessGames.xlsx')\n",
        "data.to_csv(encoding='utf-8', index=False)\n",
        "data.head()"
      ],
      "execution_count": 3,
      "outputs": [
        {
          "output_type": "display_data",
          "data": {
            "text/html": [
              "\n",
              "     <input type=\"file\" id=\"files-f9f1c5db-1990-4922-a983-4670260caea6\" name=\"files[]\" multiple disabled\n",
              "        style=\"border:none\" />\n",
              "     <output id=\"result-f9f1c5db-1990-4922-a983-4670260caea6\">\n",
              "      Upload widget is only available when the cell has been executed in the\n",
              "      current browser session. Please rerun this cell to enable.\n",
              "      </output>\n",
              "      <script src=\"/nbextensions/google.colab/files.js\"></script> "
            ],
            "text/plain": [
              "<IPython.core.display.HTML object>"
            ]
          },
          "metadata": {}
        },
        {
          "output_type": "stream",
          "name": "stdout",
          "text": [
            "Saving ChessGames.xlsx to ChessGames (1).xlsx\n"
          ]
        },
        {
          "output_type": "execute_result",
          "data": {
            "text/html": [
              "<div>\n",
              "<style scoped>\n",
              "    .dataframe tbody tr th:only-of-type {\n",
              "        vertical-align: middle;\n",
              "    }\n",
              "\n",
              "    .dataframe tbody tr th {\n",
              "        vertical-align: top;\n",
              "    }\n",
              "\n",
              "    .dataframe thead th {\n",
              "        text-align: right;\n",
              "    }\n",
              "</style>\n",
              "<table border=\"1\" class=\"dataframe\">\n",
              "  <thead>\n",
              "    <tr style=\"text-align: right;\">\n",
              "      <th></th>\n",
              "      <th>isRated</th>\n",
              "      <th>turns</th>\n",
              "      <th>timeControl</th>\n",
              "      <th>whiteRating</th>\n",
              "      <th>blackRating</th>\n",
              "      <th>openingECO</th>\n",
              "      <th>winner</th>\n",
              "    </tr>\n",
              "  </thead>\n",
              "  <tbody>\n",
              "    <tr>\n",
              "      <th>0</th>\n",
              "      <td>0</td>\n",
              "      <td>13</td>\n",
              "      <td>15</td>\n",
              "      <td>1500</td>\n",
              "      <td>1191</td>\n",
              "      <td>4</td>\n",
              "      <td>1</td>\n",
              "    </tr>\n",
              "    <tr>\n",
              "      <th>1</th>\n",
              "      <td>1</td>\n",
              "      <td>16</td>\n",
              "      <td>5</td>\n",
              "      <td>1322</td>\n",
              "      <td>1261</td>\n",
              "      <td>2</td>\n",
              "      <td>0</td>\n",
              "    </tr>\n",
              "    <tr>\n",
              "      <th>2</th>\n",
              "      <td>1</td>\n",
              "      <td>61</td>\n",
              "      <td>5</td>\n",
              "      <td>1496</td>\n",
              "      <td>1500</td>\n",
              "      <td>3</td>\n",
              "      <td>1</td>\n",
              "    </tr>\n",
              "    <tr>\n",
              "      <th>3</th>\n",
              "      <td>1</td>\n",
              "      <td>61</td>\n",
              "      <td>20</td>\n",
              "      <td>1439</td>\n",
              "      <td>1454</td>\n",
              "      <td>4</td>\n",
              "      <td>1</td>\n",
              "    </tr>\n",
              "    <tr>\n",
              "      <th>4</th>\n",
              "      <td>1</td>\n",
              "      <td>95</td>\n",
              "      <td>30</td>\n",
              "      <td>1523</td>\n",
              "      <td>1469</td>\n",
              "      <td>3</td>\n",
              "      <td>1</td>\n",
              "    </tr>\n",
              "  </tbody>\n",
              "</table>\n",
              "</div>"
            ],
            "text/plain": [
              "   isRated  turns  timeControl  whiteRating  blackRating  openingECO  winner\n",
              "0        0     13           15         1500         1191           4       1\n",
              "1        1     16            5         1322         1261           2       0\n",
              "2        1     61            5         1496         1500           3       1\n",
              "3        1     61           20         1439         1454           4       1\n",
              "4        1     95           30         1523         1469           3       1"
            ]
          },
          "metadata": {},
          "execution_count": 3
        }
      ]
    },
    {
      "cell_type": "markdown",
      "metadata": {
        "id": "xmiF9aEIMboB"
      },
      "source": [
        "### 4.a Análisis Descriptivo"
      ]
    },
    {
      "cell_type": "markdown",
      "metadata": {
        "id": "7cm_1FBaMkI7"
      },
      "source": [
        "#### 4.a.1 Histograma de *whiteRating*\n",
        "\n",
        "Para conocer la fuerza de los jugadores en el *dataset*, se graficará un histograma con los valores de *whiteRating*. Se esperaría que la figura resultante se asemeje a una distribución normal."
      ]
    },
    {
      "cell_type": "code",
      "metadata": {
        "colab": {
          "base_uri": "https://localhost:8080/",
          "height": 295
        },
        "id": "O9EOPmmeNlxF",
        "outputId": "4531777b-b261-4e9d-b1e3-ce0061c0cb82"
      },
      "source": [
        "import matplotlib.pyplot as plt\n",
        "plt.title('Distribución del ELO en los jugadores con piezas Blancas')\n",
        "plt.xlabel('ELO')\n",
        "plt.ylabel('Cantidad de jugadores')\n",
        "bins= [0,300,600,900,1200,1500,1800,2100,2400,2700,3000]\n",
        "plt.hist(data['whiteRating'], bins=bins, edgecolor=\"k\")\n",
        "plt.xticks(bins)\n",
        "plt.show()"
      ],
      "execution_count": 4,
      "outputs": [
        {
          "output_type": "display_data",
          "data": {
            "image/png": "[encoded data removed]",
            "text/plain": [
              "<Figure size 432x288 with 1 Axes>"
            ]
          },
          "metadata": {
            "needs_background": "light"
          }
        }
      ]
    },
    {
      "cell_type": "markdown",
      "metadata": {
        "id": "uDIfFcWgblcs"
      },
      "source": [
        "Como se puede apreciar, la fuerza de los jugadores sigue una distribución más o menos normal, En particular, la gran mayoría de jugadores se encuentran entre 1200 y 2100 puntos de ELO, siendo el rango con más jugadores el de 1500 a 1800 puntos. "
      ]
    },
    {
      "cell_type": "markdown",
      "metadata": {
        "id": "LLCMK40YRkLn"
      },
      "source": [
        "#### 4.a.2 Histograma de *winner*"
      ]
    },
    {
      "cell_type": "markdown",
      "metadata": {
        "id": "0dvw-XPBb-JG"
      },
      "source": [
        "Seguidamente, se desea conocer cuál color de piezas obtiene más victorias, mediante un histograma. En este caso, se espera una leve mayoría de victorias con las piezas Blancas.\n",
        "\n",
        "En el eje x del siguiente gráfico, el \"0\" representa a las piezas Negras y el \"1\" a las piezas Blancas."
      ]
    },
    {
      "cell_type": "code",
      "metadata": {
        "colab": {
          "base_uri": "https://localhost:8080/",
          "height": 295
        },
        "id": "6PexdUwDRpLf",
        "outputId": "f5226086-53e3-480d-889b-89a5f0e5bcec"
      },
      "source": [
        "plt.title('Distribución de victorias por color de piezas')\n",
        "plt.xlabel('Color de piezas')\n",
        "plt.ylabel('Cantidad de victorias')\n",
        "plt.hist(data['winner'],  edgecolor=\"k\")\n",
        "bins = [1]\n",
        "plt.xticks(bins)\n",
        "plt.show()"
      ],
      "execution_count": 14,
      "outputs": [
        {
          "output_type": "display_data",
          "data": {
            "image/png": "[encoded data removed]",
            "text/plain": [
              "<Figure size 432x288 with 1 Axes>"
            ]
          },
          "metadata": {
            "needs_background": "light"
          }
        }
      ]
    },
    {
      "cell_type": "markdown",
      "metadata": {
        "id": "e-T25o7CcIIe"
      },
      "source": [
        "El gráfico confirma la suposición inicial: las Blancas ganan más partidas que las Negras, pero por un margen pequeño."
      ]
    },
    {
      "cell_type": "markdown",
      "metadata": {
        "id": "9Z2pIQKmOcUO"
      },
      "source": [
        "#### 4.a.3 Histograma de *openingECO*\n",
        "\n",
        "Finalmente, se desea conocer cuáles aperturas son las más jugadas. Para esto, se realiza nuevamente un histograma. "
      ]
    },
    {
      "cell_type": "code",
      "metadata": {
        "colab": {
          "base_uri": "https://localhost:8080/",
          "height": 296
        },
        "id": "6O7XbA0JQbvT",
        "outputId": "daba2d50-3d64-4d2c-a4cc-cd2f678ff7a9"
      },
      "source": [
        "plt.title('Distribución de los códigos ECO jugados')\n",
        "plt.xlabel('Código ECO')\n",
        "plt.ylabel('Cantidad de partidas')\n",
        "plt.hist(data['openingECO'],  edgecolor=\"k\")\n",
        "bins = [1,2,3,4,5]\n",
        "plt.xticks(bins)\n",
        "plt.show()"
      ],
      "execution_count": 21,
      "outputs": [
        {
          "output_type": "display_data",
          "data": {
            "image/png": "[encoded data removed]",
            "text/plain": [
              "<Figure size 432x288 with 1 Axes>"
            ]
          },
          "metadata": {
            "needs_background": "light"
          }
        }
      ]
    },
    {
      "cell_type": "markdown",
      "metadata": {
        "id": "RHjW1ha6cety"
      },
      "source": [
        "Como se puede apreciar, las aperturas del grupo ECO \"B\" y \"C\" son las más utilizadas. Esto concuerda con la teoría: la apertura más utilizada en ajedrez, la Española o Ruy López, tiene el código ECO C60 a C99. Las aperturas de la categoría \"E\", las Defensas Indias, son las menos utilizadas por los jugadores."
      ]
    },
    {
      "cell_type": "markdown",
      "metadata": {
        "id": "oZlYDsN0bA4k"
      },
      "source": [
        "### 4.b Correlación entre ELO y *winner*"
      ]
    },
    {
      "cell_type": "markdown",
      "metadata": {
        "id": "MyEO3gNOc6RB"
      },
      "source": [
        "Con el fin de evitar una suposición común para personas ajenas al juego, se graficará un diagrama de dispersión para encontrar si hay alguna relación entre el ELO de un jugador y el resultado de la partida.\n",
        "\n",
        "Primeramente, se grafica con el ELO de las Blancas:"
      ]
    },
    {
      "cell_type": "code",
      "metadata": {
        "colab": {
          "base_uri": "https://localhost:8080/",
          "height": 295
        },
        "id": "5_d9oZv_bLX6",
        "outputId": "9f9abab2-7fe9-427f-d31e-6f5fe9dd5021"
      },
      "source": [
        "data.plot.scatter(y = 'winner', x = 'whiteRating', title = \"Diagrama de dispersión entre whiteRating y winner\");"
      ],
      "execution_count": 27,
      "outputs": [
        {
          "output_type": "display_data",
          "data": {
            "image/png": "[encoded data removed]",
            "text/plain": [
              "<Figure size 432x288 with 1 Axes>"
            ]
          },
          "metadata": {
            "needs_background": "light"
          }
        }
      ]
    },
    {
      "cell_type": "markdown",
      "metadata": {
        "id": "txhG_cbPdPkM"
      },
      "source": [
        "Luego, se grafica con el ELO de las Negras:"
      ]
    },
    {
      "cell_type": "code",
      "metadata": {
        "colab": {
          "base_uri": "https://localhost:8080/",
          "height": 295
        },
        "id": "ACrkN4_4Zjk0",
        "outputId": "509a3a24-6b6c-4af3-affa-5375d4727a9b"
      },
      "source": [
        "data.plot.scatter( x = 'blackRating', y = 'winner', title = \"Diagrama de dispersión entre blackRating y winner\");"
      ],
      "execution_count": 26,
      "outputs": [
        {
          "output_type": "display_data",
          "data": {
            "image/png": "[encoded data removed]",
            "text/plain": [
              "<Figure size 432x288 with 1 Axes>"
            ]
          },
          "metadata": {
            "needs_background": "light"
          }
        }
      ]
    },
    {
      "cell_type": "markdown",
      "metadata": {
        "id": "D5kKC32ndbmQ"
      },
      "source": [
        "Como se aprecia en los gráficos anteriores, no existe ninguna relación entre el ELO de un jugador y el valor de *winner*. Esto se debe a que, conforme aumenta el ELO, aumenta también el ELO de los rivales a los que se enfrentará, por lo que la cantidad de victorias y derrotas se mantiene, por lo general, uniforme a lo largo de los rangos de ELO."
      ]
    },
    {
      "cell_type": "markdown",
      "metadata": {
        "id": "pXKFEZs6adBw"
      },
      "source": [
        "### 4.c Particionamiento entre jugadores con más de 2000 ELO y jugadores con menos de 2000 ELO"
      ]
    },
    {
      "cell_type": "markdown",
      "metadata": {
        "id": "awyT4sGfdxKr"
      },
      "source": [
        "Se desea conocer cómo cambian las aperturas utilizadas por los jugadores después de cierta fuerza de juego. Para esto, se agruparán a los jugadores de piezas Blancas en dos categorías: ELO mayor a 2000 (más fuertes) y ELO menor a 2000 (más débiles). \n",
        "\n",
        "Se agrupará por las piezas Blancas porque se tiene más capacidad de elegir cuál apertura jugar que con las piezas Negras. Por ejemplo, si un jugador de piezas Blancas decide jugar Peón Rey, no hay forma de que las Negras puedan llevar la partida a un código ECO \"A\" o \"D\".\n",
        "\n",
        "Se eligió la marca de 2000 puesto que es la puntuación necesaria para alcanzar la Primera División en Costa Rica. Esto **no** quiere decir que los jugadores necesariamente tienen esa fuerza (dado que en Internet los ELOs son más altos), pero sí indica que el jugador ha dedicado un tiempo considerable al estudio del juego.\n",
        "\n"
      ]
    },
    {
      "cell_type": "code",
      "metadata": {
        "colab": {
          "base_uri": "https://localhost:8080/"
        },
        "id": "gFEcBKt6aLa7",
        "outputId": "1dd47eff-dafe-431e-960c-d73a013490d7"
      },
      "source": [
        "dataStrong = data[(data[\"whiteRating\"] >= 2000)]\n",
        "dataWeak = data[(data[\"whiteRating\"] < 2000)]\n",
        "print(\"Observaciones totales = \", len(data))\n",
        "print(\"Observaciones de jugadores con ELO < 2000 = \", len(dataWeak))\n",
        "print(\"Observaciones de jugadores con ELO >= 2000 \", len(dataStrong))"
      ],
      "execution_count": 28,
      "outputs": [
        {
          "output_type": "stream",
          "name": "stdout",
          "text": [
            "Observaciones totales =  19108\n",
            "Observaciones de jugadores con ELO < 2000 =  17420\n",
            "Observaciones de jugadores con ELO >= 2000  1688\n"
          ]
        }
      ]
    },
    {
      "cell_type": "markdown",
      "metadata": {
        "id": "RPIE5Nl5e5zK"
      },
      "source": [
        "Primeramente, se grafican las aperturas jugadas por los ELOs menores a 2000:"
      ]
    },
    {
      "cell_type": "code",
      "metadata": {
        "colab": {
          "base_uri": "https://localhost:8080/",
          "height": 296
        },
        "id": "dDChxEXva3B8",
        "outputId": "bc0ba7b2-7f81-418c-9725-93d2c506e51b"
      },
      "source": [
        "plt.title('Distribución de los códigos ECO jugados ( < 2000 ELO)')\n",
        "plt.xlabel('Código ECO')\n",
        "plt.ylabel('Cantidad de partidas')\n",
        "plt.hist(dataWeak['openingECO'],  edgecolor=\"k\")\n",
        "bins = [1,2,3,4,5]\n",
        "plt.xticks(bins)\n",
        "plt.show()"
      ],
      "execution_count": 23,
      "outputs": [
        {
          "output_type": "display_data",
          "data": {
            "image/png": "[encoded data removed]",
            "text/plain": [
              "<Figure size 432x288 with 1 Axes>"
            ]
          },
          "metadata": {
            "needs_background": "light"
          }
        }
      ]
    },
    {
      "cell_type": "markdown",
      "metadata": {
        "id": "YWaJhMH-esmb"
      },
      "source": [
        "Luego, se grafican las aperturas de los jugadores más fuertes:"
      ]
    },
    {
      "cell_type": "code",
      "metadata": {
        "colab": {
          "base_uri": "https://localhost:8080/",
          "height": 296
        },
        "id": "sxnessY4atIn",
        "outputId": "6f539a83-96bc-4580-a55c-542f3dff980e"
      },
      "source": [
        "plt.title('Distribución de los códigos ECO jugados ( >= 2000 ELO)')\n",
        "plt.xlabel('Código ECO')\n",
        "plt.ylabel('Cantidad de partidas')\n",
        "plt.hist(dataStrong['openingECO'],  edgecolor=\"k\")\n",
        "bins = [1,2,3,4,5]\n",
        "plt.xticks(bins)\n",
        "plt.show()"
      ],
      "execution_count": 22,
      "outputs": [
        {
          "output_type": "display_data",
          "data": {
            "image/png": "[encoded data removed]",
            "text/plain": [
              "<Figure size 432x288 with 1 Axes>"
            ]
          },
          "metadata": {
            "needs_background": "light"
          }
        }
      ]
    },
    {
      "cell_type": "markdown",
      "metadata": {
        "id": "bu7J2HdNfLGH"
      },
      "source": [
        "De los 2 gráficos anteriores se pueden extraer algunas conclusiones:\n",
        "\n",
        "- Los jugadores más fuertes utilizan las aperturas de la categoría \"E\" (Defensas Indias) en mayor proporción que los más débiles. Esto se debe a que dichas aperturas son considerablemente más complejas de jugar, por lo que requieren mayor estudio para emplearlas correctamente.\n",
        "- Los jugadores más débiles prefieren las aperturas de la categoría \"C\", mientras que los más fuertes prefieren las de la categoría \"B\". Esto se explica, en parte, a la adopción de la Defensa Siciliana como apertura favorita de los jugadores más experimentados; la Siciliana ocupa los códigos B20-B99.\n",
        "- Las aperturas de la cateogría \"D\" parecen ser jugadas en igual proporción, tanto por jugadores fuertes como por jugadores débiles."
      ]
    },
    {
      "cell_type": "markdown",
      "metadata": {
        "id": "6AFJ0i8UhAty"
      },
      "source": [
        "## 5. Algoritmos de aprendizaje de máquina"
      ]
    },
    {
      "cell_type": "markdown",
      "metadata": {
        "id": "H_wDZAg1hDhA"
      },
      "source": [
        "### 5.a Red Neuronal \n",
        "\n",
        "Las variables del *dataset* se resumen a continuación:\n",
        "\n",
        "**Variables de entrada (X):**\n",
        "\n",
        "1. isRated.\n",
        "2. turns.\n",
        "3. timeControl.\n",
        "4. whiteRating.\n",
        "5. blackRating.\n",
        "6. openingECO.\n",
        "\n",
        "**Variable de salida (Y):**\n",
        "1. winner (variable de clase; 1 o 0).\n",
        "\n",
        "Una vez cargados los datos, se pueden seleccionar las variables de entrada y, por aparte, la columna de salida:"
      ]
    },
    {
      "cell_type": "code",
      "metadata": {
        "id": "8gcI-9bniAyA"
      },
      "source": [
        "X = data.iloc[:,0:6]\n",
        "y = data.iloc[:, 6]"
      ],
      "execution_count": 35,
      "outputs": []
    },
    {
      "cell_type": "code",
      "metadata": {
        "colab": {
          "base_uri": "https://localhost:8080/",
          "height": 204
        },
        "id": "f-660mW3ik0X",
        "outputId": "36fa6b26-9f6d-4d6d-9067-37d9cebdf195"
      },
      "source": [
        "X.head()"
      ],
      "execution_count": 37,
      "outputs": [
        {
          "output_type": "execute_result",
          "data": {
            "text/html": [
              "<div>\n",
              "<style scoped>\n",
              "    .dataframe tbody tr th:only-of-type {\n",
              "        vertical-align: middle;\n",
              "    }\n",
              "\n",
              "    .dataframe tbody tr th {\n",
              "        vertical-align: top;\n",
              "    }\n",
              "\n",
              "    .dataframe thead th {\n",
              "        text-align: right;\n",
              "    }\n",
              "</style>\n",
              "<table border=\"1\" class=\"dataframe\">\n",
              "  <thead>\n",
              "    <tr style=\"text-align: right;\">\n",
              "      <th></th>\n",
              "      <th>isRated</th>\n",
              "      <th>turns</th>\n",
              "      <th>timeControl</th>\n",
              "      <th>whiteRating</th>\n",
              "      <th>blackRating</th>\n",
              "      <th>openingECO</th>\n",
              "    </tr>\n",
              "  </thead>\n",
              "  <tbody>\n",
              "    <tr>\n",
              "      <th>0</th>\n",
              "      <td>0</td>\n",
              "      <td>13</td>\n",
              "      <td>15</td>\n",
              "      <td>1500</td>\n",
              "      <td>1191</td>\n",
              "      <td>4</td>\n",
              "    </tr>\n",
              "    <tr>\n",
              "      <th>1</th>\n",
              "      <td>1</td>\n",
              "      <td>16</td>\n",
              "      <td>5</td>\n",
              "      <td>1322</td>\n",
              "      <td>1261</td>\n",
              "      <td>2</td>\n",
              "    </tr>\n",
              "    <tr>\n",
              "      <th>2</th>\n",
              "      <td>1</td>\n",
              "      <td>61</td>\n",
              "      <td>5</td>\n",
              "      <td>1496</td>\n",
              "      <td>1500</td>\n",
              "      <td>3</td>\n",
              "    </tr>\n",
              "    <tr>\n",
              "      <th>3</th>\n",
              "      <td>1</td>\n",
              "      <td>61</td>\n",
              "      <td>20</td>\n",
              "      <td>1439</td>\n",
              "      <td>1454</td>\n",
              "      <td>4</td>\n",
              "    </tr>\n",
              "    <tr>\n",
              "      <th>4</th>\n",
              "      <td>1</td>\n",
              "      <td>95</td>\n",
              "      <td>30</td>\n",
              "      <td>1523</td>\n",
              "      <td>1469</td>\n",
              "      <td>3</td>\n",
              "    </tr>\n",
              "  </tbody>\n",
              "</table>\n",
              "</div>"
            ],
            "text/plain": [
              "   isRated  turns  timeControl  whiteRating  blackRating  openingECO\n",
              "0        0     13           15         1500         1191           4\n",
              "1        1     16            5         1322         1261           2\n",
              "2        1     61            5         1496         1500           3\n",
              "3        1     61           20         1439         1454           4\n",
              "4        1     95           30         1523         1469           3"
            ]
          },
          "metadata": {},
          "execution_count": 37
        }
      ]
    },
    {
      "cell_type": "code",
      "metadata": {
        "colab": {
          "base_uri": "https://localhost:8080/"
        },
        "id": "OnvPJzhoiopv",
        "outputId": "3b997d96-c87f-4bf7-f2d6-f92e1a308dd8"
      },
      "source": [
        "y.head()"
      ],
      "execution_count": 36,
      "outputs": [
        {
          "output_type": "execute_result",
          "data": {
            "text/plain": [
              "0    1\n",
              "1    0\n",
              "2    1\n",
              "3    1\n",
              "4    1\n",
              "Name: winner, dtype: int64"
            ]
          },
          "metadata": {},
          "execution_count": 36
        }
      ]
    },
    {
      "cell_type": "markdown",
      "metadata": {
        "id": "9mI4Z0U3hyDr"
      },
      "source": [
        "#### 5.a.1 Definir modelo de Keras\n",
        "\n",
        "Se utilizará la siguiente arquitectura en la red:\n",
        "\n",
        "- La capa de entrada tendrá una dimensión de 6, una neurona por cada *feature*.\n",
        "- La primera capa oculta utiliza 12 nodos y la función ReLU.\n",
        "- La segunda capa oculta tiene 8 nodos y la función ReLU.\n",
        "- La capa de salida tiene un nodo y utiliza la función sigmoide."
      ]
    },
    {
      "cell_type": "code",
      "metadata": {
        "id": "bsbggbuljV9P"
      },
      "source": [
        "# define the keras model\n",
        "from numpy import loadtxt\n",
        "from keras.models import Sequential\n",
        "from keras.layers import Dense\n",
        "model = Sequential()\n",
        "model.add(Dense(12, input_dim=6, activation='relu'))\n",
        "model.add(Dense(8, activation='relu'))\n",
        "model.add(Dense(1, activation='sigmoid'))\n"
      ],
      "execution_count": 39,
      "outputs": []
    },
    {
      "cell_type": "markdown",
      "metadata": {
        "id": "usc4HFPrjgtq"
      },
      "source": [
        "#### 5.a.2 Compilar el modelo Keras\n",
        "\n",
        "Se utilizará cross entropy como la *loss function* y adam como el *optimizer*. También, puesto que se está trabajando con un problema de clasificación, se desea reportar la precisión, definida mediante el argumento metrics."
      ]
    },
    {
      "cell_type": "code",
      "metadata": {
        "id": "OF6_zTvIjyU0"
      },
      "source": [
        "# compile the keras model\n",
        "model.compile(loss='binary_crossentropy', optimizer='adam', metrics=['accuracy'])"
      ],
      "execution_count": 40,
      "outputs": []
    },
    {
      "cell_type": "markdown",
      "metadata": {
        "id": "SYlqpJ77j1ms"
      },
      "source": [
        "#### 5.a.3 Entrenar el modelo\n",
        "\n",
        "Para el entrenamiento, se utilizarán 100 epochs y un batch size de 10."
      ]
    },
    {
      "cell_type": "code",
      "metadata": {
        "colab": {
          "base_uri": "https://localhost:8080/"
        },
        "id": "GK3ajxlEkQs4",
        "outputId": "ed2ab46e-dcba-4599-b039-b8552d7449cc"
      },
      "source": [
        "# fit the keras model on the dataset\n",
        "model.fit(X, y, epochs=100, batch_size=10)"
      ],
      "execution_count": 42,
      "outputs": [
        {
          "output_type": "stream",
          "name": "stdout",
          "text": [
            "Epoch 1/100\n",
            "1911/1911 [==============================] - 3s 1ms/step - loss: 0.6921 - accuracy: 0.5234\n",
            "Epoch 2/100\n",
            "1911/1911 [==============================] - 3s 1ms/step - loss: 0.6921 - accuracy: 0.5234\n",
            "Epoch 3/100\n",
            "1911/1911 [==============================] - 3s 1ms/step - loss: 0.6921 - accuracy: 0.5234\n",
            "Epoch 4/100\n",
            "1911/1911 [==============================] - 3s 1ms/step - loss: 0.6921 - accuracy: 0.5234\n",
            "Epoch 5/100\n",
            "1911/1911 [==============================] - 3s 1ms/step - loss: 0.6921 - accuracy: 0.5234\n",
            "Epoch 6/100\n",
            "1911/1911 [==============================] - 3s 1ms/step - loss: 0.6921 - accuracy: 0.5234\n",
            "Epoch 7/100\n",
            "1911/1911 [==============================] - 3s 1ms/step - loss: 0.6921 - accuracy: 0.5234\n",
            "Epoch 8/100\n",
            "1911/1911 [==============================] - 3s 1ms/step - loss: 0.6921 - accuracy: 0.5234\n",
            "Epoch 9/100\n",
            "1911/1911 [==============================] - 3s 1ms/step - loss: 0.6921 - accuracy: 0.5234\n",
            "Epoch 10/100\n",
            "1911/1911 [==============================] - 3s 1ms/step - loss: 0.6921 - accuracy: 0.5234\n",
            "Epoch 11/100\n",
            "1911/1911 [==============================] - 3s 1ms/step - loss: 0.6921 - accuracy: 0.5234\n",
            "Epoch 12/100\n",
            "1911/1911 [==============================] - 3s 1ms/step - loss: 0.6921 - accuracy: 0.5234\n",
            "Epoch 13/100\n",
            "1911/1911 [==============================] - 3s 1ms/step - loss: 0.6921 - accuracy: 0.5234\n",
            "Epoch 14/100\n",
            "1911/1911 [==============================] - 3s 1ms/step - loss: 0.6921 - accuracy: 0.5234\n",
            "Epoch 15/100\n",
            "1911/1911 [==============================] - 3s 1ms/step - loss: 0.6921 - accuracy: 0.5234\n",
            "Epoch 16/100\n",
            "1911/1911 [==============================] - 3s 1ms/step - loss: 0.6921 - accuracy: 0.5234\n",
            "Epoch 17/100\n",
            "1911/1911 [==============================] - 3s 1ms/step - loss: 0.6921 - accuracy: 0.5234\n",
            "Epoch 18/100\n",
            "1911/1911 [==============================] - 3s 1ms/step - loss: 0.6921 - accuracy: 0.5234\n",
            "Epoch 19/100\n",
            "1911/1911 [==============================] - 3s 1ms/step - loss: 0.6921 - accuracy: 0.5234\n",
            "Epoch 20/100\n",
            "1911/1911 [==============================] - 3s 1ms/step - loss: 0.6921 - accuracy: 0.5234\n",
            "Epoch 21/100\n",
            "1911/1911 [==============================] - 3s 1ms/step - loss: 0.6921 - accuracy: 0.5234\n",
            "Epoch 22/100\n",
            "1911/1911 [==============================] - 3s 1ms/step - loss: 0.6921 - accuracy: 0.5234\n",
            "Epoch 23/100\n",
            "1911/1911 [==============================] - 3s 1ms/step - loss: 0.6921 - accuracy: 0.5234\n",
            "Epoch 24/100\n",
            "1911/1911 [==============================] - 3s 1ms/step - loss: 0.6921 - accuracy: 0.5234\n",
            "Epoch 25/100\n",
            "1911/1911 [==============================] - 3s 1ms/step - loss: 0.6921 - accuracy: 0.5234\n",
            "Epoch 26/100\n",
            "1911/1911 [==============================] - 3s 1ms/step - loss: 0.6921 - accuracy: 0.5234\n",
            "Epoch 27/100\n",
            "1911/1911 [==============================] - 3s 1ms/step - loss: 0.6921 - accuracy: 0.5234\n",
            "Epoch 28/100\n",
            "1911/1911 [==============================] - 3s 1ms/step - loss: 0.6921 - accuracy: 0.5234\n",
            "Epoch 29/100\n",
            "1911/1911 [==============================] - 3s 1ms/step - loss: 0.6921 - accuracy: 0.5234\n",
            "Epoch 30/100\n",
            "1911/1911 [==============================] - 3s 1ms/step - loss: 0.6921 - accuracy: 0.5234\n",
            "Epoch 31/100\n",
            "1911/1911 [==============================] - 3s 1ms/step - loss: 0.6921 - accuracy: 0.5234\n",
            "Epoch 32/100\n",
            "1911/1911 [==============================] - 3s 1ms/step - loss: 0.6921 - accuracy: 0.5234\n",
            "Epoch 33/100\n",
            "1911/1911 [==============================] - 3s 1ms/step - loss: 0.6921 - accuracy: 0.5234\n",
            "Epoch 34/100\n",
            "1911/1911 [==============================] - 3s 1ms/step - loss: 0.6921 - accuracy: 0.5234\n",
            "Epoch 35/100\n",
            "1911/1911 [==============================] - 3s 1ms/step - loss: 0.6921 - accuracy: 0.5234\n",
            "Epoch 36/100\n",
            "1911/1911 [==============================] - 3s 1ms/step - loss: 0.6921 - accuracy: 0.5234\n",
            "Epoch 37/100\n",
            "1911/1911 [==============================] - 2s 1ms/step - loss: 0.6921 - accuracy: 0.5234\n",
            "Epoch 38/100\n",
            "1911/1911 [==============================] - 3s 1ms/step - loss: 0.6921 - accuracy: 0.5234\n",
            "Epoch 39/100\n",
            "1911/1911 [==============================] - 3s 1ms/step - loss: 0.6921 - accuracy: 0.5234\n",
            "Epoch 40/100\n",
            "1911/1911 [==============================] - 3s 1ms/step - loss: 0.6921 - accuracy: 0.5234\n",
            "Epoch 41/100\n",
            "1911/1911 [==============================] - 3s 1ms/step - loss: 0.6921 - accuracy: 0.5234\n",
            "Epoch 42/100\n",
            "1911/1911 [==============================] - 3s 1ms/step - loss: 0.6921 - accuracy: 0.5234\n",
            "Epoch 43/100\n",
            "1911/1911 [==============================] - 3s 1ms/step - loss: 0.6921 - accuracy: 0.5234\n",
            "Epoch 44/100\n",
            "1911/1911 [==============================] - 3s 1ms/step - loss: 0.6921 - accuracy: 0.5234\n",
            "Epoch 45/100\n",
            "1911/1911 [==============================] - 3s 1ms/step - loss: 0.6921 - accuracy: 0.5234\n",
            "Epoch 46/100\n",
            "1911/1911 [==============================] - 3s 1ms/step - loss: 0.6921 - accuracy: 0.5234\n",
            "Epoch 47/100\n",
            "1911/1911 [==============================] - 3s 1ms/step - loss: 0.6921 - accuracy: 0.5234\n",
            "Epoch 48/100\n",
            "1911/1911 [==============================] - 3s 1ms/step - loss: 0.6921 - accuracy: 0.5234\n",
            "Epoch 49/100\n",
            "1911/1911 [==============================] - 3s 1ms/step - loss: 0.6921 - accuracy: 0.5234\n",
            "Epoch 50/100\n",
            "1911/1911 [==============================] - 3s 1ms/step - loss: 0.6921 - accuracy: 0.5234\n",
            "Epoch 51/100\n",
            "1911/1911 [==============================] - 3s 1ms/step - loss: 0.6921 - accuracy: 0.5234\n",
            "Epoch 52/100\n",
            "1911/1911 [==============================] - 3s 1ms/step - loss: 0.6921 - accuracy: 0.5234\n",
            "Epoch 53/100\n",
            "1911/1911 [==============================] - 3s 1ms/step - loss: 0.6921 - accuracy: 0.5234\n",
            "Epoch 54/100\n",
            "1911/1911 [==============================] - 3s 1ms/step - loss: 0.6921 - accuracy: 0.5234\n",
            "Epoch 55/100\n",
            "1911/1911 [==============================] - 3s 1ms/step - loss: 0.6921 - accuracy: 0.5234\n",
            "Epoch 56/100\n",
            "1911/1911 [==============================] - 3s 1ms/step - loss: 0.6921 - accuracy: 0.5234\n",
            "Epoch 57/100\n",
            "1911/1911 [==============================] - 3s 1ms/step - loss: 0.6921 - accuracy: 0.5234\n",
            "Epoch 58/100\n",
            "1911/1911 [==============================] - 3s 1ms/step - loss: 0.6921 - accuracy: 0.5234\n",
            "Epoch 59/100\n",
            "1911/1911 [==============================] - 3s 1ms/step - loss: 0.6921 - accuracy: 0.5234\n",
            "Epoch 60/100\n",
            "1911/1911 [==============================] - 3s 1ms/step - loss: 0.6921 - accuracy: 0.5234\n",
            "Epoch 61/100\n",
            "1911/1911 [==============================] - 3s 1ms/step - loss: 0.6921 - accuracy: 0.5234\n",
            "Epoch 62/100\n",
            "1911/1911 [==============================] - 3s 1ms/step - loss: 0.6921 - accuracy: 0.5234\n",
            "Epoch 63/100\n",
            "1911/1911 [==============================] - 3s 1ms/step - loss: 0.6921 - accuracy: 0.5234\n",
            "Epoch 64/100\n",
            "1911/1911 [==============================] - 3s 1ms/step - loss: 0.6921 - accuracy: 0.5234\n",
            "Epoch 65/100\n",
            "1911/1911 [==============================] - 3s 1ms/step - loss: 0.6921 - accuracy: 0.5234\n",
            "Epoch 66/100\n",
            "1911/1911 [==============================] - 3s 1ms/step - loss: 0.6921 - accuracy: 0.5234\n",
            "Epoch 67/100\n",
            "1911/1911 [==============================] - 3s 1ms/step - loss: 0.6921 - accuracy: 0.5234\n",
            "Epoch 68/100\n",
            "1911/1911 [==============================] - 3s 1ms/step - loss: 0.6921 - accuracy: 0.5234\n",
            "Epoch 69/100\n",
            "1911/1911 [==============================] - 3s 1ms/step - loss: 0.6921 - accuracy: 0.5234\n",
            "Epoch 70/100\n",
            "1911/1911 [==============================] - 3s 1ms/step - loss: 0.6921 - accuracy: 0.5234\n",
            "Epoch 71/100\n",
            "1911/1911 [==============================] - 3s 1ms/step - loss: 0.6921 - accuracy: 0.5234\n",
            "Epoch 72/100\n",
            "1911/1911 [==============================] - 3s 1ms/step - loss: 0.6921 - accuracy: 0.5234\n",
            "Epoch 73/100\n",
            "1911/1911 [==============================] - 3s 1ms/step - loss: 0.6921 - accuracy: 0.5234\n",
            "Epoch 74/100\n",
            "1911/1911 [==============================] - 3s 1ms/step - loss: 0.6921 - accuracy: 0.5234\n",
            "Epoch 75/100\n",
            "1911/1911 [==============================] - 3s 1ms/step - loss: 0.6921 - accuracy: 0.5234\n",
            "Epoch 76/100\n",
            "1911/1911 [==============================] - 3s 1ms/step - loss: 0.6921 - accuracy: 0.5234\n",
            "Epoch 77/100\n",
            "1911/1911 [==============================] - 3s 1ms/step - loss: 0.6921 - accuracy: 0.5234\n",
            "Epoch 78/100\n",
            "1911/1911 [==============================] - 3s 1ms/step - loss: 0.6921 - accuracy: 0.5234\n",
            "Epoch 79/100\n",
            "1911/1911 [==============================] - 3s 1ms/step - loss: 0.6921 - accuracy: 0.5234\n",
            "Epoch 80/100\n",
            "1911/1911 [==============================] - 3s 1ms/step - loss: 0.6920 - accuracy: 0.5234\n",
            "Epoch 81/100\n",
            "1911/1911 [==============================] - 3s 1ms/step - loss: 0.6922 - accuracy: 0.5234\n",
            "Epoch 82/100\n",
            "1911/1911 [==============================] - 3s 1ms/step - loss: 0.6921 - accuracy: 0.5234\n",
            "Epoch 83/100\n",
            "1911/1911 [==============================] - 3s 1ms/step - loss: 0.6921 - accuracy: 0.5234\n",
            "Epoch 84/100\n",
            "1911/1911 [==============================] - 3s 1ms/step - loss: 0.6921 - accuracy: 0.5234\n",
            "Epoch 85/100\n",
            "1911/1911 [==============================] - 3s 1ms/step - loss: 0.6921 - accuracy: 0.5234\n",
            "Epoch 86/100\n",
            "1911/1911 [==============================] - 3s 1ms/step - loss: 0.6921 - accuracy: 0.5234\n",
            "Epoch 87/100\n",
            "1911/1911 [==============================] - 3s 1ms/step - loss: 0.6921 - accuracy: 0.5234\n",
            "Epoch 88/100\n",
            "1911/1911 [==============================] - 3s 1ms/step - loss: 0.6921 - accuracy: 0.5234\n",
            "Epoch 89/100\n",
            "1911/1911 [==============================] - 3s 1ms/step - loss: 0.6921 - accuracy: 0.5234\n",
            "Epoch 90/100\n",
            "1911/1911 [==============================] - 3s 1ms/step - loss: 0.6921 - accuracy: 0.5234\n",
            "Epoch 91/100\n",
            "1911/1911 [==============================] - 3s 1ms/step - loss: 0.6921 - accuracy: 0.5234\n",
            "Epoch 92/100\n",
            "1911/1911 [==============================] - 3s 1ms/step - loss: 0.6921 - accuracy: 0.5234\n",
            "Epoch 93/100\n",
            "1911/1911 [==============================] - 3s 1ms/step - loss: 0.6921 - accuracy: 0.5234\n",
            "Epoch 94/100\n",
            "1911/1911 [==============================] - 3s 1ms/step - loss: 0.6921 - accuracy: 0.5234\n",
            "Epoch 95/100\n",
            "1911/1911 [==============================] - 3s 1ms/step - loss: 0.6921 - accuracy: 0.5234\n",
            "Epoch 96/100\n",
            "1911/1911 [==============================] - 3s 1ms/step - loss: 0.6921 - accuracy: 0.5234\n",
            "Epoch 97/100\n",
            "1911/1911 [==============================] - 3s 1ms/step - loss: 0.6921 - accuracy: 0.5234\n",
            "Epoch 98/100\n",
            "1911/1911 [==============================] - 3s 1ms/step - loss: 0.6921 - accuracy: 0.5234\n",
            "Epoch 99/100\n",
            "1911/1911 [==============================] - 3s 1ms/step - loss: 0.6921 - accuracy: 0.5234\n",
            "Epoch 100/100\n",
            "1911/1911 [==============================] - 3s 1ms/step - loss: 0.6921 - accuracy: 0.5234\n"
          ]
        },
        {
          "output_type": "execute_result",
          "data": {
            "text/plain": [
              "<keras.callbacks.History at 0x7f0b9e204390>"
            ]
          },
          "metadata": {},
          "execution_count": 42
        }
      ]
    },
    {
      "cell_type": "markdown",
      "metadata": {
        "id": "zD0d6CiolZ_9"
      },
      "source": [
        "#### 5.a.4 Evaluar el modelo\n",
        "\n",
        "Para obtener una idea de qué tan bien se ha modelado el *dataset*, se puede utilizar la función *evaluate*:\n",
        "\n"
      ]
    },
    {
      "cell_type": "code",
      "metadata": {
        "colab": {
          "base_uri": "https://localhost:8080/"
        },
        "id": "SfsZPxeeloZ2",
        "outputId": "165eb763-ccc2-4820-adf3-f66c655cec61"
      },
      "source": [
        "# evaluate the keras model\n",
        "_, accuracy = model.evaluate(X, y)\n",
        "print('Accuracy: %.2f' % (accuracy*100))"
      ],
      "execution_count": 43,
      "outputs": [
        {
          "output_type": "stream",
          "name": "stdout",
          "text": [
            "598/598 [==============================] - 1s 1ms/step - loss: 0.6921 - accuracy: 0.5234\n",
            "Accuracy: 52.34\n"
          ]
        }
      ]
    },
    {
      "cell_type": "markdown",
      "metadata": {
        "id": "BoPG-aPFiFWu"
      },
      "source": [
        "Esta precisión **no** significa qué tan bien se comportará el modelo al realizar predicciones sobre datos nuevos. Para determinar ese rendimiento, se evaluará el modelo en la sección 6, utilizando *k-fold cross-validation*."
      ]
    },
    {
      "cell_type": "markdown",
      "metadata": {
        "id": "oj9E3sbDlfgY"
      },
      "source": [
        "### 5.b XGBoost"
      ]
    },
    {
      "cell_type": "markdown",
      "metadata": {
        "id": "w8hopClon3Mg"
      },
      "source": [
        "Luego de tener una primera impresión del rendimiento de una red neuronal, se construye un modelo de XGBoost con los parámetros por defecto, para obtener el *baseline performance* para este algoritmo."
      ]
    },
    {
      "cell_type": "code",
      "metadata": {
        "colab": {
          "base_uri": "https://localhost:8080/"
        },
        "id": "HOdT2qTJnnS_",
        "outputId": "4930d929-0e8b-4251-bbc1-d7a6b78d2a36"
      },
      "source": [
        "# evaluate xgboost algorithm for classification\n",
        "from numpy import mean\n",
        "from numpy import std\n",
        "from sklearn.datasets import make_classification\n",
        "from sklearn.model_selection import cross_val_score\n",
        "from sklearn.model_selection import RepeatedStratifiedKFold\n",
        "from xgboost import XGBClassifier\n",
        "# define the model\n",
        "model = XGBClassifier()\n",
        "# evaluate the model\n",
        "cv = RepeatedStratifiedKFold(n_splits=10, n_repeats=3, random_state=1)\n",
        "n_scores = cross_val_score(model, X, y, scoring='accuracy', cv=cv, n_jobs=-1)\n",
        "# report performance\n",
        "print('Accuracy: %.3f (%.3f)' % (mean(n_scores), std(n_scores)))"
      ],
      "execution_count": 78,
      "outputs": [
        {
          "output_type": "stream",
          "name": "stdout",
          "text": [
            "Accuracy: 0.717 (0.013)\n"
          ]
        }
      ]
    },
    {
      "cell_type": "markdown",
      "metadata": {
        "id": "uHGWOOhBoOaa"
      },
      "source": [
        "En la sección 6, se modificarán sus hiperparámetros para intentar superar este rendimiento.\n",
        "\n",
        "Como se puede observar, con los parámetros por defecto, el XGBoost alcanzó resultados considerablemente mejores que la red neuronal. Específicamente, representó una mejora del 37% en comparación con el modelo de Keras. En la siguiente sección, se utilizará *k-fold cross validation* para obtener un resultado más preciso del rendimiento de la red neuronal y se probará con diferentes hiperparámetros en el XGBoost para intentar mejorar esta *baseline performance*."
      ]
    },
    {
      "cell_type": "markdown",
      "metadata": {
        "id": "EEVvG66vf5Qs"
      },
      "source": [
        "## 6. Evaluación de modelos"
      ]
    },
    {
      "cell_type": "markdown",
      "metadata": {
        "id": "NX8LDH0Df-fz"
      },
      "source": [
        "### 6.a K-Fold Cross Validation para la Red Neuronal\n",
        "\n",
        "Se realizará una validación cruzada del modelo, con 10 *folds*, para determinar su rendimiento. Para esto, se reportará la precisión en cada uno de los *folds*, así como la precisión media de todas las corridas."
      ]
    },
    {
      "cell_type": "code",
      "metadata": {
        "colab": {
          "base_uri": "https://localhost:8080/"
        },
        "id": "VUXgeoR5yuhv",
        "outputId": "32e3f606-b8d4-4e50-e5f5-24bf88d98a3d"
      },
      "source": [
        "# k-fold cross-validation of base model for the mammography dataset\n",
        "from numpy import mean\n",
        "from numpy import std\n",
        "from pandas import read_csv\n",
        "from sklearn.model_selection import StratifiedKFold\n",
        "from sklearn.preprocessing import LabelEncoder\n",
        "from sklearn.metrics import accuracy_score\n",
        "from tensorflow.keras import Sequential\n",
        "from tensorflow.keras.layers import Dense\n",
        "from matplotlib import pyplot\n",
        "# prepare cross validation\n",
        "kfold = StratifiedKFold(10, random_state=1)\n",
        "# enumerate splits\n",
        "scores = list()\n",
        "#X = X.to_numpy()\n",
        "#y = y.to_numpy()\n",
        "for train_ix, test_ix in kfold.split(X, y):\n",
        "  # split data\n",
        "  X_train, X_test, y_train, y_test = X[train_ix], X[test_ix], y[train_ix], y[test_ix]\n",
        "  # determine the number of input features\n",
        "  n_features = X.shape[1]\n",
        "  # define model\n",
        "  model = Sequential()\n",
        "  model.add(Dense(12, input_dim=6, activation='relu'))\n",
        "  model.add(Dense(8, activation='relu'))\n",
        "  model.add(Dense(1, activation='sigmoid'))\n",
        "\t# compile the model\n",
        "  model.compile(loss='binary_crossentropy', optimizer='adam', metrics=['accuracy'])\n",
        "  # fit the model\n",
        "  model.fit(X_train, y_train, epochs=100, batch_size=10, verbose=0)\n",
        "\t# predict test set\n",
        "  yhat = (model.predict(X_test) > 0.5).astype(\"int32\")\n",
        "\t# evaluate predictions\n",
        "  score = accuracy_score(y_test, yhat)\n",
        "  print('>%.3f' % score)\n",
        "  scores.append(score)\n",
        "# summarize all scores\n",
        "print('Mean Accuracy: %.3f (%.3f)' % (mean(scores), std(scores)))"
      ],
      "execution_count": 70,
      "outputs": [
        {
          "output_type": "stream",
          "name": "stderr",
          "text": [
            "/usr/local/lib/python3.7/dist-packages/sklearn/model_selection/_split.py:296: FutureWarning: Setting a random_state has no effect since shuffle is False. This will raise an error in 0.24. You should leave random_state to its default (None), or set shuffle=True.\n",
            "  FutureWarning\n"
          ]
        },
        {
          "output_type": "stream",
          "name": "stdout",
          "text": [
            ">0.634\n",
            ">0.616\n",
            ">0.659\n",
            ">0.640\n",
            ">0.662\n",
            ">0.659\n",
            ">0.645\n",
            ">0.523\n",
            ">0.524\n",
            ">0.659\n",
            "Mean Accuracy: 0.622 (0.051)\n"
          ]
        }
      ]
    },
    {
      "cell_type": "markdown",
      "metadata": {
        "id": "cpjkyo8IrJ_u"
      },
      "source": [
        "### 6.b Selección de hiperparámetros para XGBoost"
      ]
    },
    {
      "cell_type": "markdown",
      "metadata": {
        "id": "gsYnJVpsrNsA"
      },
      "source": [
        "#### 6.b.1 *Number of trees* y *depth*"
      ]
    },
    {
      "cell_type": "code",
      "metadata": {
        "id": "KKeLaSd6sPPL",
        "outputId": "84863f72-e7d5-4a67-b5a8-b3925cf63d69",
        "colab": {
          "base_uri": "https://localhost:8080/",
          "height": 646
        }
      },
      "source": [
        "# get a list of models to evaluate\n",
        "def get_models():\n",
        "  models = dict()\n",
        "  trees = [50, 100, 500]\n",
        "  for n in trees:\n",
        "    for i in range(5,11):\n",
        "      models[str(str(i)+\" , \"+str(n))] = XGBClassifier(max_depth=i,n_estimators=n)\n",
        "  return models\n",
        "\n",
        "# evaluate a give model using cross-validation\n",
        "def evaluate_model(model):\n",
        "\tcv = RepeatedStratifiedKFold(n_splits=10, n_repeats=3, random_state=1)\n",
        "\tscoresTreesAndDepth = cross_val_score(model, X, y, scoring='accuracy', cv=cv, n_jobs=-1)\n",
        "\treturn scoresTreesAndDepth\n",
        "\n",
        "# get the models to evaluate\n",
        "models = get_models()\n",
        "# evaluate the models and store results\n",
        "results, names = list(), list()\n",
        "for name, model in models.items():\n",
        "\tscoresTreesAndDepth = evaluate_model(model)\n",
        "\tresults.append(scoresTreesAndDepth)\n",
        "\tnames.append(name)\n",
        "\tprint('>%s %.3f (%.3f)' % (name, mean(scoresTreesAndDepth), std(scoresTreesAndDepth)))\n",
        "# plot model performance for comparison\n",
        "pyplot.boxplot(results, labels=names, showmeans=True)"
      ],
      "execution_count": 89,
      "outputs": [
        {
          "output_type": "stream",
          "name": "stdout",
          "text": [
            ">5 , 50 0.706 (0.014)\n",
            ">6 , 50 0.760 (0.011)\n",
            ">7 , 50 0.756 (0.013)\n",
            ">8 , 50 0.783 (0.012)\n",
            ">9 , 50 0.776 (0.011)\n",
            ">10 , 50 0.788 (0.013)\n",
            ">5 , 100 0.800 (0.010)\n",
            ">6 , 100 0.832 (0.015)\n",
            ">7 , 100 0.832 (0.012)\n",
            ">8 , 100 0.852 (0.009)\n",
            ">9 , 100 0.846 (0.008)\n",
            ">10 , 100 0.856 (0.008)\n",
            ">5 , 500 0.892 (0.007)\n",
            ">6 , 500 0.891 (0.007)\n",
            ">7 , 500 0.889 (0.007)\n",
            ">8 , 500 0.888 (0.007)\n"
          ]
        },
        {
          "output_type": "error",
          "ename": "KeyboardInterrupt",
          "evalue": "ignored",
          "traceback": [
            "\u001b[0;31m---------------------------------------------------------------------------\u001b[0m",
            "\u001b[0;31mKeyboardInterrupt\u001b[0m                         Traceback (most recent call last)",
            "\u001b[0;32m<ipython-input-89-3e23d2967e84>\u001b[0m in \u001b[0;36m<module>\u001b[0;34m()\u001b[0m\n\u001b[1;32m     19\u001b[0m \u001b[0mresults\u001b[0m\u001b[0;34m,\u001b[0m \u001b[0mnames\u001b[0m \u001b[0;34m=\u001b[0m \u001b[0mlist\u001b[0m\u001b[0;34m(\u001b[0m\u001b[0;34m)\u001b[0m\u001b[0;34m,\u001b[0m \u001b[0mlist\u001b[0m\u001b[0;34m(\u001b[0m\u001b[0;34m)\u001b[0m\u001b[0;34m\u001b[0m\u001b[0;34m\u001b[0m\u001b[0m\n\u001b[1;32m     20\u001b[0m \u001b[0;32mfor\u001b[0m \u001b[0mname\u001b[0m\u001b[0;34m,\u001b[0m \u001b[0mmodel\u001b[0m \u001b[0;32min\u001b[0m \u001b[0mmodels\u001b[0m\u001b[0;34m.\u001b[0m\u001b[0mitems\u001b[0m\u001b[0;34m(\u001b[0m\u001b[0;34m)\u001b[0m\u001b[0;34m:\u001b[0m\u001b[0;34m\u001b[0m\u001b[0;34m\u001b[0m\u001b[0m\n\u001b[0;32m---> 21\u001b[0;31m         \u001b[0mscoresTreesAndDepth\u001b[0m \u001b[0;34m=\u001b[0m \u001b[0mevaluate_model\u001b[0m\u001b[0;34m(\u001b[0m\u001b[0mmodel\u001b[0m\u001b[0;34m)\u001b[0m\u001b[0;34m\u001b[0m\u001b[0;34m\u001b[0m\u001b[0m\n\u001b[0m\u001b[1;32m     22\u001b[0m         \u001b[0mresults\u001b[0m\u001b[0;34m.\u001b[0m\u001b[0mappend\u001b[0m\u001b[0;34m(\u001b[0m\u001b[0mscoresTreesAndDepth\u001b[0m\u001b[0;34m)\u001b[0m\u001b[0;34m\u001b[0m\u001b[0;34m\u001b[0m\u001b[0m\n\u001b[1;32m     23\u001b[0m         \u001b[0mnames\u001b[0m\u001b[0;34m.\u001b[0m\u001b[0mappend\u001b[0m\u001b[0;34m(\u001b[0m\u001b[0mname\u001b[0m\u001b[0;34m)\u001b[0m\u001b[0;34m\u001b[0m\u001b[0;34m\u001b[0m\u001b[0m\n",
            "\u001b[0;32m<ipython-input-89-3e23d2967e84>\u001b[0m in \u001b[0;36mevaluate_model\u001b[0;34m(model)\u001b[0m\n\u001b[1;32m     11\u001b[0m \u001b[0;32mdef\u001b[0m \u001b[0mevaluate_model\u001b[0m\u001b[0;34m(\u001b[0m\u001b[0mmodel\u001b[0m\u001b[0;34m)\u001b[0m\u001b[0;34m:\u001b[0m\u001b[0;34m\u001b[0m\u001b[0;34m\u001b[0m\u001b[0m\n\u001b[1;32m     12\u001b[0m         \u001b[0mcv\u001b[0m \u001b[0;34m=\u001b[0m \u001b[0mRepeatedStratifiedKFold\u001b[0m\u001b[0;34m(\u001b[0m\u001b[0mn_splits\u001b[0m\u001b[0;34m=\u001b[0m\u001b[0;36m10\u001b[0m\u001b[0;34m,\u001b[0m \u001b[0mn_repeats\u001b[0m\u001b[0;34m=\u001b[0m\u001b[0;36m3\u001b[0m\u001b[0;34m,\u001b[0m \u001b[0mrandom_state\u001b[0m\u001b[0;34m=\u001b[0m\u001b[0;36m1\u001b[0m\u001b[0;34m)\u001b[0m\u001b[0;34m\u001b[0m\u001b[0;34m\u001b[0m\u001b[0m\n\u001b[0;32m---> 13\u001b[0;31m         \u001b[0mscoresTreesAndDepth\u001b[0m \u001b[0;34m=\u001b[0m \u001b[0mcross_val_score\u001b[0m\u001b[0;34m(\u001b[0m\u001b[0mmodel\u001b[0m\u001b[0;34m,\u001b[0m \u001b[0mX\u001b[0m\u001b[0;34m,\u001b[0m \u001b[0my\u001b[0m\u001b[0;34m,\u001b[0m \u001b[0mscoring\u001b[0m\u001b[0;34m=\u001b[0m\u001b[0;34m'accuracy'\u001b[0m\u001b[0;34m,\u001b[0m \u001b[0mcv\u001b[0m\u001b[0;34m=\u001b[0m\u001b[0mcv\u001b[0m\u001b[0;34m,\u001b[0m \u001b[0mn_jobs\u001b[0m\u001b[0;34m=\u001b[0m\u001b[0;34m-\u001b[0m\u001b[0;36m1\u001b[0m\u001b[0;34m)\u001b[0m\u001b[0;34m\u001b[0m\u001b[0;34m\u001b[0m\u001b[0m\n\u001b[0m\u001b[1;32m     14\u001b[0m         \u001b[0;32mreturn\u001b[0m \u001b[0mscoresTreesAndDepth\u001b[0m\u001b[0;34m\u001b[0m\u001b[0;34m\u001b[0m\u001b[0m\n\u001b[1;32m     15\u001b[0m \u001b[0;34m\u001b[0m\u001b[0m\n",
            "\u001b[0;32m/usr/local/lib/python3.7/dist-packages/sklearn/model_selection/_validation.py\u001b[0m in \u001b[0;36mcross_val_score\u001b[0;34m(estimator, X, y, groups, scoring, cv, n_jobs, verbose, fit_params, pre_dispatch, error_score)\u001b[0m\n\u001b[1;32m    388\u001b[0m                                 \u001b[0mfit_params\u001b[0m\u001b[0;34m=\u001b[0m\u001b[0mfit_params\u001b[0m\u001b[0;34m,\u001b[0m\u001b[0;34m\u001b[0m\u001b[0;34m\u001b[0m\u001b[0m\n\u001b[1;32m    389\u001b[0m                                 \u001b[0mpre_dispatch\u001b[0m\u001b[0;34m=\u001b[0m\u001b[0mpre_dispatch\u001b[0m\u001b[0;34m,\u001b[0m\u001b[0;34m\u001b[0m\u001b[0;34m\u001b[0m\u001b[0m\n\u001b[0;32m--> 390\u001b[0;31m                                 error_score=error_score)\n\u001b[0m\u001b[1;32m    391\u001b[0m     \u001b[0;32mreturn\u001b[0m \u001b[0mcv_results\u001b[0m\u001b[0;34m[\u001b[0m\u001b[0;34m'test_score'\u001b[0m\u001b[0;34m]\u001b[0m\u001b[0;34m\u001b[0m\u001b[0;34m\u001b[0m\u001b[0m\n\u001b[1;32m    392\u001b[0m \u001b[0;34m\u001b[0m\u001b[0m\n",
            "\u001b[0;32m/usr/local/lib/python3.7/dist-packages/sklearn/model_selection/_validation.py\u001b[0m in \u001b[0;36mcross_validate\u001b[0;34m(estimator, X, y, groups, scoring, cv, n_jobs, verbose, fit_params, pre_dispatch, return_train_score, return_estimator, error_score)\u001b[0m\n\u001b[1;32m    234\u001b[0m             \u001b[0mreturn_times\u001b[0m\u001b[0;34m=\u001b[0m\u001b[0;32mTrue\u001b[0m\u001b[0;34m,\u001b[0m \u001b[0mreturn_estimator\u001b[0m\u001b[0;34m=\u001b[0m\u001b[0mreturn_estimator\u001b[0m\u001b[0;34m,\u001b[0m\u001b[0;34m\u001b[0m\u001b[0;34m\u001b[0m\u001b[0m\n\u001b[1;32m    235\u001b[0m             error_score=error_score)\n\u001b[0;32m--> 236\u001b[0;31m         for train, test in cv.split(X, y, groups))\n\u001b[0m\u001b[1;32m    237\u001b[0m \u001b[0;34m\u001b[0m\u001b[0m\n\u001b[1;32m    238\u001b[0m     \u001b[0mzipped_scores\u001b[0m \u001b[0;34m=\u001b[0m \u001b[0mlist\u001b[0m\u001b[0;34m(\u001b[0m\u001b[0mzip\u001b[0m\u001b[0;34m(\u001b[0m\u001b[0;34m*\u001b[0m\u001b[0mscores\u001b[0m\u001b[0;34m)\u001b[0m\u001b[0;34m)\u001b[0m\u001b[0;34m\u001b[0m\u001b[0;34m\u001b[0m\u001b[0m\n",
            "\u001b[0;32m/usr/local/lib/python3.7/dist-packages/joblib/parallel.py\u001b[0m in \u001b[0;36m__call__\u001b[0;34m(self, iterable)\u001b[0m\n\u001b[1;32m   1052\u001b[0m \u001b[0;34m\u001b[0m\u001b[0m\n\u001b[1;32m   1053\u001b[0m             \u001b[0;32mwith\u001b[0m \u001b[0mself\u001b[0m\u001b[0;34m.\u001b[0m\u001b[0m_backend\u001b[0m\u001b[0;34m.\u001b[0m\u001b[0mretrieval_context\u001b[0m\u001b[0;34m(\u001b[0m\u001b[0;34m)\u001b[0m\u001b[0;34m:\u001b[0m\u001b[0;34m\u001b[0m\u001b[0;34m\u001b[0m\u001b[0m\n\u001b[0;32m-> 1054\u001b[0;31m                 \u001b[0mself\u001b[0m\u001b[0;34m.\u001b[0m\u001b[0mretrieve\u001b[0m\u001b[0;34m(\u001b[0m\u001b[0;34m)\u001b[0m\u001b[0;34m\u001b[0m\u001b[0;34m\u001b[0m\u001b[0m\n\u001b[0m\u001b[1;32m   1055\u001b[0m             \u001b[0;31m# Make sure that we get a last message telling us we are done\u001b[0m\u001b[0;34m\u001b[0m\u001b[0;34m\u001b[0m\u001b[0;34m\u001b[0m\u001b[0m\n\u001b[1;32m   1056\u001b[0m             \u001b[0melapsed_time\u001b[0m \u001b[0;34m=\u001b[0m \u001b[0mtime\u001b[0m\u001b[0;34m.\u001b[0m\u001b[0mtime\u001b[0m\u001b[0;34m(\u001b[0m\u001b[0;34m)\u001b[0m \u001b[0;34m-\u001b[0m \u001b[0mself\u001b[0m\u001b[0;34m.\u001b[0m\u001b[0m_start_time\u001b[0m\u001b[0;34m\u001b[0m\u001b[0;34m\u001b[0m\u001b[0m\n",
            "\u001b[0;32m/usr/local/lib/python3.7/dist-packages/joblib/parallel.py\u001b[0m in \u001b[0;36mretrieve\u001b[0;34m(self)\u001b[0m\n\u001b[1;32m    931\u001b[0m             \u001b[0;32mtry\u001b[0m\u001b[0;34m:\u001b[0m\u001b[0;34m\u001b[0m\u001b[0;34m\u001b[0m\u001b[0m\n\u001b[1;32m    932\u001b[0m                 \u001b[0;32mif\u001b[0m \u001b[0mgetattr\u001b[0m\u001b[0;34m(\u001b[0m\u001b[0mself\u001b[0m\u001b[0;34m.\u001b[0m\u001b[0m_backend\u001b[0m\u001b[0;34m,\u001b[0m \u001b[0;34m'supports_timeout'\u001b[0m\u001b[0;34m,\u001b[0m \u001b[0;32mFalse\u001b[0m\u001b[0;34m)\u001b[0m\u001b[0;34m:\u001b[0m\u001b[0;34m\u001b[0m\u001b[0;34m\u001b[0m\u001b[0m\n\u001b[0;32m--> 933\u001b[0;31m                     \u001b[0mself\u001b[0m\u001b[0;34m.\u001b[0m\u001b[0m_output\u001b[0m\u001b[0;34m.\u001b[0m\u001b[0mextend\u001b[0m\u001b[0;34m(\u001b[0m\u001b[0mjob\u001b[0m\u001b[0;34m.\u001b[0m\u001b[0mget\u001b[0m\u001b[0;34m(\u001b[0m\u001b[0mtimeout\u001b[0m\u001b[0;34m=\u001b[0m\u001b[0mself\u001b[0m\u001b[0;34m.\u001b[0m\u001b[0mtimeout\u001b[0m\u001b[0;34m)\u001b[0m\u001b[0;34m)\u001b[0m\u001b[0;34m\u001b[0m\u001b[0;34m\u001b[0m\u001b[0m\n\u001b[0m\u001b[1;32m    934\u001b[0m                 \u001b[0;32melse\u001b[0m\u001b[0;34m:\u001b[0m\u001b[0;34m\u001b[0m\u001b[0;34m\u001b[0m\u001b[0m\n\u001b[1;32m    935\u001b[0m                     \u001b[0mself\u001b[0m\u001b[0;34m.\u001b[0m\u001b[0m_output\u001b[0m\u001b[0;34m.\u001b[0m\u001b[0mextend\u001b[0m\u001b[0;34m(\u001b[0m\u001b[0mjob\u001b[0m\u001b[0;34m.\u001b[0m\u001b[0mget\u001b[0m\u001b[0;34m(\u001b[0m\u001b[0;34m)\u001b[0m\u001b[0;34m)\u001b[0m\u001b[0;34m\u001b[0m\u001b[0;34m\u001b[0m\u001b[0m\n",
            "\u001b[0;32m/usr/local/lib/python3.7/dist-packages/joblib/_parallel_backends.py\u001b[0m in \u001b[0;36mwrap_future_result\u001b[0;34m(future, timeout)\u001b[0m\n\u001b[1;32m    540\u001b[0m         AsyncResults.get from multiprocessing.\"\"\"\n\u001b[1;32m    541\u001b[0m         \u001b[0;32mtry\u001b[0m\u001b[0;34m:\u001b[0m\u001b[0;34m\u001b[0m\u001b[0;34m\u001b[0m\u001b[0m\n\u001b[0;32m--> 542\u001b[0;31m             \u001b[0;32mreturn\u001b[0m \u001b[0mfuture\u001b[0m\u001b[0;34m.\u001b[0m\u001b[0mresult\u001b[0m\u001b[0;34m(\u001b[0m\u001b[0mtimeout\u001b[0m\u001b[0;34m=\u001b[0m\u001b[0mtimeout\u001b[0m\u001b[0;34m)\u001b[0m\u001b[0;34m\u001b[0m\u001b[0;34m\u001b[0m\u001b[0m\n\u001b[0m\u001b[1;32m    543\u001b[0m         \u001b[0;32mexcept\u001b[0m \u001b[0mCfTimeoutError\u001b[0m \u001b[0;32mas\u001b[0m \u001b[0me\u001b[0m\u001b[0;34m:\u001b[0m\u001b[0;34m\u001b[0m\u001b[0;34m\u001b[0m\u001b[0m\n\u001b[1;32m    544\u001b[0m             \u001b[0;32mraise\u001b[0m \u001b[0mTimeoutError\u001b[0m \u001b[0;32mfrom\u001b[0m \u001b[0me\u001b[0m\u001b[0;34m\u001b[0m\u001b[0;34m\u001b[0m\u001b[0m\n",
            "\u001b[0;32m/usr/lib/python3.7/concurrent/futures/_base.py\u001b[0m in \u001b[0;36mresult\u001b[0;34m(self, timeout)\u001b[0m\n\u001b[1;32m    428\u001b[0m                 \u001b[0;32mreturn\u001b[0m \u001b[0mself\u001b[0m\u001b[0;34m.\u001b[0m\u001b[0m__get_result\u001b[0m\u001b[0;34m(\u001b[0m\u001b[0;34m)\u001b[0m\u001b[0;34m\u001b[0m\u001b[0;34m\u001b[0m\u001b[0m\n\u001b[1;32m    429\u001b[0m \u001b[0;34m\u001b[0m\u001b[0m\n\u001b[0;32m--> 430\u001b[0;31m             \u001b[0mself\u001b[0m\u001b[0;34m.\u001b[0m\u001b[0m_condition\u001b[0m\u001b[0;34m.\u001b[0m\u001b[0mwait\u001b[0m\u001b[0;34m(\u001b[0m\u001b[0mtimeout\u001b[0m\u001b[0;34m)\u001b[0m\u001b[0;34m\u001b[0m\u001b[0;34m\u001b[0m\u001b[0m\n\u001b[0m\u001b[1;32m    431\u001b[0m \u001b[0;34m\u001b[0m\u001b[0m\n\u001b[1;32m    432\u001b[0m             \u001b[0;32mif\u001b[0m \u001b[0mself\u001b[0m\u001b[0;34m.\u001b[0m\u001b[0m_state\u001b[0m \u001b[0;32min\u001b[0m \u001b[0;34m[\u001b[0m\u001b[0mCANCELLED\u001b[0m\u001b[0;34m,\u001b[0m \u001b[0mCANCELLED_AND_NOTIFIED\u001b[0m\u001b[0;34m]\u001b[0m\u001b[0;34m:\u001b[0m\u001b[0;34m\u001b[0m\u001b[0;34m\u001b[0m\u001b[0m\n",
            "\u001b[0;32m/usr/lib/python3.7/threading.py\u001b[0m in \u001b[0;36mwait\u001b[0;34m(self, timeout)\u001b[0m\n\u001b[1;32m    294\u001b[0m         \u001b[0;32mtry\u001b[0m\u001b[0;34m:\u001b[0m    \u001b[0;31m# restore state no matter what (e.g., KeyboardInterrupt)\u001b[0m\u001b[0;34m\u001b[0m\u001b[0;34m\u001b[0m\u001b[0m\n\u001b[1;32m    295\u001b[0m             \u001b[0;32mif\u001b[0m \u001b[0mtimeout\u001b[0m \u001b[0;32mis\u001b[0m \u001b[0;32mNone\u001b[0m\u001b[0;34m:\u001b[0m\u001b[0;34m\u001b[0m\u001b[0;34m\u001b[0m\u001b[0m\n\u001b[0;32m--> 296\u001b[0;31m                 \u001b[0mwaiter\u001b[0m\u001b[0;34m.\u001b[0m\u001b[0macquire\u001b[0m\u001b[0;34m(\u001b[0m\u001b[0;34m)\u001b[0m\u001b[0;34m\u001b[0m\u001b[0;34m\u001b[0m\u001b[0m\n\u001b[0m\u001b[1;32m    297\u001b[0m                 \u001b[0mgotit\u001b[0m \u001b[0;34m=\u001b[0m \u001b[0;32mTrue\u001b[0m\u001b[0;34m\u001b[0m\u001b[0;34m\u001b[0m\u001b[0m\n\u001b[1;32m    298\u001b[0m             \u001b[0;32melse\u001b[0m\u001b[0;34m:\u001b[0m\u001b[0;34m\u001b[0m\u001b[0;34m\u001b[0m\u001b[0m\n",
            "\u001b[0;31mKeyboardInterrupt\u001b[0m: "
          ]
        }
      ]
    },
    {
      "cell_type": "markdown",
      "metadata": {
        "id": "TfPYfbSprP84"
      },
      "source": [
        "#### 6.b.2\n"
      ]
    },
    {
      "cell_type": "markdown",
      "metadata": {
        "id": "qfHFwSeHrSAK"
      },
      "source": [
        "#### 6.b.3"
      ]
    },
    {
      "cell_type": "markdown",
      "metadata": {
        "id": "hWcUFz7Alaib"
      },
      "source": [
        "## 7. Resultados"
      ]
    },
    {
      "cell_type": "markdown",
      "metadata": {
        "id": "rn9QigQlrV36"
      },
      "source": [
        "El siguiente gráfico muestra la precisión alcanzada por la red neuronal en cada una de las 10 corridas de evaluación, utilizando *k-fold cross validation*:"
      ]
    },
    {
      "cell_type": "code",
      "metadata": {
        "colab": {
          "base_uri": "https://localhost:8080/",
          "height": 295
        },
        "id": "slygJt6tkIWY",
        "outputId": "6404b380-4f1f-4a0e-fedb-eab8e328c1bd"
      },
      "source": [
        "evaluations = [1,2,3,4,5,6,7,8,9,10]\n",
        "fig, ax = plt.subplots()\n",
        "ax.plot(evaluations,scores)\n",
        "ax.set(xlabel='Corrida', ylabel='Precisión',\n",
        "       title='Precisión de la red neuronal (evaluación de k-fold cross-validation)')\n",
        "ax.grid()\n",
        "plt.show()"
      ],
      "execution_count": 77,
      "outputs": [
        {
          "output_type": "display_data",
          "data": {
            "image/png": "[encoded data removed]",
            "text/plain": [
              "<Figure size 432x288 with 1 Axes>"
            ]
          },
          "metadata": {
            "needs_background": "light"
          }
        }
      ]
    }
  ]
}