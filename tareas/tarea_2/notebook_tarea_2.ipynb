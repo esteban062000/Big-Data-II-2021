{
  "nbformat": 4,
  "nbformat_minor": 0,
  "metadata": {
    "kernelspec": {
      "display_name": "Python 3",
      "language": "python",
      "name": "python3"
    },
    "language_info": {
      "codemirror_mode": {
        "name": "ipython",
        "version": 3
      },
      "file_extension": ".py",
      "mimetype": "text/x-python",
      "name": "python",
      "nbconvert_exporter": "python",
      "pygments_lexer": "ipython3",
      "version": "3.8.2"
    },
    "colab": {
      "name": "Lab2_Notes.ipynb",
      "provenance": []
    }
  },
  "cells": [
    {
      "cell_type": "markdown",
      "metadata": {
        "id": "TOyFuPJd9C1Z"
      },
      "source": [
        "# Predicción del resultado de partidas de ajedrez a partir de su metadata.\n",
        "\n",
        "**Palabras clave:**\n",
        "\n",
        "- **ELO:** valor numérico que determina la fuerza de un jugador de ajedrez. En Costa Rica, se inicia con 1400 puntos y se alcanza la Primera División con un ELO de 2000, mientras que el campeón nacional tiene una fuerza cercana a 2400. El campeón del mundo, actualmente, posee un ELO de 2855. \n",
        "- **Lichess:** sitio web *open-source* muy popular para jugar ajedrez en línea, con millones de partidas jugadas cada mes. En Internet, los ELOs tienden a ser más altos (debido a las mecánicas que utilizan las páginas para calcularlo).\n",
        "- **Apertura:** primeras jugadas que se realizan en una partida de ajedrez. Típicamente, corresponde a las primeras 10 o 15 movidas.\n",
        "- **ECO:** *Encyclopedia of Chess Openings*; clasificación alfanumérica para todas las aperturas posibles en el ajedrez. Cada código consta de una letra (de la A a la E) seguida de dos dígitos.\n",
        "- **Control de tiempo:** minutos que posee cada jugador para la partida. Una partida *bullet* significa 1 minuto por jugador; una partida *blitz* consta de 5 minutos por jugador.\n",
        "- **Tablas:** empate en ajedrez.\n",
        "- **PGN:** *Portable Game Notation*; extensión de archivo especializado para programas diseñados para trabajar con material de ajedrez.\n",
        "\n",
        "## 1. Descripción del problema y justificación del enfoque a utilizar\n",
        "\n",
        "Con base en las características de una partida de ajedrez (ELO de sus jugadores, apertura jugada, control de tiempo empleado, cantidad de jugadas, entre otros) se desea predecir quién ganó el juego. Para esto, se utilizarán técnicas de aprendizaje automático para clasificación binaria, donde \"1\" significa victoria de las Blancas, mientras que \"0\" significa victoria de las Negras. En este trabajo, no se tomarán en cuenta las partidas que terminaron en tablas, por lo que una clasificación binaria se ajusta bien al escenario planteado.\n",
        "\n",
        "### Dataset a utilizar\n",
        "\n",
        "Se utilizará un *dataset* obtenido de la página [Lichess.org](https://lichess.org/), con cerca de 20 000 partidas jugadas en septiembre del 2017. El *dataset* fue convertido de PGN a CSV por un usuario de Kaggle y se encuentra disponible en dicha página.\n",
        "\n",
        "Puede encontrar el conjunto de datos a utilizar haciendo click en este [enlace](https://www.kaggle.com/datasnaek/chess)."
      ]
    },
    {
      "cell_type": "markdown",
      "metadata": {
        "id": "rOHWYwDZEcwe"
      },
      "source": [
        "## 2. Preprocesamiento y limpieza de datos\n",
        "\n",
        "El preprocesamiento y limpieza de datos fue llevado a cabo con **OpenRefine**. Se adjunta en el repositorio el archivo *.json* con todos los cambios realizados al conjunto de datos.\n",
        "\n",
        "### 2.a Eliminar todas las columnas que no se utilizarán.\n",
        "\n",
        "Para disminuir el ruido que entrará al modelo de aprendizaje automático, se eliminaron todas las columnas en el *dataset* original que no se estudiarán en este trabajo. En específico, se eliminaron los siguientes *features*:\n",
        "\n",
        "- id.\n",
        "- created_at.\n",
        "- last_move_at.\n",
        "- victory_status.\n",
        "- white_id.\n",
        "- black_id. \n",
        "- opening_name.\n",
        "- opening_ply.\n",
        "\n",
        "### 2.b Eliminar todas las partidas cuyo resultado terminó en tablas.\n",
        "\n",
        "Seguidamente, se eliminaron todas las filas cuyo valor en la columna *winner* era \"draw\". Para esto, se utilizó un *text facet* que encontró todas las filas *draw* y se removieron del conjunto de datos. Se eliminaron 950 filas, lo que representa el 4.74% del total de datos. Esto se realizó por tres razones:\n",
        "\n",
        "1. Es un porcentaje lo suficientemente bajo como para justificar su eliminación del conjunto de datos.\n",
        "2. En el presente trabajo, interesa construir un modelo que pueda predecir el ganador de una partida, no las posibilidades de entablar.\n",
        "3. Al eliminar esta tercera opción como un posible resultado, se simplifica el problema de una clasificación multiclase a una clasificación binaria.\n",
        "\n",
        "### 2.c Reordenar las columnas.\n",
        "\n",
        "Para simplificar el código, se colocó la columna de respuesta (*winner*) en el extremo derecho del conjunto de datos."
      ]
    },
    {
      "cell_type": "markdown",
      "metadata": {
        "id": "7RYquSVlF-bH"
      },
      "source": [
        "## 3. Transformación de Datos\n",
        "\n",
        "La transformación de datos fue llevada a cabo con **OpenRefine**. Se adjunta en el repositorio el archivo *.json* con todos los cambios realizados al conjunto de datos.\n",
        "\n",
        "### 3.a Convertir columna *rated* a valor numérico.\n",
        "\n",
        "La columna *rated* indica si el juego afectará el rating (es decir, el ELO) de los jugadores. Originalmente, sus valores eran strings de \"TRUE\" o \"FALSE\". Para convertir de estos valores categóricos a valores numéricos, se utilizó el siguiente código GREL:\n",
        "\n",
        "```\n",
        "if(value == \"FALSE\",0,1)\n",
        "```\n",
        "\n",
        "### 3.b Convertir columna *increment_code* a valor numérico.\n",
        "\n",
        "El *feature* *increment_code* indica el control de tiempo de la partida. Por ejemplo, valor de \"15+10\" indica que cada jugador inicia con 15 minutos y, cada vez que realiza un movimiento, se le añaden 10 segundos. Para convertir esta cadena de texto a un valor numérico, se eliminó el incremento (es decir, los segundos que se obtienen con cada jugada) y dejar únicamente el tiempo base (los minutos). Para esto, se utilizó el siguiente código GREL:\n",
        "\n",
        "```\n",
        "value.replace(/\\+.*/,'')\n",
        "```\n",
        "\n",
        "### 3.c Cambiar *opening_eco* a valor numérico.\n",
        "\n",
        "El código ECO representa dos problemas para los modelos de aprendizaje automático: 1. es un valor alfanumérico; 2. existen 500 valores posibles. En este trabajo, se decidió simplificar el código ECO y agrupar por el primer símbolo, es decir, la letra (A,B,C,D o E) que se encuentra al inicio del código. Luego, se le asignó un número a cada letra (A = 1, B = 2, etc) para poder tener una entrada numérica en el modelo. De esta forma, un código ECO de A66 y otro de A32 terminarán con el mismo valor: 1.\n",
        "\n",
        "Esta transformación se basa en la agrupación propia de los códigos ECO: las aperturas de la clase \"A\" son aperturas de flanco; la clase \"B\" contiene a las aperturas semiabiertas; el Gambito de Dama, por ejemplo, se encuentra en la clase \"D\". De esta forma, las aperturas bajo una misma letra en el código ECO no son tan distintas entre sí, lo que permite agruparlas para facilitar la transformación de datos. Para lograr esto, se utilizó el siguiente código GREL:\n",
        "\n",
        "```\n",
        "if(value.startsWith(\"A\"),1,if(value.startsWith(\"B\"),2,if(value.startsWith(\"C\"),3,if(value.startsWith(\"D\"),4,5))))\n",
        "```\n",
        "\n"
      ]
    },
    {
      "cell_type": "markdown",
      "metadata": {
        "id": "n_dr0K_dJlOb"
      },
      "source": [
        "Luego del preprocesamiento y transformación de datos, se tienen los siguientes *features* con los que se trabajará:\n",
        "\n",
        "- isRated.\n",
        "- turns.\n",
        "- timeControl.\n",
        "- whiteRating.\n",
        "- blackRating.\n",
        "- openingECO.\n",
        "- winner."
      ]
    },
    {
      "cell_type": "markdown",
      "metadata": {
        "id": "DOONZG-UKJEE"
      },
      "source": [
        "## 4. Análisis Exploratorio de Datos\n",
        "\n",
        "### 4.a Histograma de *whiteRating*.\n",
        "\n",
        "### 4.b Histograma de *winner*.\n",
        "\n",
        "### 4.c Histograma de *timeControl*.\n",
        "\n",
        "### 4.d Histograma de *openingECO*.\n",
        "\n",
        "### 4.c *Boxplot* de *blackRating*.\n",
        "\n",
        "### 4.b Diagrama de dispersión entre *blackRating* y *winner*."
      ]
    },
    {
      "cell_type": "markdown",
      "metadata": {
        "id": "pPmxRxRSMZAx"
      },
      "source": [
        "Se cargan los datos desde la computadora local."
      ]
    },
    {
      "cell_type": "code",
      "metadata": {
        "id": "aHVXB-IgLwBM",
        "outputId": "6416d19b-a6d9-480a-af4d-a95a68aefcdc",
        "colab": {
          "resources": {
            "http://localhost:8080/nbextensions/google.colab/files.js": {
              "data": "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",
              "ok": true,
              "headers": [
                [
                  "content-type",
                  "application/javascript"
                ]
              ],
              "status": 200,
              "status_text": ""
            }
          },
          "base_uri": "https://localhost:8080/",
          "height": 259
        }
      },
      "source": [
        "\n",
        "from google.colab import files\n",
        "import pandas as pd\n",
        "uploaded = files.upload()\n",
        "data = pd.read_excel('ChessGames.xlsx')\n",
        "data.to_csv(encoding='utf-8', index=False)\n",
        "data.head()"
      ],
      "execution_count": 1,
      "outputs": [
        {
          "output_type": "display_data",
          "data": {
            "text/html": [
              "\n",
              "     <input type=\"file\" id=\"files-f4ebc151-0c42-45ac-80df-364abba34202\" name=\"files[]\" multiple disabled\n",
              "        style=\"border:none\" />\n",
              "     <output id=\"result-f4ebc151-0c42-45ac-80df-364abba34202\">\n",
              "      Upload widget is only available when the cell has been executed in the\n",
              "      current browser session. Please rerun this cell to enable.\n",
              "      </output>\n",
              "      <script src=\"/nbextensions/google.colab/files.js\"></script> "
            ],
            "text/plain": [
              "<IPython.core.display.HTML object>"
            ]
          },
          "metadata": {}
        },
        {
          "output_type": "stream",
          "name": "stdout",
          "text": [
            "Saving ChessGames.xlsx to ChessGames.xlsx\n"
          ]
        },
        {
          "output_type": "execute_result",
          "data": {
            "text/html": [
              "<div>\n",
              "<style scoped>\n",
              "    .dataframe tbody tr th:only-of-type {\n",
              "        vertical-align: middle;\n",
              "    }\n",
              "\n",
              "    .dataframe tbody tr th {\n",
              "        vertical-align: top;\n",
              "    }\n",
              "\n",
              "    .dataframe thead th {\n",
              "        text-align: right;\n",
              "    }\n",
              "</style>\n",
              "<table border=\"1\" class=\"dataframe\">\n",
              "  <thead>\n",
              "    <tr style=\"text-align: right;\">\n",
              "      <th></th>\n",
              "      <th>isRated</th>\n",
              "      <th>turns</th>\n",
              "      <th>timeControl</th>\n",
              "      <th>whiteRating</th>\n",
              "      <th>blackRating</th>\n",
              "      <th>openingECO</th>\n",
              "      <th>winner</th>\n",
              "    </tr>\n",
              "  </thead>\n",
              "  <tbody>\n",
              "    <tr>\n",
              "      <th>0</th>\n",
              "      <td>0</td>\n",
              "      <td>13</td>\n",
              "      <td>15</td>\n",
              "      <td>1500</td>\n",
              "      <td>1191</td>\n",
              "      <td>4</td>\n",
              "      <td>1</td>\n",
              "    </tr>\n",
              "    <tr>\n",
              "      <th>1</th>\n",
              "      <td>1</td>\n",
              "      <td>16</td>\n",
              "      <td>5</td>\n",
              "      <td>1322</td>\n",
              "      <td>1261</td>\n",
              "      <td>2</td>\n",
              "      <td>0</td>\n",
              "    </tr>\n",
              "    <tr>\n",
              "      <th>2</th>\n",
              "      <td>1</td>\n",
              "      <td>61</td>\n",
              "      <td>5</td>\n",
              "      <td>1496</td>\n",
              "      <td>1500</td>\n",
              "      <td>3</td>\n",
              "      <td>1</td>\n",
              "    </tr>\n",
              "    <tr>\n",
              "      <th>3</th>\n",
              "      <td>1</td>\n",
              "      <td>61</td>\n",
              "      <td>20</td>\n",
              "      <td>1439</td>\n",
              "      <td>1454</td>\n",
              "      <td>4</td>\n",
              "      <td>1</td>\n",
              "    </tr>\n",
              "    <tr>\n",
              "      <th>4</th>\n",
              "      <td>1</td>\n",
              "      <td>95</td>\n",
              "      <td>30</td>\n",
              "      <td>1523</td>\n",
              "      <td>1469</td>\n",
              "      <td>3</td>\n",
              "      <td>1</td>\n",
              "    </tr>\n",
              "  </tbody>\n",
              "</table>\n",
              "</div>"
            ],
            "text/plain": [
              "   isRated  turns  timeControl  whiteRating  blackRating  openingECO  winner\n",
              "0        0     13           15         1500         1191           4       1\n",
              "1        1     16            5         1322         1261           2       0\n",
              "2        1     61            5         1496         1500           3       1\n",
              "3        1     61           20         1439         1454           4       1\n",
              "4        1     95           30         1523         1469           3       1"
            ]
          },
          "metadata": {},
          "execution_count": 1
        }
      ]
    },
    {
      "cell_type": "markdown",
      "metadata": {
        "id": "xmiF9aEIMboB"
      },
      "source": [
        "## 4.a Análisis Descriptivo"
      ]
    },
    {
      "cell_type": "markdown",
      "metadata": {
        "id": "7cm_1FBaMkI7"
      },
      "source": [
        "#### 4.a.1 Histograma de *whiteRating*"
      ]
    },
    {
      "cell_type": "code",
      "metadata": {
        "id": "O9EOPmmeNlxF",
        "outputId": "0d34062e-3d74-422a-a044-91600f0862cf",
        "colab": {
          "base_uri": "https://localhost:8080/",
          "height": 295
        }
      },
      "source": [
        "import matplotlib.pyplot as plt\n",
        "plt.title('Distribución del ELO en los jugadores con piezas Blancas')\n",
        "plt.xlabel('ELO')\n",
        "plt.ylabel('Cantidad de jugadores')\n",
        "bins= [0,300,600,900,1200,1500,1800,2100,2400,2700,3000]\n",
        "plt.hist(data['whiteRating'], bins=bins, edgecolor=\"k\")\n",
        "plt.xticks(bins)\n",
        "plt.show()"
      ],
      "execution_count": 10,
      "outputs": [
        {
          "output_type": "display_data",
          "data": {
            "image/png": "[encoded data removed]",
            "text/plain": [
              "<Figure size 432x288 with 1 Axes>"
            ]
          },
          "metadata": {
            "needs_background": "light"
          }
        }
      ]
    },
    {
      "cell_type": "markdown",
      "metadata": {
        "id": "9Z2pIQKmOcUO"
      },
      "source": [
        "#### 4.a.2 Histograma de *winner*"
      ]
    }
  ]
}