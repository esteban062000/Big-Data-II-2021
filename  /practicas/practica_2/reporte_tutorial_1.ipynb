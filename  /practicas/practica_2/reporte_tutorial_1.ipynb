{
  "nbformat": 4,
  "nbformat_minor": 0,
  "metadata": {
    "colab": {
      "name": "reporte_tutorial_1.ipynb",
      "provenance": [],
      "collapsed_sections": [],
      "authorship_tag": "ABX9TyMlaMKqaCB4D2Nlb8w/mgS2"
    },
    "kernelspec": {
      "name": "python3",
      "display_name": "Python 3"
    },
    "language_info": {
      "name": "python"
    }
  },
  "cells": [
    {
      "cell_type": "code",
      "metadata": {
        "id": "GLvjcEdc6gQT"
      },
      "source": [
        ""
      ],
      "execution_count": null,
      "outputs": []
    },
    {
      "cell_type": "markdown",
      "metadata": {
        "id": "iGjseCwt7P93"
      },
      "source": [
        "Prueba"
      ]
    },
    {
      "cell_type": "markdown",
      "metadata": {
        "id": "7FCLjS297Stj"
      },
      "source": [
        ""
      ]
    }
  ]
}