{
  "nbformat": 4,
  "nbformat_minor": 0,
  "metadata": {
    "kernelspec": {
      "display_name": "Python 3",
      "language": "python",
      "name": "python3"
    },
    "language_info": {
      "codemirror_mode": {
        "name": "ipython",
        "version": 3
      },
      "file_extension": ".py",
      "mimetype": "text/x-python",
      "name": "python",
      "nbconvert_exporter": "python",
      "pygments_lexer": "ipython3",
      "version": "3.8.2"
    },
    "colab": {
      "name": "Lab2_Notes.ipynb",
      "provenance": []
    }
  },
  "cells": [
    {
      "cell_type": "markdown",
      "metadata": {
        "id": "CRMHl02Y7vYh"
      },
      "source": [
        "# Neural Network Models for Combined Classification and Regression\n",
        "\n",
        "Algunos problemas de predicción requieren tanto valores numéricos como categóricos para la misma entrada de datos. Una manera de resolver estos problemas es utilizar modelos predictivos de regresión y clasificación, sobre los mismos datos, y utilizar los modelos secuencialmente.\n",
        "\n",
        "Otra forma (y, a menudo, más efectiva), es desarrollar una sola red neuronal que pueda predecir tanto un valor numérico como un categórico para la misma entrada. Esto se conoce como un **multi-output model** y puede ser relativamente fácil de desarrollar con las librerías **Keras** y **TensorFlow**. "
      ]
    },
    {
      "cell_type": "markdown",
      "metadata": {
        "id": "FmDJ_-IE9OV-"
      },
      "source": [
        "## 1. Single Model for Regression and Classification\n",
        "\n",
        "Un problema de tener dos modelos distintos (uno para regresión y otro para clasificación), es que las predicciones pueden diverger entre ellos. Con un solo modelo, se tiene la ventaja de que se puede actualizar y mantener más fácilmente, ofreciendo mayor consistencia en las predicciones de ambos tipos."
      ]
    },
    {
      "cell_type": "markdown",
      "metadata": {
        "id": "E9MFiQWw9Rob"
      },
      "source": [
        "## 2. Separate Regresion and Classification Models\n",
        "\n",
        "En esta sección, se elegirá un *dataset* real donde se necesiten predicciones de regresión y clasificación al mismo tiempo, y luego se desarrollarán modelos separados para cada tipo de predicción.\n"
      ]
    },
    {
      "cell_type": "markdown",
      "metadata": {
        "id": "cU9jVhia9VP3"
      },
      "source": [
        "### 2.a Abalone Dataset"
      ]
    },
    {
      "cell_type": "markdown",
      "metadata": {
        "id": "whaOhUzW9YfB"
      },
      "source": [
        "### 2.b Regression Model"
      ]
    },
    {
      "cell_type": "markdown",
      "metadata": {
        "id": "MC-NhT7L9avb"
      },
      "source": [
        "### 2.c Classification Model"
      ]
    },
    {
      "cell_type": "markdown",
      "metadata": {
        "id": "mkU1zCXJ9c-7"
      },
      "source": [
        "## 3. Combined Regression and Classification Models"
      ]
    }
  ]
}