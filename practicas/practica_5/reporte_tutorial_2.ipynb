{
  "nbformat": 4,
  "nbformat_minor": 0,
  "metadata": {
    "kernelspec": {
      "display_name": "Python 3",
      "language": "python",
      "name": "python3"
    },
    "language_info": {
      "codemirror_mode": {
        "name": "ipython",
        "version": 3
      },
      "file_extension": ".py",
      "mimetype": "text/x-python",
      "name": "python",
      "nbconvert_exporter": "python",
      "pygments_lexer": "ipython3",
      "version": "3.8.2"
    },
    "colab": {
      "name": "Lab2_Notes.ipynb",
      "provenance": []
    }
  },
  "cells": [
    {
      "cell_type": "markdown",
      "metadata": {
        "id": "OIH9r3wDaM-w"
      },
      "source": [
        "# Framework for Data Preparation Techniques in Machine Learning\n",
        "\n",
        "## 1. Challenge of Data Preparation\n",
        "\n",
        "La preparación de datos se refiere a transformar los datos *raw* a una forma que se adapte mejor a las necesidades del proyecto. Esto es de particular importancia porque los datos originales pueden tener errores. Sin embargo, puede ser especialmente complejo cuando el rendimiento del modelo predictivo a utilizar depende fuertemente de la manera en que se limpiaron los datos.\n",
        "\n",
        "Por ello, la técnica de *data framing* es muy útil en práctica, pues permite utilizar técnicas de búsqueda automática (como *grid search* y *random search*), que pueden identificar pasos poco intuitivos pero necesarios para limpiar los datos.\n",
        "\n",
        "En general, se debe pensar que la limpieza y preparación de datos es un proceso sistemático, para poder cumplir correctamente con esta tarea que, a veces, puede parecer abrumadora.\n",
        "\n",
        "\n",
        "## 2. Framework for Data Preparation\n",
        "\n",
        "Cuando se trabaja con datos estructurados, se tienen tres técnicas de preparación principales:\n",
        "\n",
        "1. Preparación por *filas*.\n",
        "2. Preparación por *columnas*.\n",
        "3. Preparación por *valores*. \n",
        "\n",
        "En ellas, se tienen operaciones como eliminar/agregar filas/columnas o modificar el valor específico de alguna celda. Existe otra técnica, llamada **dimensionality reduction**, que cambia las columnas y valores al mismo tiempo, i.e., proyecta los datos a un espacio de dimensión menor.\n",
        "\n",
        "![image.png](https://machinelearningmastery.com/wp-content/uploads/2020/07/Machine-Learning-Data-Preparation-Framework.png)\n",
        "\n",
        "\n",
        "## 3. Data Preparation Techniques\n",
        "\n",
        "### 3.a Data Preparation for Rows\n",
        "\n",
        "En *machine learning*, las filas usualmente se conocen como *muestras, ejemplos* o *instancias*. Estas técnicas se utilizan para aumentar un conjunto de entrenamiento limitado o para remover errores/ambiguedad del conjunto de datos.\n",
        "\n",
        "Por ejemplo, **SMOTE** crea filas sintéticas de material para entrenar clases subrepresentadas y emplea submuestreo aleatorio para remover ejemplos de clases super representadas.\n",
        "\n",
        "Dentro de este conjunto de técnicas, se encuentran también las utilizadas para detectar y eliminar valores atípicos (*outliers*).\n",
        "\n",
        "### 3.b Data Preparation for Columns\n",
        "\n",
        "En *machine learning*, las columnas usualmente se conocen como *variables* o *features*. Estas técnicas, por lo general, son necesarias para reducir la dimensionalidad (o complejidad) en un problema de predicción o para detectar variables colineales o con interacciones complejas.\n",
        "\n",
        "La principal categoría de estas técnicas se llama **feature selection techniques**. Esta incluye el uso de estadísticas para determinar el impacto que tienen las variables de entrada en las variables de la salida. Por ejemplo, **RFE** (*recursive feature elimination*). \n",
        "\n",
        "> **Feature engineering:** técnicas para crear o derivar nuevas columnas de datos, es decir, nuevos *features*.\n",
        " \n",
        "### 3.c Data Preparation for Values\n",
        "\n",
        "Estas técnicas, usualmente, se utilizan para cumplir con los requerimientos específicos de algunos algoritmos de *machine learning*. Entre ellas, las principales tienen que ver con cambiar la **escala** o **distribución** de las variables de entrada. Por ejemplo, se tienen las técnicas de *estandarización/normalización* y *discretización*, respectivamente. \n",
        "\n",
        "Adicionalmente, se pueden utilizar para eliminar sesgos y obtener distribuciones más normales o técnicas para encontrar y reemplazar valores faltantes.\n",
        "\n",
        "### 3.d Data Preparation for Columns + Values\n",
        "\n",
        "El conjunto principal de técnicas son las de **dimensionality reduction**, que específicamente reducen el número de columnas, además de la escala y distribución de las variables numéricas de entrada. Por ejemplo, métodos de *factorización de matrices* o *proyecciones* a un espacio de menor dimensionalidad.\n",
        "\n",
        "### 3.e Data Preparation for Rows + Values\n",
        "\n",
        "En este apartado, se encuentran los algoritmos de **clustering**, donde todas o algunas filas son reemplazadas por muestras específicas en los datos, conocidas como *cluster centroids*. \n",
        "\n",
        "## ¿Qué aprendí?\n",
        "\n",
        "Este tutorial ofrece un enfoque sistemático para la limpieza de datos, además de mencionar técnicas específicas para lograrlo (*SMOTE, One-Hot Encoding, RFE, etc)*. En lo personal, no había escuchado antes de estas técnicas, por lo que aprendí bastante al investigar brevemente sobre ellas por mi cuenta.\n",
        "\n",
        "También, me llamó mucho la atención la reducción de dimensionalidad, que fue mencionada en cursos anteriores (como Diseño de Experimentos), pero no había sido explicada explícitamente. \n",
        "\n",
        "Profesionalmente, estas técnicas forman parte del *toolbox* que se tiene como *computer scientist*, para poder aplicarlas en casos reales donde, sin duda alguna, será necesario limpiar los datos antes de procesarlos, pues no siempre se podrá asumir que la entrada viene lista para ser utilizada. Por ejemplo, en el futuro cercano, serán de utilidad para el proyecto de investigación a desarrollar en el curso.\n",
        "\n",
        "## Fuentes\n",
        "https://machinelearningmastery.com/framework-for-data-preparation-for-machine-learning/"
      ]
    }
  ]
}