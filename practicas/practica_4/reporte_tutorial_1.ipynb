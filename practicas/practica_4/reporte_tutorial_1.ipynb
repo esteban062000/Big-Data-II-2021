{
  "nbformat": 4,
  "nbformat_minor": 0,
  "metadata": {
    "kernelspec": {
      "display_name": "Python 3",
      "language": "python",
      "name": "python3"
    },
    "language_info": {
      "codemirror_mode": {
        "name": "ipython",
        "version": 3
      },
      "file_extension": ".py",
      "mimetype": "text/x-python",
      "name": "python",
      "nbconvert_exporter": "python",
      "pygments_lexer": "ipython3",
      "version": "3.8.2"
    },
    "colab": {
      "name": "Lab2_Notes.ipynb",
      "provenance": []
    }
  },
  "cells": [
    {
      "cell_type": "markdown",
      "metadata": {
        "id": "O9w4T9zJEM0e"
      },
      "source": [
        "# How to Develop a Random Forest Ensemble in Python\n",
        "\n",
        "> Random forest is an ensemble machine learning algorithm.\n",
        "\n",
        "Es tal vez el algoritmo de *machine learning* más popular y ampliamente usado dado su buen o excelente rendimiento, a lo largo de varios problemas de clasificación y regresión predictiva. También, es sencillo de usar, pues solo tiene algunos hiperparámetros clave y heurísticas sensibles para configurar estos parámetros."
      ]
    },
    {
      "cell_type": "markdown",
      "metadata": {
        "id": "4QPoHxY_GjAu"
      },
      "source": [
        "## 1. Random Forest Algorithm\n",
        "\n",
        "> Random forest is an ensemble of decision tree algorithms.\n",
        "\n",
        "Es una extensión de **bootstrap aggregation (bagging)** de los árboles de decisión y puede ser utilizado para problemas de clasificación y regresión.\n",
        "\n",
        "En *bagging*, un número de árboles de decisión son creados, donde cada árbol se crea a partir de una muestra *bootstrap* diferente del *dataset*. Una muestra *bootstrap* es una muestra del *dataset* donde una muestra puede aparecer más de una vez, conocico como **muestreo con reemplazo**.\n",
        "\n",
        "*Bagging* es un algoritmo de *ensemble* efectivo, pues cada árbol de decisión es entrenado en un *dataset* ligeramente diferente y, por ende, tiene un rendimiento ligeramente diferente. A diferencia de los modelos de árboles de decisión normales, como **classification and regression trees (CART)**, los árboles utilizados en el *ensemble* son *unpruned*, lo que los convierte en ligeramente *overfit* para el *dataset*. Esto es deseable, "
      ]
    },
    {
      "cell_type": "markdown",
      "metadata": {
        "id": "LPWkch5uGlkK"
      },
      "source": [
        "## 2. Random Forest Scikit-Learn API"
      ]
    },
    {
      "cell_type": "markdown",
      "metadata": {
        "id": "-wU1CkntGpMj"
      },
      "source": [
        "## 3. Random Forest Hyperparameters"
      ]
    },
    {
      "cell_type": "markdown",
      "metadata": {
        "id": "VnoYcvyeGtPm"
      },
      "source": [
        "## 4. Common Questions"
      ]
    }
  ]
}