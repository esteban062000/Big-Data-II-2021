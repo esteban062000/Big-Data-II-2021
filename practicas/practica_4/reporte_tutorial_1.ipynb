{
  "nbformat": 4,
  "nbformat_minor": 0,
  "metadata": {
    "kernelspec": {
      "display_name": "Python 3",
      "language": "python",
      "name": "python3"
    },
    "language_info": {
      "codemirror_mode": {
        "name": "ipython",
        "version": 3
      },
      "file_extension": ".py",
      "mimetype": "text/x-python",
      "name": "python",
      "nbconvert_exporter": "python",
      "pygments_lexer": "ipython3",
      "version": "3.8.2"
    },
    "colab": {
      "name": "Lab2_Notes.ipynb",
      "provenance": []
    }
  },
  "cells": [
    {
      "cell_type": "markdown",
      "metadata": {
        "id": "O9w4T9zJEM0e"
      },
      "source": [
        "# How to Develop a Random Forest Ensemble in Python\n",
        "\n",
        "> Random forest is an ensemble machine learning algorithm.\n",
        "\n",
        "Es tal vez el algoritmo de *machine learning* más popular y ampliamente usado dado su buen o excelente rendimiento, a lo largo de varios problemas de clasificación y regresión predictiva. También, es sencillo de usar, pues solo tiene algunos hiperparámetros clave y heurísticas sensibles para configurar estos parámetros."
      ]
    },
    {
      "cell_type": "markdown",
      "metadata": {
        "id": "4QPoHxY_GjAu"
      },
      "source": [
        "## 1. Random Forest Algorithm\n",
        "\n",
        "> Random forest is an ensemble of decision tree algorithms.\n",
        "\n",
        "Es una extensión de **bootstrap aggregation (bagging)** de los árboles de decisión y puede ser utilizado para problemas de clasificación y regresión.\n",
        "\n",
        "En *bagging*, un número de árboles de decisión son creados, donde cada árbol se crea a partir de una muestra *bootstrap* diferente del *dataset*. Una muestra *bootstrap* es una muestra del *dataset* donde una muestra puede aparecer más de una vez, conocico como **muestreo con reemplazo**.\n",
        "\n",
        "*Bagging* es un algoritmo de *ensemble* efectivo, pues cada árbol de decisión es entrenado en un *dataset* ligeramente diferente y, por ende, tiene un rendimiento ligeramente diferente. A diferencia de los modelos de árboles de decisión normales, como **classification and regression trees (CART)**, los árboles utilizados en el *ensemble* son *unpruned*, lo que los convierte en ligeramente *overfit* para el *dataset*. Esto es deseable, pues ayuda a que cada árbol sea diferente y hayan menos predicciones correlacionadas o errores.\n",
        "\n",
        "Las predicciones de estos árboles son promediadas a través de todos los árboles de decisión, lo que implica un mejor resultado que cualquier árbol individual en el modelo.\n",
        "\n",
        "> **Regression:** prediction is the average prediction across the decision trees.\n",
        "\n",
        "> **Classification:** prediction is the majority vote class label predicted across the decision trees.\n",
        "\n",
        "A diferencia del *bagging*, los *random forest* también involucran seleccionar un subconjunto de las variables de entrada en cada *split point* en la construcción del árbol. Típicamente, construir un árbol de decisión involucra evaluar el valor para cada variable de entrada en los datos para seleccionar un *split point*. Al reducir los *features* a un subconjunto aleatorio que puede ser considerado en cada *split point*, se fuerza que cada árbol de decisión sea distinto.\n",
        "\n",
        "Tal vez el hiperparámetro más importante en el *random forest* es el número de *random features* a considerar en cada *split point*. Una buena heurística para la regresión es asignarle a este hiperparámetro 1/3 de la cantidad de *input features*. En el caso de clasificiación, es adecuado asignarle la raíz cuadrada de la cantidad de *input features*.\n",
        "\n",
        "Otro hiperparámetro importante es la profundidad de los árboles de decisión. A mayor profunidad, mayor probabilidad de *overfitting*, pero también menos correlacionados. Las profunidades entre 1 a 10 niveles pueden ser efectivas. Finalmente, el parámetro de la cantidad de árboles de decisión en el *ensemble* se incrementa hasta que no haya mejora."
      ]
    },
    {
      "cell_type": "markdown",
      "metadata": {
        "id": "LPWkch5uGlkK"
      },
      "source": [
        "## 2. Random Forest Scikit-Learn API\n",
        "\n",
        "La librería *scikit-learn* provee una implementación de *Random Forest* para *machine learning*.\n",
        "\n",
        "Primero, se confirma que se está usando una versión moderna de la librería:"
      ]
    },
    {
      "cell_type": "code",
      "metadata": {
        "id": "0AI0TxGYh1mn",
        "colab": {
          "base_uri": "https://localhost:8080/"
        },
        "outputId": "9067f2da-c469-407c-cc60-5b625a2842a5"
      },
      "source": [
        "# check scikit-learn version\n",
        "import sklearn\n",
        "print(sklearn.__version__)"
      ],
      "execution_count": 3,
      "outputs": [
        {
          "output_type": "stream",
          "name": "stdout",
          "text": [
            "0.22.2.post1\n"
          ]
        }
      ]
    },
    {
      "cell_type": "markdown",
      "metadata": {
        "id": "tm-NUFu7jJbJ"
      },
      "source": [
        "*Random Forest* es provisto via las clases **RandomForestRegressor** y **RandomForestClassifier**. Ambos modelos operan de la misma manera y toman los mismos argumentos que influyen en cómo los árboles de decisión son creados. Durante la construcción del modelo, se utiliza aleatoriedad. Esto significa que, cada vez que se corre el algoritmo, se producirá un modelo ligeramente diferente."
      ]
    },
    {
      "cell_type": "markdown",
      "metadata": {
        "id": "phsSaOXAju0q"
      },
      "source": [
        "### Random Forest for Classification\n",
        "\n",
        "Primero, se puede utilizar la función **make_classification()** para crear un *synthetic binary classification problem* con 1000 ejemplos y 20 variables de entrada."
      ]
    },
    {
      "cell_type": "code",
      "metadata": {
        "id": "CZ15TC1-yzfy",
        "colab": {
          "base_uri": "https://localhost:8080/"
        },
        "outputId": "98d7dfbb-c190-4f81-e517-635fd6ba8af2"
      },
      "source": [
        "# test classification dataset\n",
        "from sklearn.datasets import make_classification\n",
        "# define dataset\n",
        "X, y = make_classification(n_samples=1000, n_features=20, n_informative=15, n_redundant=5, random_state=3)\n",
        "# summarize the dataset\n",
        "print(X.shape, y.shape)"
      ],
      "execution_count": 2,
      "outputs": [
        {
          "output_type": "stream",
          "name": "stdout",
          "text": [
            "(1000, 20) (1000,)\n"
          ]
        }
      ]
    },
    {
      "cell_type": "markdown",
      "metadata": {
        "id": "7f1OsulKsDnI"
      },
      "source": [
        "A continuación, se puede evaluar un algoritmo de *Random Forest* sobre este *dataset*. Evaluaremos el modelo utilizando **repeated stratified k-fold cross validation**, con 3 *repeats* y 10 *folds*. "
      ]
    },
    {
      "cell_type": "code",
      "metadata": {
        "colab": {
          "base_uri": "https://localhost:8080/"
        },
        "id": "nr-F98hUsVHz",
        "outputId": "8f03ba58-9cbd-4b5c-c76f-16cf803111e0"
      },
      "source": [
        "# evaluate random forest algorithm for classification\n",
        "from numpy import mean\n",
        "from numpy import std\n",
        "from sklearn.datasets import make_classification\n",
        "from sklearn.model_selection import cross_val_score\n",
        "from sklearn.model_selection import RepeatedStratifiedKFold\n",
        "from sklearn.ensemble import RandomForestClassifier\n",
        "# define dataset\n",
        "X, y = make_classification(n_samples=1000, n_features=20, n_informative=15, n_redundant=5, random_state=3)\n",
        "# define the model\n",
        "model = RandomForestClassifier()\n",
        "# evaluate the model\n",
        "cv = RepeatedStratifiedKFold(n_splits=10, n_repeats=3, random_state=1)\n",
        "n_scores = cross_val_score(model, X, y, scoring='accuracy', cv=cv, n_jobs=-1, error_score='raise')\n",
        "# report performance\n",
        "print('Accuracy: %.3f (%.3f)' % (mean(n_scores), std(n_scores)))"
      ],
      "execution_count": 1,
      "outputs": [
        {
          "output_type": "stream",
          "name": "stdout",
          "text": [
            "Accuracy: 0.902 (0.021)\n"
          ]
        }
      ]
    },
    {
      "cell_type": "markdown",
      "metadata": {
        "id": "aC82Hj8nsddd"
      },
      "source": [
        "En este caso, se puede observar que el *random forest ensemble* con hiperparámetros por defecto alcanza una precisión en la clasificación de 90.2 porciento.\n",
        "\n",
        "También, se puede utilizar el modelo de *random forest* para realizar predicciones de clasificación. Primero, el *random forest ensemble* se entrena sobre los datos disponibles, luego la función **predict()** puede ser invocada para realizar predicciones sobre datos nuevos."
      ]
    },
    {
      "cell_type": "code",
      "metadata": {
        "colab": {
          "base_uri": "https://localhost:8080/"
        },
        "id": "uCrhO2_5tPDq",
        "outputId": "74575111-5105-4b33-b197-47cc82a4ba0b"
      },
      "source": [
        "# make predictions using random forest for classification\n",
        "from sklearn.datasets import make_classification\n",
        "from sklearn.ensemble import RandomForestClassifier\n",
        "# define dataset\n",
        "X, y = make_classification(n_samples=1000, n_features=20, n_informative=15, n_redundant=5, random_state=3)\n",
        "# define the model\n",
        "model = RandomForestClassifier()\n",
        "# fit the model on the whole dataset\n",
        "model.fit(X, y)\n",
        "# make a single prediction\n",
        "row = [[-8.52381793,5.24451077,-12.14967704,-2.92949242,0.99314133,0.67326595,-0.38657932,1.27955683,-0.60712621,3.20807316,0.60504151,-1.38706415,8.92444588,-7.43027595,-2.33653219,1.10358169,0.21547782,1.05057966,0.6975331,0.26076035]]\n",
        "yhat = model.predict(row)\n",
        "print('Predicted Class: %d' % yhat[0])"
      ],
      "execution_count": 4,
      "outputs": [
        {
          "output_type": "stream",
          "name": "stdout",
          "text": [
            "Predicted Class: 0\n"
          ]
        }
      ]
    },
    {
      "cell_type": "markdown",
      "metadata": {
        "id": "VlK6RABgtU6Z"
      },
      "source": [
        "### Random Forest for Regression\n",
        "\n",
        "Nuevamente, se puede utilizar la función **make_regression()** para crear un *synthetic regression problem* con 1000 ejemplos y 20 variables de entrada."
      ]
    },
    {
      "cell_type": "code",
      "metadata": {
        "colab": {
          "base_uri": "https://localhost:8080/"
        },
        "id": "Dz7ivEjxtiRu",
        "outputId": "861f67d2-6a71-4e15-b99d-a37b28a7b58d"
      },
      "source": [
        "# test regression dataset\n",
        "from sklearn.datasets import make_regression\n",
        "# define dataset\n",
        "X, y = make_regression(n_samples=1000, n_features=20, n_informative=15, noise=0.1, random_state=2)\n",
        "# summarize the dataset\n",
        "print(X.shape, y.shape)"
      ],
      "execution_count": 5,
      "outputs": [
        {
          "output_type": "stream",
          "name": "stdout",
          "text": [
            "(1000, 20) (1000,)\n"
          ]
        }
      ]
    },
    {
      "cell_type": "markdown",
      "metadata": {
        "id": "1rfbxAmAtmhD"
      },
      "source": [
        "Seguidamente, se puede evaluar un algoritmo de *random forest* sobre este *dataset*. El modelo se evaluará utilizando **k-fold cross validation**, con 3 *repeats* y 10 *folds*. Se reportará el **mean absolute error (MAE)** del modelo a lo largo de todas las *repeats* y *folds*. La librería *scikit-learn* toma el MAE negativo, por lo que es maximizado en lugar de minimizado. Esto significa que los MAE más negativos son mejores, y un modelo perfecto tiene un MAE de 0."
      ]
    },
    {
      "cell_type": "code",
      "metadata": {
        "colab": {
          "base_uri": "https://localhost:8080/"
        },
        "id": "SPLkWNNWuF1q",
        "outputId": "b29e98ea-9849-4260-b035-85e8b49327c3"
      },
      "source": [
        "# evaluate random forest ensemble for regression\n",
        "from numpy import mean\n",
        "from numpy import std\n",
        "from sklearn.datasets import make_regression\n",
        "from sklearn.model_selection import cross_val_score\n",
        "from sklearn.model_selection import RepeatedKFold\n",
        "from sklearn.ensemble import RandomForestRegressor\n",
        "# define dataset\n",
        "X, y = make_regression(n_samples=1000, n_features=20, n_informative=15, noise=0.1, random_state=2)\n",
        "# define the model\n",
        "model = RandomForestRegressor()\n",
        "# evaluate the model\n",
        "cv = RepeatedKFold(n_splits=10, n_repeats=3, random_state=1)\n",
        "n_scores = cross_val_score(model, X, y, scoring='neg_mean_absolute_error', cv=cv, n_jobs=-1, error_score='raise')\n",
        "# report performance\n",
        "print('MAE: %.3f (%.3f)' % (mean(n_scores), std(n_scores)))"
      ],
      "execution_count": 6,
      "outputs": [
        {
          "output_type": "stream",
          "name": "stdout",
          "text": [
            "MAE: -89.838 (7.814)\n"
          ]
        }
      ]
    },
    {
      "cell_type": "markdown",
      "metadata": {
        "id": "gjRCUs36uPDx"
      },
      "source": [
        "En este caso, el *random forest ensemble* con los parámetros por defecto alcanza un MAE cercano a 90.\n",
        "\n",
        "Se puede usar el modelo para realizar predicciones sobre regresión, con la función **predict()**."
      ]
    },
    {
      "cell_type": "code",
      "metadata": {
        "colab": {
          "base_uri": "https://localhost:8080/"
        },
        "id": "5Wl2CLTKudAL",
        "outputId": "61d2c5ea-2fde-4c33-c72e-5849485e4871"
      },
      "source": [
        "# random forest for making predictions for regression\n",
        "from sklearn.datasets import make_regression\n",
        "from sklearn.ensemble import RandomForestRegressor\n",
        "# define dataset\n",
        "X, y = make_regression(n_samples=1000, n_features=20, n_informative=15, noise=0.1, random_state=2)\n",
        "# define the model\n",
        "model = RandomForestRegressor()\n",
        "# fit the model on the whole dataset\n",
        "model.fit(X, y)\n",
        "# make a single prediction\n",
        "row = [[-0.89483109,-1.0670149,-0.25448694,-0.53850126,0.21082105,1.37435592,0.71203659,0.73093031,-1.25878104,-2.01656886,0.51906798,0.62767387,0.96250155,1.31410617,-1.25527295,-0.85079036,0.24129757,-0.17571721,-1.11454339,0.36268268]]\n",
        "yhat = model.predict(row)\n",
        "print('Prediction: %d' % yhat[0])"
      ],
      "execution_count": 7,
      "outputs": [
        {
          "output_type": "stream",
          "name": "stdout",
          "text": [
            "Prediction: -153\n"
          ]
        }
      ]
    },
    {
      "cell_type": "markdown",
      "metadata": {
        "id": "-wU1CkntGpMj"
      },
      "source": [
        "## 3. Random Forest Hyperparameters\n",
        "\n",
        "En esta sección, se estudiarán algunos hiperparámetros que deben ser considerados en el *random forest ensemble* y su efecto sobre el rendimiento del modelo."
      ]
    },
    {
      "cell_type": "markdown",
      "metadata": {
        "id": "gTKV-tSEuv8Y"
      },
      "source": [
        "### Explore Number of Samples\n",
        "\n",
        "Cada árbol de decisión en el *ensemble* es entrenado en una *bootstrap sample*, tomada del *dataset* de entrenamiento.\n",
        "\n",
        "Esto puede evitarse al colocar el argumento *bootstrap* en *False*. En ese caso, **todo** el *dataset* de entrenamiento será utilizdo en cada árbol de decisión. **Esto no es recomendado**.\n",
        "\n",
        "El argumento *max_samples* puede ser un valor *float* entre 0 y 1 para controlar el porcentaje del tamaño del *dataset* de entrenamiento para construir la *bootstrap sample* utilizada en cada árbol de decisión.\n",
        "\n",
        "Por ejemplo, si el *dataset* de entrenamiento tiene 100 filas, el argumento *max_samples* puede ser 0.5 y cada árbol de decisión será entrenado en una *bootstrap sample* con (100 * 0.5) = 50 filas de datos.\n",
        "\n",
        "El siguiente ejemplo demuestra el efecto de distintos tamaños de *bootstrap samples*, desde 10% hasta 100%."
      ]
    },
    {
      "cell_type": "code",
      "metadata": {
        "colab": {
          "base_uri": "https://localhost:8080/",
          "height": 439
        },
        "id": "HXselUhjwCGf",
        "outputId": "22b69fcf-5a03-4f69-bb45-3b3531037d31"
      },
      "source": [
        "# explore random forest bootstrap sample size on performance\n",
        "from numpy import mean\n",
        "from numpy import std\n",
        "from numpy import arange\n",
        "from sklearn.datasets import make_classification\n",
        "from sklearn.model_selection import cross_val_score\n",
        "from sklearn.model_selection import RepeatedStratifiedKFold\n",
        "from sklearn.ensemble import RandomForestClassifier\n",
        "from matplotlib import pyplot\n",
        "\n",
        "# get the dataset\n",
        "def get_dataset():\n",
        "\tX, y = make_classification(n_samples=1000, n_features=20, n_informative=15, n_redundant=5, random_state=3)\n",
        "\treturn X, y\n",
        "\n",
        "# get a list of models to evaluate\n",
        "def get_models():\n",
        "\tmodels = dict()\n",
        "\t# explore ratios from 10% to 100% in 10% increments\n",
        "\tfor i in arange(0.1, 1.1, 0.1):\n",
        "\t\tkey = '%.1f' % i\n",
        "\t\t# set max_samples=None to use 100%\n",
        "\t\tif i == 1.0:\n",
        "\t\t\ti = None\n",
        "\t\tmodels[key] = RandomForestClassifier(max_samples=i)\n",
        "\treturn models\n",
        "\n",
        "# evaluate a given model using cross-validation\n",
        "def evaluate_model(model, X, y):\n",
        "\t# define the evaluation procedure\n",
        "\tcv = RepeatedStratifiedKFold(n_splits=10, n_repeats=3, random_state=1)\n",
        "\t# evaluate the model and collect the results\n",
        "\tscores = cross_val_score(model, X, y, scoring='accuracy', cv=cv, n_jobs=-1)\n",
        "\treturn scores\n",
        "\n",
        "# define dataset\n",
        "X, y = get_dataset()\n",
        "# get the models to evaluate\n",
        "models = get_models()\n",
        "# evaluate the models and store results\n",
        "results, names = list(), list()\n",
        "for name, model in models.items():\n",
        "\t# evaluate the model\n",
        "\tscores = evaluate_model(model, X, y)\n",
        "\t# store the results\n",
        "\tresults.append(scores)\n",
        "\tnames.append(name)\n",
        "\t# summarize the performance along the way\n",
        "\tprint('>%s %.3f (%.3f)' % (name, mean(scores), std(scores)))\n",
        "# plot model performance for comparison\n",
        "pyplot.boxplot(results, labels=names, showmeans=True)\n",
        "pyplot.show()"
      ],
      "execution_count": 8,
      "outputs": [
        {
          "output_type": "stream",
          "name": "stdout",
          "text": [
            ">0.1 0.856 (0.030)\n",
            ">0.2 0.874 (0.030)\n",
            ">0.3 0.883 (0.024)\n",
            ">0.4 0.893 (0.027)\n",
            ">0.5 0.895 (0.027)\n",
            ">0.6 0.900 (0.026)\n",
            ">0.7 0.900 (0.027)\n",
            ">0.8 0.900 (0.027)\n",
            ">0.9 0.903 (0.026)\n",
            ">1.0 0.901 (0.025)\n"
          ]
        },
        {
          "output_type": "display_data",
          "data": {
            "image/png": "[encoded data removed]",
            "text/plain": [
              "<Figure size 432x288 with 1 Axes>"
            ]
          },
          "metadata": {
            "needs_background": "light"
          }
        }
      ]
    },
    {
      "cell_type": "markdown",
      "metadata": {
        "id": "QmWzD8YowrbO"
      },
      "source": [
        "Al ejecutar el ejemplo, se reporta la media para cada tamaño de *dataset*. En este caso, los resultados sugieren que al usar un *bootstrap sample* igual al tamaño del *dataset* de entrenamiento, se alcanzan los mejores resultados en este *dataset*. Ese es el caso por defecto y, probablemente, debería ser utilizado en la mayoría de casos.\n",
        "\n",
        "Con los *boxplot*, se puede apreciar una tendencia que, a mayor tamaño de la muestra, mejores los resultados del modelo.\n",
        "\n",
        "Se puede probar para ver qué ocurre si se elige un *bootstrap sample* mayor o mucho mayor al tamaño del *traininig dataset* (por ejemplo, colocando un entero como parámetro)."
      ]
    },
    {
      "cell_type": "code",
      "metadata": {
        "colab": {
          "base_uri": "https://localhost:8080/",
          "height": 439
        },
        "id": "roVaG8lvxklD",
        "outputId": "5b674a34-d4ed-4f6d-b5ab-52c455032a33"
      },
      "source": [
        "# explore random forest bootstrap sample size on performance\n",
        "from numpy import mean\n",
        "from numpy import std\n",
        "from numpy import arange\n",
        "from sklearn.datasets import make_classification\n",
        "from sklearn.model_selection import cross_val_score\n",
        "from sklearn.model_selection import RepeatedStratifiedKFold\n",
        "from sklearn.ensemble import RandomForestClassifier\n",
        "from matplotlib import pyplot\n",
        "\n",
        "# get the dataset\n",
        "def get_dataset():\n",
        "\tX, y = make_classification(n_samples=1000, n_features=20, n_informative=15, n_redundant=5, random_state=3)\n",
        "\treturn X, y\n",
        "\n",
        "# get a list of models to evaluate\n",
        "def get_models():\n",
        "\tmodels = dict()\n",
        "\t# explore ratios from 100% to 10000% in 20% increments\n",
        "\tfor i in arange(1, 101, 10):\n",
        "\t\tkey = '%.1f' % i\n",
        "\t\tmodels[key] = RandomForestClassifier(max_samples=i)\n",
        "\treturn models\n",
        "\n",
        "# evaluate a given model using cross-validation\n",
        "def evaluate_model(model, X, y):\n",
        "\t# define the evaluation procedure\n",
        "\tcv = RepeatedStratifiedKFold(n_splits=10, n_repeats=3, random_state=1)\n",
        "\t# evaluate the model and collect the results\n",
        "\tscores = cross_val_score(model, X, y, scoring='accuracy', cv=cv, n_jobs=-1)\n",
        "\treturn scores\n",
        "\n",
        "# define dataset\n",
        "X, y = get_dataset()\n",
        "# get the models to evaluate\n",
        "models = get_models()\n",
        "# evaluate the models and store results\n",
        "results, names = list(), list()\n",
        "for name, model in models.items():\n",
        "\t# evaluate the model\n",
        "\tscores = evaluate_model(model, X, y)\n",
        "\t# store the results\n",
        "\tresults.append(scores)\n",
        "\tnames.append(name)\n",
        "\t# summarize the performance along the way\n",
        "\tprint('>%s %.3f (%.3f)' % (name, mean(scores), std(scores)))\n",
        "# plot model performance for comparison\n",
        "pyplot.boxplot(results, labels=names, showmeans=True)\n",
        "pyplot.show()"
      ],
      "execution_count": 12,
      "outputs": [
        {
          "output_type": "stream",
          "name": "stdout",
          "text": [
            ">1.0 0.500 (0.000)\n",
            ">11.0 0.788 (0.039)\n",
            ">21.0 0.819 (0.035)\n",
            ">31.0 0.825 (0.033)\n",
            ">41.0 0.833 (0.033)\n",
            ">51.0 0.842 (0.029)\n",
            ">61.0 0.848 (0.035)\n",
            ">71.0 0.854 (0.032)\n",
            ">81.0 0.853 (0.030)\n",
            ">91.0 0.859 (0.035)\n"
          ]
        },
        {
          "output_type": "display_data",
          "data": {
            "image/png": "[encoded data removed]",
            "text/plain": [
              "<Figure size 432x288 with 1 Axes>"
            ]
          },
          "metadata": {
            "needs_background": "light"
          }
        }
      ]
    },
    {
      "cell_type": "markdown",
      "metadata": {
        "id": "BLc4Lt30yqmf"
      },
      "source": [
        "Como se puede apreciar, al usar un tamaño mayor al *dataset* no se experimentó una mejora sustancial en los valores obtenidos en el código original. Creo que esto ocurre debido a que no se está ingresando información nueva, únicamente se están \"repitiendo\" las observaciones del *dataset* hasta alcanzar la cantidad especificada en el código. "
      ]
    },
    {
      "cell_type": "markdown",
      "metadata": {
        "id": "YD8AISiXzI17"
      },
      "source": [
        "### Explore Number of Features\n",
        "\n",
        "El número de *features* que son muestreados aleatoriamente para cada *split* es, tal vez, el **feature más importante para configurar un *random forest***. Es asignado mediante el argumento *max_features* y, por defecto, es la raíz cuadrada de la cantidad de *input features*. En este caso, sería *sqrt(20)* o cerca de 4 features.\n",
        "\n",
        "En el siguiente ejemplo, se explora el efecto del número de *features* elegidos aleatoriamente en cada *split point*. Se probarán valores de 1 a 7 y se espera un valor pequeño, cercano a 4, para obtener un buen rendimiento basado en la heurística."
      ]
    },
    {
      "cell_type": "code",
      "metadata": {
        "colab": {
          "base_uri": "https://localhost:8080/",
          "height": 387
        },
        "id": "Niv_s1iNzwd_",
        "outputId": "1462998b-c6b5-4ab7-f359-93e742499e99"
      },
      "source": [
        "# explore random forest number of features effect on performance\n",
        "from numpy import mean\n",
        "from numpy import std\n",
        "from sklearn.datasets import make_classification\n",
        "from sklearn.model_selection import cross_val_score\n",
        "from sklearn.model_selection import RepeatedStratifiedKFold\n",
        "from sklearn.ensemble import RandomForestClassifier\n",
        "from matplotlib import pyplot\n",
        "\n",
        "# get the dataset\n",
        "def get_dataset():\n",
        "\tX, y = make_classification(n_samples=1000, n_features=20, n_informative=15, n_redundant=5, random_state=3)\n",
        "\treturn X, y\n",
        "\n",
        "# get a list of models to evaluate\n",
        "def get_models():\n",
        "\tmodels = dict()\n",
        "\t# explore number of features from 1 to 7\n",
        "\tfor i in range(1,8):\n",
        "\t\tmodels[str(i)] = RandomForestClassifier(max_features=i)\n",
        "\treturn models\n",
        "\n",
        "# evaluate a given model using cross-validation\n",
        "def evaluate_model(model, X, y):\n",
        "\t# define the evaluation procedure\n",
        "\tcv = RepeatedStratifiedKFold(n_splits=10, n_repeats=3, random_state=1)\n",
        "\t# evaluate the model and collect the results\n",
        "\tscores = cross_val_score(model, X, y, scoring='accuracy', cv=cv, n_jobs=-1)\n",
        "\treturn scores\n",
        "\n",
        "# define dataset\n",
        "X, y = get_dataset()\n",
        "# get the models to evaluate\n",
        "models = get_models()\n",
        "# evaluate the models and store results\n",
        "results, names = list(), list()\n",
        "for name, model in models.items():\n",
        "\t# evaluate the model\n",
        "\tscores = evaluate_model(model, X, y)\n",
        "\t# store the results\n",
        "\tresults.append(scores)\n",
        "\tnames.append(name)\n",
        "\t# summarize the performance along the way\n",
        "\tprint('>%s %.3f (%.3f)' % (name, mean(scores), std(scores)))\n",
        "# plot model performance for comparison\n",
        "pyplot.boxplot(results, labels=names, showmeans=True)\n",
        "pyplot.show()"
      ],
      "execution_count": 13,
      "outputs": [
        {
          "output_type": "stream",
          "name": "stdout",
          "text": [
            ">1 0.896 (0.029)\n",
            ">2 0.903 (0.030)\n",
            ">3 0.907 (0.026)\n",
            ">4 0.906 (0.023)\n",
            ">5 0.904 (0.025)\n",
            ">6 0.900 (0.025)\n",
            ">7 0.903 (0.027)\n"
          ]
        },
        {
          "output_type": "display_data",
          "data": {
            "image/png": "[encoded data removed]",
            "text/plain": [
              "<Figure size 432x288 with 1 Axes>"
            ]
          },
          "metadata": {
            "needs_background": "light"
          }
        }
      ]
    },
    {
      "cell_type": "markdown",
      "metadata": {
        "id": "b-0S3GcY01Wc"
      },
      "source": [
        "En este caso, los resultados sugieren que un valor entre 3 y 5 sería apropiado, confirmando el valor por defecto para este *dataset*. Un valor de 5 sería incluso mejor, dada la pequeña desviación estándar en la precisión de la clasificación, comparada con un valor de 3 o 4.\n",
        "\n",
        "En el *boxplot*, se puede ver una tendencia al alza y alcanzando su cima entre 3 y 5, para luego descender conforme se toman en cuenta tamaños más grandes.\n",
        "\n",
        "Nuevamente, se realiza la prueba de observar qué pasa al aumentar la cantidad de *features*:"
      ]
    },
    {
      "cell_type": "code",
      "metadata": {
        "colab": {
          "base_uri": "https://localhost:8080/",
          "height": 491
        },
        "id": "a42lAyzU1T6c",
        "outputId": "dc441573-686e-47dc-afff-2d0989ca20cb"
      },
      "source": [
        "# explore random forest number of features effect on performance\n",
        "from numpy import mean\n",
        "from numpy import std\n",
        "from sklearn.datasets import make_classification\n",
        "from sklearn.model_selection import cross_val_score\n",
        "from sklearn.model_selection import RepeatedStratifiedKFold\n",
        "from sklearn.ensemble import RandomForestClassifier\n",
        "from matplotlib import pyplot\n",
        "\n",
        "# get the dataset\n",
        "def get_dataset():\n",
        "\tX, y = make_classification(n_samples=1000, n_features=20, n_informative=15, n_redundant=5, random_state=3)\n",
        "\treturn X, y\n",
        "\n",
        "# get a list of models to evaluate\n",
        "def get_models():\n",
        "\tmodels = dict()\n",
        "\t# explore number of features from 1 to 7\n",
        "\tfor i in range(8,21):\n",
        "\t\tmodels[str(i)] = RandomForestClassifier(max_features=i)\n",
        "\treturn models\n",
        "\n",
        "# evaluate a given model using cross-validation\n",
        "def evaluate_model(model, X, y):\n",
        "\t# define the evaluation procedure\n",
        "\tcv = RepeatedStratifiedKFold(n_splits=10, n_repeats=3, random_state=1)\n",
        "\t# evaluate the model and collect the results\n",
        "\tscores = cross_val_score(model, X, y, scoring='accuracy', cv=cv, n_jobs=-1)\n",
        "\treturn scores\n",
        "\n",
        "# define dataset\n",
        "X, y = get_dataset()\n",
        "# get the models to evaluate\n",
        "models = get_models()\n",
        "# evaluate the models and store results\n",
        "results, names = list(), list()\n",
        "for name, model in models.items():\n",
        "\t# evaluate the model\n",
        "\tscores = evaluate_model(model, X, y)\n",
        "\t# store the results\n",
        "\tresults.append(scores)\n",
        "\tnames.append(name)\n",
        "\t# summarize the performance along the way\n",
        "\tprint('>%s %.3f (%.3f)' % (name, mean(scores), std(scores)))\n",
        "# plot model performance for comparison\n",
        "pyplot.boxplot(results, labels=names, showmeans=True)\n",
        "pyplot.show()"
      ],
      "execution_count": 14,
      "outputs": [
        {
          "output_type": "stream",
          "name": "stdout",
          "text": [
            ">8 0.899 (0.024)\n",
            ">9 0.895 (0.025)\n",
            ">10 0.897 (0.027)\n",
            ">11 0.893 (0.026)\n",
            ">12 0.891 (0.025)\n",
            ">13 0.889 (0.027)\n",
            ">14 0.895 (0.028)\n",
            ">15 0.893 (0.028)\n",
            ">16 0.895 (0.027)\n",
            ">17 0.889 (0.026)\n",
            ">18 0.891 (0.025)\n",
            ">19 0.890 (0.023)\n",
            ">20 0.884 (0.030)\n"
          ]
        },
        {
          "output_type": "display_data",
          "data": {
            "image/png": "[encoded data removed]",
            "text/plain": [
              "<Figure size 432x288 with 1 Axes>"
            ]
          },
          "metadata": {
            "needs_background": "light"
          }
        }
      ]
    },
    {
      "cell_type": "markdown",
      "metadata": {
        "id": "YZ6J1l002OFl"
      },
      "source": [
        "Como se puede observar, la tendencia continuó a la baja."
      ]
    },
    {
      "cell_type": "markdown",
      "metadata": {
        "id": "ATc_K6RO1eYB"
      },
      "source": [
        "### Explore Number of Trees\n",
        "\n",
        "Típicamente, el número de árboles es incrementado hasta que el rendimiento del modelo se estabiliza. La intuición sugiere que más árboles llevarán al *overfitting*, aunque este no es el caso. Tanto *bagging* como *random forest* son más o menos inmunes al *overfitting* del *training dataset*, dada la naturaleza estocástica del algoritmo de aprendizaje.\n",
        "\n",
        "El número de árboles puede asignarse mediante el argumento *n_estimators*, que por defecto es 100. El siguiente ejemplo explora el efecto del número de árboles con valores entre 10 y 1000."
      ]
    },
    {
      "cell_type": "code",
      "metadata": {
        "colab": {
          "base_uri": "https://localhost:8080/",
          "height": 352
        },
        "id": "fptJgg3V2BIf",
        "outputId": "f4e16442-e57d-41df-8af6-3f1efb610279"
      },
      "source": [
        "# explore random forest number of trees effect on performance\n",
        "from numpy import mean\n",
        "from numpy import std\n",
        "from sklearn.datasets import make_classification\n",
        "from sklearn.model_selection import cross_val_score\n",
        "from sklearn.model_selection import RepeatedStratifiedKFold\n",
        "from sklearn.ensemble import RandomForestClassifier\n",
        "from matplotlib import pyplot\n",
        "\n",
        "# get the dataset\n",
        "def get_dataset():\n",
        "\tX, y = make_classification(n_samples=1000, n_features=20, n_informative=15, n_redundant=5, random_state=3)\n",
        "\treturn X, y\n",
        "\n",
        "# get a list of models to evaluate\n",
        "def get_models():\n",
        "\tmodels = dict()\n",
        "\t# define number of trees to consider\n",
        "\tn_trees = [10, 50, 100, 500, 1000]\n",
        "\tfor n in n_trees:\n",
        "\t\tmodels[str(n)] = RandomForestClassifier(n_estimators=n)\n",
        "\treturn models\n",
        "\n",
        "# evaluate a given model using cross-validation\n",
        "def evaluate_model(model, X, y):\n",
        "\t# define the evaluation procedure\n",
        "\tcv = RepeatedStratifiedKFold(n_splits=10, n_repeats=3, random_state=1)\n",
        "\t# evaluate the model and collect the results\n",
        "\tscores = cross_val_score(model, X, y, scoring='accuracy', cv=cv, n_jobs=-1)\n",
        "\treturn scores\n",
        "\n",
        "# define dataset\n",
        "X, y = get_dataset()\n",
        "# get the models to evaluate\n",
        "models = get_models()\n",
        "# evaluate the models and store results\n",
        "results, names = list(), list()\n",
        "for name, model in models.items():\n",
        "\t# evaluate the model\n",
        "\tscores = evaluate_model(model, X, y)\n",
        "\t# store the results\n",
        "\tresults.append(scores)\n",
        "\tnames.append(name)\n",
        "\t# summarize the performance along the way\n",
        "\tprint('>%s %.3f (%.3f)' % (name, mean(scores), std(scores)))\n",
        "# plot model performance for comparison\n",
        "pyplot.boxplot(results, labels=names, showmeans=True)\n",
        "pyplot.show()"
      ],
      "execution_count": 15,
      "outputs": [
        {
          "output_type": "stream",
          "name": "stdout",
          "text": [
            ">10 0.874 (0.034)\n",
            ">50 0.893 (0.025)\n",
            ">100 0.907 (0.024)\n",
            ">500 0.909 (0.025)\n",
            ">1000 0.906 (0.027)\n"
          ]
        },
        {
          "output_type": "display_data",
          "data": {
            "image/png": "[encoded data removed]",
            "text/plain": [
              "<Figure size 432x288 with 1 Axes>"
            ]
          },
          "metadata": {
            "needs_background": "light"
          }
        }
      ]
    },
    {
      "cell_type": "markdown",
      "metadata": {
        "id": "ZqFbXsyY2rF0"
      },
      "source": [
        "En este caso, se puede observar que el rendimiento se estabiliza alrededor de los 100 árboles. La media de las precisiones con 100, 500 y 1000 árboles fluctúa, lo que podría ser ruido."
      ]
    },
    {
      "cell_type": "markdown",
      "metadata": {
        "id": "NpwXLwJQ26Sa"
      },
      "source": [
        "### Explore Tree Depth\n",
        "\n",
        "Por defecto, los árboles son construidos hasta una profundidad arbitraria y no están podados. Esto es un valor por defecto sensible, pero también se pueden explorar árboles con profundidades distintas.\n",
        "\n",
        "La profunidad máxima puede ser especificada con el parámetro *max_depth* y está asignada como *None* (*no maximum depth*) por defecto.\n",
        "\n",
        "El siguiente ejemplo explora el efecto de *random forest maximum depth* en el rendimiento del modelo."
      ]
    },
    {
      "cell_type": "code",
      "metadata": {
        "id": "-ZQkUWxO3xAT",
        "outputId": "f0cca5c1-c515-4a9c-e95e-523206b2525f",
        "colab": {
          "base_uri": "https://localhost:8080/",
          "height": 404
        }
      },
      "source": [
        "# explore random forest tree depth effect on performance\n",
        "from numpy import mean\n",
        "from numpy import std\n",
        "from sklearn.datasets import make_classification\n",
        "from sklearn.model_selection import cross_val_score\n",
        "from sklearn.model_selection import RepeatedStratifiedKFold\n",
        "from sklearn.ensemble import RandomForestClassifier\n",
        "from matplotlib import pyplot\n",
        "\n",
        "# get the dataset\n",
        "def get_dataset():\n",
        "\tX, y = make_classification(n_samples=1000, n_features=20, n_informative=15, n_redundant=5, random_state=3)\n",
        "\treturn X, y\n",
        "\n",
        "# get a list of models to evaluate\n",
        "def get_models():\n",
        "\tmodels = dict()\n",
        "\t# consider tree depths from 1 to 7 and None=full\n",
        "\tdepths = [i for i in range(1,8)] + [None]\n",
        "\tfor n in depths:\n",
        "\t\tmodels[str(n)] = RandomForestClassifier(max_depth=n)\n",
        "\treturn models\n",
        "\n",
        "# evaluate a given model using cross-validation\n",
        "def evaluate_model(model, X, y):\n",
        "\t# define the evaluation procedure\n",
        "\tcv = RepeatedStratifiedKFold(n_splits=10, n_repeats=3, random_state=1)\n",
        "\t# evaluate the model and collect the results\n",
        "\tscores = cross_val_score(model, X, y, scoring='accuracy', cv=cv, n_jobs=-1)\n",
        "\treturn scores\n",
        "\n",
        "# define dataset\n",
        "X, y = get_dataset()\n",
        "# get the models to evaluate\n",
        "models = get_models()\n",
        "# evaluate the models and store results\n",
        "results, names = list(), list()\n",
        "for name, model in models.items():\n",
        "\t# evaluate the model\n",
        "\tscores = evaluate_model(model, X, y)\n",
        "\t# store the results\n",
        "\tresults.append(scores)\n",
        "\tnames.append(name)\n",
        "\t# summarize the performance along the way\n",
        "\tprint('>%s %.3f (%.3f)' % (name, mean(scores), std(scores)))\n",
        "# plot model performance for comparison\n",
        "pyplot.boxplot(results, labels=names, showmeans=True)\n",
        "pyplot.show()"
      ],
      "execution_count": 16,
      "outputs": [
        {
          "output_type": "stream",
          "name": "stdout",
          "text": [
            ">1 0.771 (0.041)\n",
            ">2 0.809 (0.039)\n",
            ">3 0.833 (0.034)\n",
            ">4 0.860 (0.033)\n",
            ">5 0.868 (0.025)\n",
            ">6 0.882 (0.024)\n",
            ">7 0.887 (0.021)\n",
            ">None 0.908 (0.024)\n"
          ]
        },
        {
          "output_type": "display_data",
          "data": {
            "image/png": "[encoded data removed]",
            "text/plain": [
              "<Figure size 432x288 with 1 Axes>"
            ]
          },
          "metadata": {
            "needs_background": "light"
          }
        }
      ]
    },
    {
      "cell_type": "markdown",
      "metadata": {
        "id": "Q56Ofin-4XTv"
      },
      "source": [
        "En este caso, se puede observar que, a mayor profundidad, mejores resultados en el rendimiento del modelo, con el valor por defecto de *no maximum depth* alcanzando los mejores resultados en este *dataset*."
      ]
    },
    {
      "cell_type": "markdown",
      "metadata": {
        "id": "VnoYcvyeGtPm"
      },
      "source": [
        "## 4. Common Questions\n",
        "\n",
        "### What algorithm should be used in the ensemble?\n",
        "\n",
        "Random forest is designed to be an ensemble of decision tree algorithms.\n",
        "\n",
        "### How many ensemble members should be used?\n",
        "\n",
        "The number of trees should be increased until no further improvement in performance is seen on your dataset. As a starting point, we suggest using at least 1000 trees.\n",
        "\n",
        "### Won´t the ensemble overfit with too many trees?\n",
        "\n",
        "No. Random forest ensembles are very unlikely to overfit in general.\n",
        "\n",
        "### How large should the bootstrap sample be?\n",
        "\n",
        "It is good practice to make the bootstrap sample as large as the original dataset size.\n",
        "\n",
        "### How many features should be chosen at each split point?\n",
        "\n",
        "The best practice is to test a suite of differente values and discover what works best for your dataset.\n",
        "\n",
        "As a heuristic, you can use:\n",
        "\n",
        "> **Classification:** square root of the number of features.\n",
        "\n",
        "> **Regression:** one third of the number of features.\n",
        "\n",
        "### What problems are well suited to random forest?\n",
        "\n",
        "Random forest is known to work well or even best on a wide range of classification and regression problems."
      ]
    }
  ]
}