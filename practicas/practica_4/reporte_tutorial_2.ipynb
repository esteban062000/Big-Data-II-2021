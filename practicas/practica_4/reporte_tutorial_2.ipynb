{
  "nbformat": 4,
  "nbformat_minor": 0,
  "metadata": {
    "kernelspec": {
      "display_name": "Python 3",
      "language": "python",
      "name": "python3"
    },
    "language_info": {
      "codemirror_mode": {
        "name": "ipython",
        "version": 3
      },
      "file_extension": ".py",
      "mimetype": "text/x-python",
      "name": "python",
      "nbconvert_exporter": "python",
      "pygments_lexer": "ipython3",
      "version": "3.8.2"
    },
    "colab": {
      "name": "Lab2_Notes.ipynb",
      "provenance": []
    }
  },
  "cells": [
    {
      "cell_type": "markdown",
      "metadata": {
        "id": "uY0Q5Xo6Ecn7"
      },
      "source": [
        "# Extreme Gradient Boosting (XGBoost) Ensemble in Python\n",
        "\n",
        "**Extreme Gradient Boosting (XGBoost)** es una librería *open-source* que provee una implementación efectiva y eficiente del algoritmo *gradient boosting*.\n",
        "\n",
        "Poco después de su desarrollo, XGBoost se convirtió en el método *go-to* y, a menudo, el componente clave en las soluciones ganadoras en competencias de problemas de clasificación y regresión.\n",
        "\n",
        "## 1. Extreme Gradient Boosting Algorithm\n",
        "\n",
        "**Gradient boosting** se refiere a una clase de algoritmos de *machine learning* que pueden ser utilizados para problemas de clasificación o regresión.\n",
        "\n",
        "Los *ensembles* son construidos a partir de árboles de decisión. Los árboles se agregan uno por uno al *ensemble* y son entrenados para corregir errores en las predicciones realizadas por modelos anteriores. Este es un tipo de *ensemble machine learning model* conocido como **boosting**.\n",
        "\n",
        "Los modelos son entrenados utilizando cualquier función de pérdida arbitrariamente diferenciable y el algoritmo de optimización *gradient descent*. Esto le da a la técnica su nombre, *gradient boosting*, puesto qe la pérdida del gradiente es minimizada conforme el modelo es entrenado, similar a una red neuronal.\n",
        "\n",
        "Las dos razones principales para utilizar XGBoost son la rapidez de ejcución y el rendimiento del modelo. XGBoost domina los *datasets* estructurados o tabulados en problemas predictivos de clasificación o regresión. Una prueba de esto es que es el algoritmo *go-to* de los ganadores de competencias en Kaggle."
      ]
    },
    {
      "cell_type": "markdown",
      "metadata": {
        "id": "gkpnqAhHE9de"
      },
      "source": [
        "## 2. XGBoost Scikit-Learn API\n",
        "\n",
        "XGBoost puede ser instalado como una librería *standalone* y un modelo XGBoost puede ser desarrollado utilizando el API *scikit-learn*. El primer paso es instalar la librería XGBoost, mediante el pip python manager:"
      ]
    },
    {
      "cell_type": "code",
      "metadata": {
        "id": "eK6rbQ6gJz32"
      },
      "source": [
        "sudo pip install xgboost"
      ],
      "execution_count": null,
      "outputs": []
    },
    {
      "cell_type": "markdown",
      "metadata": {
        "id": "9PWxzhQtJl04"
      },
      "source": [
        "Se puede confirmar si se instaló correctamente con el siguiente script."
      ]
    },
    {
      "cell_type": "code",
      "metadata": {
        "colab": {
          "base_uri": "https://localhost:8080/"
        },
        "id": "V_W8NhaMJlSk",
        "outputId": "e1b9134f-04ef-4d52-8804-a14dd72d840d"
      },
      "source": [
        "# check xgboost version\n",
        "import xgboost\n",
        "print(xgboost.__version__)"
      ],
      "execution_count": 1,
      "outputs": [
        {
          "output_type": "stream",
          "name": "stdout",
          "text": [
            "0.90\n"
          ]
        }
      ]
    },
    {
      "cell_type": "markdown",
      "metadata": {
        "id": "9yKGim26KAa_"
      },
      "source": [
        "La librería XGBoost tiene su propio API, pero en este tutorial, vamos a usar el método a través de las *wrapper classes* de *scikit-learn*: **XGBRegressor** y **XGBClassifier**. Se utiliza aleatoriedad en la construcción del modelo, por lo que en cada ejecución, se tendrá una salida ligeramente diferente."
      ]
    },
    {
      "cell_type": "markdown",
      "metadata": {
        "id": "HUzko77-FEbo"
      },
      "source": [
        "### a. XGBoost Ensemble for Classification\n",
        "\n",
        "Primeramente, se puede invocar a la función **make_classification()** para crear un *synthetic binary classification problem* con 1000 ejemplos y 20 variables de entrada."
      ]
    },
    {
      "cell_type": "code",
      "metadata": {
        "colab": {
          "base_uri": "https://localhost:8080/"
        },
        "id": "HuIdYeFCKm3K",
        "outputId": "9a167819-c351-49df-9cb1-4b9cb9efd452"
      },
      "source": [
        "# test classification dataset\n",
        "from sklearn.datasets import make_classification\n",
        "# define dataset\n",
        "X, y = make_classification(n_samples=1000, n_features=20, n_informative=15, n_redundant=5, random_state=7)\n",
        "# summarize the dataset\n",
        "print(X.shape, y.shape)"
      ],
      "execution_count": 3,
      "outputs": [
        {
          "output_type": "stream",
          "name": "stdout",
          "text": [
            "(1000, 20) (1000,)\n"
          ]
        }
      ]
    },
    {
      "cell_type": "markdown",
      "metadata": {
        "id": "B3gFXKBNKo3b"
      },
      "source": [
        "Seguidamente, se evalúa el modelo utilizando **repeated stratified k-fold cross-validation**, con 3 *repeats* y 10 *folds*. "
      ]
    },
    {
      "cell_type": "code",
      "metadata": {
        "colab": {
          "base_uri": "https://localhost:8080/"
        },
        "id": "QEZkqb7NK0rV",
        "outputId": "e3083659-38c9-4e53-e5d5-2a56f3e88d32"
      },
      "source": [
        "# evaluate xgboost algorithm for classification\n",
        "from numpy import mean\n",
        "from numpy import std\n",
        "from sklearn.datasets import make_classification\n",
        "from sklearn.model_selection import cross_val_score\n",
        "from sklearn.model_selection import RepeatedStratifiedKFold\n",
        "from xgboost import XGBClassifier\n",
        "# define dataset\n",
        "X, y = make_classification(n_samples=1000, n_features=20, n_informative=15, n_redundant=5, random_state=7)\n",
        "# define the model\n",
        "model = XGBClassifier()\n",
        "# evaluate the model\n",
        "cv = RepeatedStratifiedKFold(n_splits=10, n_repeats=3, random_state=1)\n",
        "n_scores = cross_val_score(model, X, y, scoring='accuracy', cv=cv, n_jobs=-1)\n",
        "# report performance\n",
        "print('Accuracy: %.3f (%.3f)' % (mean(n_scores), std(n_scores)))"
      ],
      "execution_count": 4,
      "outputs": [
        {
          "output_type": "stream",
          "name": "stdout",
          "text": [
            "Accuracy: 0.899 (0.029)\n"
          ]
        }
      ]
    },
    {
      "cell_type": "markdown",
      "metadata": {
        "id": "V-SafUiVK4Fq"
      },
      "source": [
        "En este caso, el *XGBoost ensemble*, con hiperparámetros por defecto, alcanzó una precisión en la clasificación cercana al 90%. \n",
        "\n",
        "También, se pueden realizar predicciones con la función **predict()**. Esta función espera siempre un arreglo NumPy como una matriz con una fila por cada variable de entrada."
      ]
    },
    {
      "cell_type": "code",
      "metadata": {
        "colab": {
          "base_uri": "https://localhost:8080/"
        },
        "id": "WiVsCkd6LMWB",
        "outputId": "a5fce70a-d70f-4c1f-9e8f-d5d10285c88d"
      },
      "source": [
        "# make predictions using xgboost for classification\n",
        "from numpy import asarray\n",
        "from sklearn.datasets import make_classification\n",
        "from xgboost import XGBClassifier\n",
        "# define dataset\n",
        "X, y = make_classification(n_samples=1000, n_features=20, n_informative=15, n_redundant=5, random_state=7)\n",
        "# define the model\n",
        "model = XGBClassifier()\n",
        "# fit the model on the whole dataset\n",
        "model.fit(X, y)\n",
        "# make a single prediction\n",
        "row = [0.2929949,-4.21223056,-1.288332,-2.17849815,-0.64527665,2.58097719,0.28422388,-7.1827928,-1.91211104,2.73729512,0.81395695,3.96973717,-2.66939799,3.34692332,4.19791821,0.99990998,-0.30201875,-4.43170633,-2.82646737,0.44916808]\n",
        "row = asarray([row])\n",
        "yhat = model.predict(row)\n",
        "print('Predicted Class: %d' % yhat[0])"
      ],
      "execution_count": 5,
      "outputs": [
        {
          "output_type": "stream",
          "name": "stdout",
          "text": [
            "Predicted Class: 1\n"
          ]
        }
      ]
    },
    {
      "cell_type": "markdown",
      "metadata": {
        "id": "jjNvR7wTFI00"
      },
      "source": [
        "### b. XGBoost Ensemble for Regression\n",
        "\n",
        "Nuevamente, se puede utilizar la función **make_regresion()** para crear un *synthetic regression problem* con 1000 ejemplos y 20 variables de entrada."
      ]
    },
    {
      "cell_type": "code",
      "metadata": {
        "colab": {
          "base_uri": "https://localhost:8080/"
        },
        "id": "_eOZZRvhLbAi",
        "outputId": "70c7e65e-f079-4732-d651-3ec4602220cb"
      },
      "source": [
        "# test regression dataset\n",
        "from sklearn.datasets import make_regression\n",
        "# define dataset\n",
        "X, y = make_regression(n_samples=1000, n_features=20, n_informative=15, noise=0.1, random_state=7)\n",
        "# summarize the dataset\n",
        "print(X.shape, y.shape)"
      ],
      "execution_count": 6,
      "outputs": [
        {
          "output_type": "stream",
          "name": "stdout",
          "text": [
            "(1000, 20) (1000,)\n"
          ]
        }
      ]
    },
    {
      "cell_type": "markdown",
      "metadata": {
        "id": "CiXety9vLcvd"
      },
      "source": [
        "Luego, se evalúa el modelo utilizando **repeated k-fold cross-validation**, con 3 *repeats* y 10 *folds*. Se reportará el mean absolute error (MAE) del modelo a lo largo de todas las repeats y folds. La librería scikit-learn toma el MAE negativo, por lo que es maximizado en lugar de minimizado. Esto significa que los MAE más negativos son mejores, y un modelo perfecto tiene un MAE de 0."
      ]
    },
    {
      "cell_type": "code",
      "metadata": {
        "colab": {
          "base_uri": "https://localhost:8080/"
        },
        "id": "SJmw_W1oLuyr",
        "outputId": "c3cd92a7-1e02-4b05-ca7a-ee35e73145fc"
      },
      "source": [
        "# evaluate xgboost ensemble for regression\n",
        "from numpy import mean\n",
        "from numpy import std\n",
        "from sklearn.datasets import make_regression\n",
        "from sklearn.model_selection import cross_val_score\n",
        "from sklearn.model_selection import RepeatedKFold\n",
        "from xgboost import XGBRegressor\n",
        "# define dataset\n",
        "X, y = make_regression(n_samples=1000, n_features=20, n_informative=15, noise=0.1, random_state=7)\n",
        "# define the model\n",
        "model = XGBRegressor()\n",
        "# evaluate the model\n",
        "cv = RepeatedKFold(n_splits=10, n_repeats=3, random_state=1)\n",
        "n_scores = cross_val_score(model, X, y, scoring='neg_mean_absolute_error', cv=cv, n_jobs=-1, error_score='raise')\n",
        "# report performance\n",
        "print('MAE: %.3f (%.3f)' % (mean(n_scores), std(n_scores)))"
      ],
      "execution_count": 7,
      "outputs": [
        {
          "output_type": "stream",
          "name": "stdout",
          "text": [
            "MAE: -62.762 (3.219)\n"
          ]
        }
      ]
    },
    {
      "cell_type": "markdown",
      "metadata": {
        "id": "xAi1BjeQL2PC"
      },
      "source": [
        "En este caso, el *XGBoost ensemble* con hiperparámetros por defecto alcanza un MAE cercano a 63.\n",
        "\n",
        "También, se pueden realizar predicciones con la función **predict()**, que espera un arreglo NumPy como parámetro."
      ]
    },
    {
      "cell_type": "code",
      "metadata": {
        "colab": {
          "base_uri": "https://localhost:8080/"
        },
        "id": "lPeDgFURMEsq",
        "outputId": "478369ad-b7ec-4979-b622-b61f89ffb83f"
      },
      "source": [
        "# gradient xgboost for making predictions for regression\n",
        "from numpy import asarray\n",
        "from sklearn.datasets import make_regression\n",
        "from xgboost import XGBRegressor\n",
        "# define dataset\n",
        "X, y = make_regression(n_samples=1000, n_features=20, n_informative=15, noise=0.1, random_state=7)\n",
        "# define the model\n",
        "model = XGBRegressor()\n",
        "# fit the model on the whole dataset\n",
        "model.fit(X, y)\n",
        "# make a single prediction\n",
        "row = [0.20543991,-0.97049844,-0.81403429,-0.23842689,-0.60704084,-0.48541492,0.53113006,2.01834338,-0.90745243,-1.85859731,-1.02334791,-0.6877744,0.60984819,-0.70630121,-1.29161497,1.32385441,1.42150747,1.26567231,2.56569098,-0.11154792]\n",
        "row = asarray([row])\n",
        "yhat = model.predict(row)\n",
        "print('Prediction: %d' % yhat[0])"
      ],
      "execution_count": 8,
      "outputs": [
        {
          "output_type": "stream",
          "name": "stdout",
          "text": [
            "[16:57:09] WARNING: /workspace/src/objective/regression_obj.cu:152: reg:linear is now deprecated in favor of reg:squarederror.\n",
            "Prediction: 28\n"
          ]
        }
      ]
    },
    {
      "cell_type": "markdown",
      "metadata": {
        "id": "WBcW9_gbFMBd"
      },
      "source": [
        "## 3. XGBoost Hyperparameters\n",
        "\n",
        "En esta sección, se analizarán algunos hiperparámetros que se deben considerar en el *Gradient Boosting ensemble* y su efecto en el rendimiento del modelo."
      ]
    },
    {
      "cell_type": "markdown",
      "metadata": {
        "id": "_R20lUCDFT0S"
      },
      "source": [
        "### a. Explore Number of Trees\n",
        "\n",
        "Los árboles de decisión son añadidos al modelo secuencialmente, para corregir e improvisar en las predicciones realizadas por árboles anteriores. Por ende, por lo general, más árboles es mejor.\n",
        "\n",
        "El número de árboles se puede determinar con el argumento *n_estimators*, con un valor por defecto de 100. El siguiente ejemplo explora el efecto del número de árboles con valores entre 10 y 5000."
      ]
    },
    {
      "cell_type": "code",
      "metadata": {
        "colab": {
          "base_uri": "https://localhost:8080/",
          "height": 372
        },
        "id": "aks5ranw2fQ0",
        "outputId": "a75ed40d-573c-4c71-c8f5-26a52499a362"
      },
      "source": [
        "# explore xgboost number of trees effect on performance\n",
        "from numpy import mean\n",
        "from numpy import std\n",
        "from sklearn.datasets import make_classification\n",
        "from sklearn.model_selection import cross_val_score\n",
        "from sklearn.model_selection import RepeatedStratifiedKFold\n",
        "from xgboost import XGBClassifier\n",
        "from matplotlib import pyplot\n",
        "\n",
        "# get the dataset\n",
        "def get_dataset():\n",
        "\tX, y = make_classification(n_samples=1000, n_features=20, n_informative=15, n_redundant=5, random_state=7)\n",
        "\treturn X, y\n",
        "\n",
        "# get a list of models to evaluate\n",
        "def get_models():\n",
        "\tmodels = dict()\n",
        "\ttrees = [10, 50, 100, 500, 1000, 5000]\n",
        "\tfor n in trees:\n",
        "\t\tmodels[str(n)] = XGBClassifier(n_estimators=n)\n",
        "\treturn models\n",
        "\n",
        "# evaluate a give model using cross-validation\n",
        "def evaluate_model(model):\n",
        "\tcv = RepeatedStratifiedKFold(n_splits=10, n_repeats=3, random_state=1)\n",
        "\tscores = cross_val_score(model, X, y, scoring='accuracy', cv=cv, n_jobs=-1)\n",
        "\treturn scores\n",
        "\n",
        "# define dataset\n",
        "X, y = get_dataset()\n",
        "# get the models to evaluate\n",
        "models = get_models()\n",
        "# evaluate the models and store results\n",
        "results, names = list(), list()\n",
        "for name, model in models.items():\n",
        "\tscores = evaluate_model(model)\n",
        "\tresults.append(scores)\n",
        "\tnames.append(name)\n",
        "\tprint('>%s %.3f (%.3f)' % (name, mean(scores), std(scores)))\n",
        "# plot model performance for comparison\n",
        "pyplot.boxplot(results, labels=names, showmeans=True)\n",
        "pyplot.show()"
      ],
      "execution_count": 1,
      "outputs": [
        {
          "output_type": "stream",
          "name": "stdout",
          "text": [
            ">10 0.829 (0.037)\n",
            ">50 0.871 (0.027)\n",
            ">100 0.899 (0.029)\n",
            ">500 0.927 (0.025)\n",
            ">1000 0.927 (0.025)\n",
            ">5000 0.927 (0.026)\n"
          ]
        },
        {
          "output_type": "display_data",
          "data": {
            "image/png": "[encoded data removed]",
            "text/plain": [
              "<Figure size 432x288 with 1 Axes>"
            ]
          },
          "metadata": {
            "needs_background": "light"
          }
        }
      ]
    },
    {
      "cell_type": "markdown",
      "metadata": {
        "id": "duQtxZ9Q2jAZ"
      },
      "source": [
        "Como se puede apreciar, el rendimiento mejora en el *dataset* hasta aproximadamente 500 árboles, para luego estabilizarse o descender."
      ]
    },
    {
      "cell_type": "markdown",
      "metadata": {
        "id": "oqFrGd0aFWKC"
      },
      "source": [
        "### b. Explore Tree Depth\n",
        "\n",
        "La profunidad del árbol determina qué tan especializado es un árbol para el *dataset*: qué tan general u *overfit* es. Los árboles se prefieren no demasiado generales (como **AdaBoost**) pero tampoco demasiado profundos o especializados (como **bootstrap aggregation**).\n",
        "\n",
        "Este hiperparámetro se controla con el argumento *max_depth*, que por defecto es 6. El siguiente ejemplo explora la profundidad del árbole entre 1 y 10 y su efecto en el rendimiento del modelo."
      ]
    },
    {
      "cell_type": "code",
      "metadata": {
        "colab": {
          "base_uri": "https://localhost:8080/",
          "height": 439
        },
        "id": "8Da_qj_H3c-Y",
        "outputId": "0db1d648-8e46-4488-e26c-062f5f217368"
      },
      "source": [
        "# explore xgboost tree depth effect on performance\n",
        "from numpy import mean\n",
        "from numpy import std\n",
        "from sklearn.datasets import make_classification\n",
        "from sklearn.model_selection import cross_val_score\n",
        "from sklearn.model_selection import RepeatedStratifiedKFold\n",
        "from xgboost import XGBClassifier\n",
        "from matplotlib import pyplot\n",
        "\n",
        "# get the dataset\n",
        "def get_dataset():\n",
        "\tX, y = make_classification(n_samples=1000, n_features=20, n_informative=15, n_redundant=5, random_state=7)\n",
        "\treturn X, y\n",
        "\n",
        "# get a list of models to evaluate\n",
        "def get_models():\n",
        "\tmodels = dict()\n",
        "\tfor i in range(1,11):\n",
        "\t\tmodels[str(i)] = XGBClassifier(max_depth=i)\n",
        "\treturn models\n",
        "\n",
        "# evaluate a give model using cross-validation\n",
        "def evaluate_model(model):\n",
        "\tcv = RepeatedStratifiedKFold(n_splits=10, n_repeats=3, random_state=1)\n",
        "\tscores = cross_val_score(model, X, y, scoring='accuracy', cv=cv, n_jobs=-1)\n",
        "\treturn scores\n",
        "\n",
        "# define dataset\n",
        "X, y = get_dataset()\n",
        "# get the models to evaluate\n",
        "models = get_models()\n",
        "# evaluate the models and store results\n",
        "results, names = list(), list()\n",
        "for name, model in models.items():\n",
        "\tscores = evaluate_model(model)\n",
        "\tresults.append(scores)\n",
        "\tnames.append(name)\n",
        "\tprint('>%s %.3f (%.3f)' % (name, mean(scores), std(scores)))\n",
        "# plot model performance for comparison\n",
        "pyplot.boxplot(results, labels=names, showmeans=True)\n",
        "pyplot.show()"
      ],
      "execution_count": 2,
      "outputs": [
        {
          "output_type": "stream",
          "name": "stdout",
          "text": [
            ">1 0.833 (0.029)\n",
            ">2 0.874 (0.031)\n",
            ">3 0.899 (0.029)\n",
            ">4 0.916 (0.030)\n",
            ">5 0.922 (0.030)\n",
            ">6 0.923 (0.030)\n",
            ">7 0.920 (0.026)\n",
            ">8 0.916 (0.032)\n",
            ">9 0.919 (0.028)\n",
            ">10 0.918 (0.029)\n"
          ]
        },
        {
          "output_type": "display_data",
          "data": {
            "image/png": "[encoded data removed]",
            "text/plain": [
              "<Figure size 432x288 with 1 Axes>"
            ]
          },
          "metadata": {
            "needs_background": "light"
          }
        }
      ]
    },
    {
      "cell_type": "markdown",
      "metadata": {
        "id": "Q0nngKZc48aa"
      },
      "source": [
        "En este caso, se puede observar que el rendimiento mejora con la profunidad del árbol, alcanzando una cima entre 4 y 7, para luego descender debido a los árboles demasiado especializdos."
      ]
    },
    {
      "cell_type": "markdown",
      "metadata": {
        "id": "ejqsUW2oFX69"
      },
      "source": [
        "### c. Explore Learning Rate\n",
        "\n",
        "El *learning rate* controla el tamaño de la contribucion de cada modelo al *ensemble prediction*. Puede ser controlado con el argumento *eta* y su valor por defecto es 0.3 .\n",
        "\n",
        "El siguiente ejemplo explora el *learning rate* y compara el efecto de los valores entre 0.0001 y 1.0 ."
      ]
    },
    {
      "cell_type": "code",
      "metadata": {
        "colab": {
          "base_uri": "https://localhost:8080/",
          "height": 352
        },
        "id": "b-fUezyX5eDV",
        "outputId": "fbb2923c-2c4c-4427-d67c-86efd32d87a6"
      },
      "source": [
        "# explore xgboost learning rate effect on performance\n",
        "from numpy import mean\n",
        "from numpy import std\n",
        "from sklearn.datasets import make_classification\n",
        "from sklearn.model_selection import cross_val_score\n",
        "from sklearn.model_selection import RepeatedStratifiedKFold\n",
        "from xgboost import XGBClassifier\n",
        "from matplotlib import pyplot\n",
        "\n",
        "# get the dataset\n",
        "def get_dataset():\n",
        "\tX, y = make_classification(n_samples=1000, n_features=20, n_informative=15, n_redundant=5, random_state=7)\n",
        "\treturn X, y\n",
        "\n",
        "# get a list of models to evaluate\n",
        "def get_models():\n",
        "\tmodels = dict()\n",
        "\trates = [0.0001, 0.001, 0.01, 0.1, 1.0]\n",
        "\tfor r in rates:\n",
        "\t\tkey = '%.4f' % r\n",
        "\t\tmodels[key] = XGBClassifier(eta=r)\n",
        "\treturn models\n",
        "\n",
        "# evaluate a give model using cross-validation\n",
        "def evaluate_model(model):\n",
        "\tcv = RepeatedStratifiedKFold(n_splits=10, n_repeats=3, random_state=1)\n",
        "\tscores = cross_val_score(model, X, y, scoring='accuracy', cv=cv, n_jobs=-1)\n",
        "\treturn scores\n",
        "\n",
        "# define dataset\n",
        "X, y = get_dataset()\n",
        "# get the models to evaluate\n",
        "models = get_models()\n",
        "# evaluate the models and store results\n",
        "results, names = list(), list()\n",
        "for name, model in models.items():\n",
        "\tscores = evaluate_model(model)\n",
        "\tresults.append(scores)\n",
        "\tnames.append(name)\n",
        "\tprint('>%s %.3f (%.3f)' % (name, mean(scores), std(scores)))\n",
        "# plot model performance for comparison\n",
        "pyplot.boxplot(results, labels=names, showmeans=True)\n",
        "pyplot.show()"
      ],
      "execution_count": 5,
      "outputs": [
        {
          "output_type": "stream",
          "name": "stdout",
          "text": [
            ">0.0001 0.899 (0.029)\n",
            ">0.0010 0.899 (0.029)\n",
            ">0.0100 0.899 (0.029)\n",
            ">0.1000 0.899 (0.029)\n",
            ">1.0000 0.899 (0.029)\n"
          ]
        },
        {
          "output_type": "display_data",
          "data": {
            "image/png": "[encoded data removed]",
            "text/plain": [
              "<Figure size 432x288 with 1 Axes>"
            ]
          },
          "metadata": {
            "needs_background": "light"
          }
        }
      ]
    },
    {
      "cell_type": "markdown",
      "metadata": {
        "id": "9Zz2AtEO5hW7"
      },
      "source": [
        "En este caso, se observa cómo un *learning rate* mayor resulta en un mejor rendimiento en este *dataset*. Se esperaría que añadir más árboles al *ensemble* para los *smaller learning rates* mejorarían aún más el rendimiento. Este *trade-off* entre el número de árboles (*speed of training*) y *learning rate*, e.g., se puede entrenar un modelo más rápido al usar menos árboles y un *learning rate* más grande. "
      ]
    },
    {
      "cell_type": "markdown",
      "metadata": {
        "id": "weHVcmhTFZ1R"
      },
      "source": [
        "### d. Explore Number of Samples\n",
        "\n",
        "El número de *samples* utilizados para entrenar cada árbol puede ser variado. Esto significa que cada árbol es *entrenado* en un subconjunto seleccionado aleatoriamente del *training dataset*.\n",
        "\n",
        "Al usar menos *samples* se introduce más varianza para cada árbol, aunque puede mejorar el rendimiento de todo el modelo. El número de *samples* utilizados para entrenar cada árbol es especificado por el argumento *subsample* y se le puede asignar una fracción del tamaño del *training dataset*. Por defecto, es 1.0, para utilizar todo el *training dataset*.\n",
        "\n",
        "El siguiente ejemplo demuestra el efecto del tamaño de la muestra en el rendimiento del modelo, con *ratios* variando de 10% hasta 100%."
      ]
    },
    {
      "cell_type": "code",
      "metadata": {
        "id": "DzViIkpiEq_u",
        "outputId": "55d742a2-808a-443a-d5af-e641331d3e86",
        "colab": {
          "base_uri": "https://localhost:8080/",
          "height": 439
        }
      },
      "source": [
        "# explore xgboost subsample ratio effect on performance\n",
        "from numpy import arange\n",
        "from numpy import mean\n",
        "from numpy import std\n",
        "from sklearn.datasets import make_classification\n",
        "from sklearn.model_selection import cross_val_score\n",
        "from sklearn.model_selection import RepeatedStratifiedKFold\n",
        "from xgboost import XGBClassifier\n",
        "from matplotlib import pyplot\n",
        "\n",
        "# get the dataset\n",
        "def get_dataset():\n",
        "\tX, y = make_classification(n_samples=1000, n_features=20, n_informative=15, n_redundant=5, random_state=7)\n",
        "\treturn X, y\n",
        "\n",
        "# get a list of models to evaluate\n",
        "def get_models():\n",
        "\tmodels = dict()\n",
        "\tfor i in arange(0.1, 1.1, 0.1):\n",
        "\t\tkey = '%.1f' % i\n",
        "\t\tmodels[key] = XGBClassifier(subsample=i)\n",
        "\treturn models\n",
        "\n",
        "# evaluate a give model using cross-validation\n",
        "def evaluate_model(model):\n",
        "\tcv = RepeatedStratifiedKFold(n_splits=10, n_repeats=3, random_state=1)\n",
        "\tscores = cross_val_score(model, X, y, scoring='accuracy', cv=cv, n_jobs=-1)\n",
        "\treturn scores\n",
        "\n",
        "# define dataset\n",
        "X, y = get_dataset()\n",
        "# get the models to evaluate\n",
        "models = get_models()\n",
        "# evaluate the models and store results\n",
        "results, names = list(), list()\n",
        "for name, model in models.items():\n",
        "\tscores = evaluate_model(model)\n",
        "\tresults.append(scores)\n",
        "\tnames.append(name)\n",
        "\tprint('>%s %.3f (%.3f)' % (name, mean(scores), std(scores)))\n",
        "# plot model performance for comparison\n",
        "pyplot.boxplot(results, labels=names, showmeans=True)\n",
        "pyplot.show()"
      ],
      "execution_count": 6,
      "outputs": [
        {
          "output_type": "stream",
          "name": "stdout",
          "text": [
            ">0.1 0.882 (0.034)\n",
            ">0.2 0.903 (0.028)\n",
            ">0.3 0.909 (0.030)\n",
            ">0.4 0.913 (0.031)\n",
            ">0.5 0.914 (0.026)\n",
            ">0.6 0.908 (0.029)\n",
            ">0.7 0.910 (0.025)\n",
            ">0.8 0.911 (0.029)\n",
            ">0.9 0.906 (0.028)\n",
            ">1.0 0.899 (0.029)\n"
          ]
        },
        {
          "output_type": "display_data",
          "data": {
            "image/png": "[encoded data removed]",
            "text/plain": [
              "<Figure size 432x288 with 1 Axes>"
            ]
          },
          "metadata": {
            "needs_background": "light"
          }
        }
      ]
    },
    {
      "cell_type": "markdown",
      "metadata": {
        "id": "ynvZ6kmpE2rJ"
      },
      "source": [
        "Como se puede apreciar, el rendimiento miedo es probablemente mejor para un *sample size* que cubre la mayoría del *dataset*, como 80% o mayor."
      ]
    },
    {
      "cell_type": "markdown",
      "metadata": {
        "id": "lXjFMeL8Fbsg"
      },
      "source": [
        "### e. Explore Number of Features\n",
        "\n",
        "Cambiar el número de *features* introduce varianza adicional al modelo, que puede mejorar el rendimiento, aunque necesita un aumento en el número de árboles.\n",
        "\n",
        "El número de *features* usado por cada árbol se toma como una muestra aleatoria y se especifica con el argumento *colsample_bytree* y pone por defecto todas las *features* en el *training dataset*; e.g., 100% o un valor de 1.0 . También se pueden muestrear columnas por cada *split*, y esto es controlado por el argumento *colsample_bylevel*, pero no se tomará en cuenta este hiperparámetro aquí.\n",
        "\n",
        "El siguiente ejemplo el efecto del número de *features* en el rendimiento del modelo, con valores variando de 10% a 100%, en incrementos de 10%."
      ]
    },
    {
      "cell_type": "code",
      "metadata": {
        "id": "_pN-x9hgG7Xv",
        "outputId": "a8c51554-261c-4df8-d177-acd0fc5e47d9",
        "colab": {
          "base_uri": "https://localhost:8080/",
          "height": 439
        }
      },
      "source": [
        "# explore xgboost column ratio per tree effect on performance\n",
        "from numpy import arange\n",
        "from numpy import mean\n",
        "from numpy import std\n",
        "from sklearn.datasets import make_classification\n",
        "from sklearn.model_selection import cross_val_score\n",
        "from sklearn.model_selection import RepeatedStratifiedKFold\n",
        "from xgboost import XGBClassifier\n",
        "from matplotlib import pyplot\n",
        "\n",
        "# get the dataset\n",
        "def get_dataset():\n",
        "\tX, y = make_classification(n_samples=1000, n_features=20, n_informative=15, n_redundant=5, random_state=7)\n",
        "\treturn X, y\n",
        "\n",
        "# get a list of models to evaluate\n",
        "def get_models():\n",
        "\tmodels = dict()\n",
        "\tfor i in arange(0.1, 1.1, 0.1):\n",
        "\t\tkey = '%.1f' % i\n",
        "\t\tmodels[key] = XGBClassifier(colsample_bytree=i)\n",
        "\treturn models\n",
        "\n",
        "# evaluate a give model using cross-validation\n",
        "def evaluate_model(model):\n",
        "\tcv = RepeatedStratifiedKFold(n_splits=10, n_repeats=3, random_state=1)\n",
        "\tscores = cross_val_score(model, X, y, scoring='accuracy', cv=cv, n_jobs=-1)\n",
        "\treturn scores\n",
        "\n",
        "# define dataset\n",
        "X, y = get_dataset()\n",
        "# get the models to evaluate\n",
        "models = get_models()\n",
        "# evaluate the models and store results\n",
        "results, names = list(), list()\n",
        "for name, model in models.items():\n",
        "\tscores = evaluate_model(model)\n",
        "\tresults.append(scores)\n",
        "\tnames.append(name)\n",
        "\tprint('>%s %.3f (%.3f)' % (name, mean(scores), std(scores)))\n",
        "# plot model performance for comparison\n",
        "pyplot.boxplot(results, labels=names, showmeans=True)\n",
        "pyplot.show()"
      ],
      "execution_count": 7,
      "outputs": [
        {
          "output_type": "stream",
          "name": "stdout",
          "text": [
            ">0.1 0.845 (0.038)\n",
            ">0.2 0.883 (0.031)\n",
            ">0.3 0.893 (0.032)\n",
            ">0.4 0.901 (0.033)\n",
            ">0.5 0.900 (0.033)\n",
            ">0.6 0.903 (0.026)\n",
            ">0.7 0.902 (0.028)\n",
            ">0.8 0.902 (0.026)\n",
            ">0.9 0.898 (0.028)\n",
            ">1.0 0.899 (0.029)\n"
          ]
        },
        {
          "output_type": "display_data",
          "data": {
            "image/png": "[encoded data removed]",
            "text/plain": [
              "<Figure size 432x288 with 1 Axes>"
            ]
          },
          "metadata": {
            "needs_background": "light"
          }
        }
      ]
    },
    {
      "cell_type": "markdown",
      "metadata": {
        "id": "410uukKlHOVY"
      },
      "source": [
        "En este caso, se puede observar que el rendimiento medio incrementa  cerca de la mitad de los *features* (50 porciento) y se estabiliza en algún nivel después de eso. Es sorprendente que, al remover la mitad de las variables de entrada por árbol tiene poco efecto. La tendencia al alza alcanza una cima, aproximadamente, en 0.6 ."
      ]
    }
  ]
}