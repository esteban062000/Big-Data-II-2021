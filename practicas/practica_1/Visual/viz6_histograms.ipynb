{
  "nbformat": 4,
  "nbformat_minor": 0,
  "metadata": {
    "colab": {
      "name": "04.05-Histograms-and-Binnings.ipynb",
      "provenance": [],
      "collapsed_sections": []
    },
    "kernelspec": {
      "display_name": "Python 3",
      "language": "python",
      "name": "python3"
    },
    "language_info": {
      "codemirror_mode": {
        "name": "ipython",
        "version": 3
      },
      "file_extension": ".py",
      "mimetype": "text/x-python",
      "name": "python",
      "nbconvert_exporter": "python",
      "pygments_lexer": "ipython3",
      "version": "3.8.6"
    }
  },
  "cells": [
    {
      "cell_type": "markdown",
      "metadata": {
        "id": "LgQuGXlqwMaz"
      },
      "source": [
        "# Histograms, Binnings, and Density"
      ]
    },
    {
      "cell_type": "markdown",
      "metadata": {
        "id": "1Jmub9VNwMa1"
      },
      "source": [
        "A simple histogram can be a great first step in understanding a dataset.\n",
        "Matplotlib's histogram function creates a basic histogram in one line, once the normal boiler-plate imports are done:"
      ]
    },
    {
      "cell_type": "code",
      "metadata": {
        "id": "qRBxx8Q7wMa1"
      },
      "source": [
        "%matplotlib inline\n",
        "import numpy as np\n",
        "import matplotlib.pyplot as plt\n",
        "plt.style.use('seaborn-white')\n",
        "\n",
        "data = np.random.randn(1000)"
      ],
      "execution_count": 1,
      "outputs": []
    },
    {
      "cell_type": "code",
      "metadata": {
        "colab": {
          "base_uri": "https://localhost:8080/",
          "height": 262
        },
        "id": "kj7sd8-ywMa5",
        "outputId": "b5a8f282-aa93-4eb7-c56e-9e71c073515a"
      },
      "source": [
        "plt.hist(data);"
      ],
      "execution_count": 2,
      "outputs": [
        {
          "output_type": "display_data",
          "data": {
            "image/png": "[encoded data removed]",
            "text/plain": [
              "<Figure size 432x288 with 1 Axes>"
            ]
          },
          "metadata": {
            "needs_background": "light"
          }
        }
      ]
    },
    {
      "cell_type": "markdown",
      "metadata": {
        "id": "1dbc4RJowMa_"
      },
      "source": [
        "The ``hist()`` function has many options to tune both the calculation and the display; \n",
        "here's an example of a more customized histogram:"
      ]
    },
    {
      "cell_type": "code",
      "metadata": {
        "colab": {
          "base_uri": "https://localhost:8080/",
          "height": 262
        },
        "id": "qsjaN4kUwMbA",
        "outputId": "881858c7-702a-45a0-aed6-f33dca376373"
      },
      "source": [
        "plt.hist(data, bins=30, alpha=0.5,\n",
        "         histtype='stepfilled', color='steelblue',\n",
        "         edgecolor='none');"
      ],
      "execution_count": 3,
      "outputs": [
        {
          "output_type": "display_data",
          "data": {
            "image/png": "[encoded data removed]",
            "text/plain": [
              "<Figure size 432x288 with 1 Axes>"
            ]
          },
          "metadata": {
            "needs_background": "light"
          }
        }
      ]
    },
    {
      "cell_type": "markdown",
      "metadata": {
        "id": "uT3qWnlMwMbE"
      },
      "source": [
        "The ``plt.hist`` docstring has more information on other customization options available.\n",
        "I find this combination of ``histtype='stepfilled'`` along with some transparency ``alpha`` to be very useful when comparing histograms of several distributions:"
      ]
    },
    {
      "cell_type": "code",
      "metadata": {
        "colab": {
          "base_uri": "https://localhost:8080/",
          "height": 262
        },
        "id": "qq-__O6pwMbE",
        "outputId": "e25b3253-f483-4843-b6ec-f0c44f2b0b50"
      },
      "source": [
        "x1 = np.random.normal(0, 0.8, 1000)\n",
        "x2 = np.random.normal(-2, 1, 1000)\n",
        "x3 = np.random.normal(3, 2, 1000)\n",
        "\n",
        "kwargs = dict(histtype='stepfilled', alpha=0.3, bins=40)\n",
        "\n",
        "plt.hist(x1, **kwargs)\n",
        "plt.hist(x2, **kwargs)\n",
        "plt.hist(x3, **kwargs);"
      ],
      "execution_count": 4,
      "outputs": [
        {
          "output_type": "display_data",
          "data": {
            "image/png": "[encoded data removed]",
            "text/plain": [
              "<Figure size 432x288 with 1 Axes>"
            ]
          },
          "metadata": {
            "needs_background": "light"
          }
        }
      ]
    },
    {
      "cell_type": "markdown",
      "metadata": {
        "id": "QkCwOICewMbI"
      },
      "source": [
        "If you would like to simply compute the histogram (that is, count the number of points in a given bin) and not display it, the ``np.histogram()`` function is available:"
      ]
    },
    {
      "cell_type": "code",
      "metadata": {
        "colab": {
          "base_uri": "https://localhost:8080/"
        },
        "id": "uFzxriZSwMbJ",
        "outputId": "56eb999b-a882-4994-c4c3-900c6b6da151"
      },
      "source": [
        "counts, bin_edges = np.histogram(data, bins=5)\n",
        "print(counts)"
      ],
      "execution_count": 5,
      "outputs": [
        {
          "output_type": "stream",
          "text": [
            "[ 87 436 411  63   3]\n"
          ],
          "name": "stdout"
        }
      ]
    },
    {
      "cell_type": "markdown",
      "metadata": {
        "id": "LsPEgiBFwMbM"
      },
      "source": [
        "## Two-Dimensional Histograms and Binnings\n",
        "\n",
        "Just as we create histograms in one dimension by dividing the number-line into bins, we can also create histograms in two-dimensions by dividing points among two-dimensional bins.\n",
        "We'll take a brief look at several ways to do this here.\n",
        "We'll start by defining some data—an ``x`` and ``y`` array drawn from a multivariate Gaussian distribution:"
      ]
    },
    {
      "cell_type": "code",
      "metadata": {
        "id": "GnCZelzYwMbO"
      },
      "source": [
        "mean = [0, 0]\n",
        "cov = [[1, 1], [1, 2]]\n",
        "x, y = np.random.multivariate_normal(mean, cov, 10000).T"
      ],
      "execution_count": 6,
      "outputs": []
    },
    {
      "cell_type": "markdown",
      "metadata": {
        "id": "RrnhVyb6wMbQ"
      },
      "source": [
        "### ``plt.hist2d``: Two-dimensional histogram\n",
        "\n",
        "One straightforward way to plot a two-dimensional histogram is to use Matplotlib's ``plt.hist2d`` function:"
      ]
    },
    {
      "cell_type": "code",
      "metadata": {
        "colab": {
          "base_uri": "https://localhost:8080/",
          "height": 264
        },
        "id": "cpMT8ndrwMbR",
        "outputId": "8470d8e8-0b6e-4c17-ead3-196c08cd0c48"
      },
      "source": [
        "plt.hist2d(x, y, bins=30, cmap='Blues')\n",
        "cb = plt.colorbar()\n",
        "cb.set_label('counts in bin')"
      ],
      "execution_count": 7,
      "outputs": [
        {
          "output_type": "display_data",
          "data": {
            "image/png": "[encoded data removed]",
            "text/plain": [
              "<Figure size 432x288 with 2 Axes>"
            ]
          },
          "metadata": {
            "needs_background": "light"
          }
        }
      ]
    },
    {
      "cell_type": "markdown",
      "metadata": {
        "id": "4vbCl8jXwMbU"
      },
      "source": [
        "Just as with ``plt.hist``, ``plt.hist2d`` has a number of extra options to fine-tune the plot and the binning, which are nicely outlined in the function docstring.\n",
        "Further, just as ``plt.hist`` has a counterpart in ``np.histogram``, ``plt.hist2d`` has a counterpart in ``np.histogram2d``, which can be used as follows:"
      ]
    },
    {
      "cell_type": "code",
      "metadata": {
        "id": "yGEyaSmlwMbV"
      },
      "source": [
        "counts, xedges, yedges = np.histogram2d(x, y, bins=30)"
      ],
      "execution_count": 8,
      "outputs": []
    },
    {
      "cell_type": "markdown",
      "metadata": {
        "id": "i7t9BINbwMbX"
      },
      "source": [
        "For the generalization of this histogram binning in dimensions higher than two, see the ``np.histogramdd`` function."
      ]
    },
    {
      "cell_type": "markdown",
      "metadata": {
        "id": "Mo-sxgVtwMbZ"
      },
      "source": [
        "### ``plt.hexbin``: Hexagonal binnings\n",
        "\n",
        "The two-dimensional histogram creates a tesselation of squares across the axes.\n",
        "Another natural shape for such a tesselation is the regular hexagon.\n",
        "For this purpose, Matplotlib provides the ``plt.hexbin`` routine, which will represents a two-dimensional dataset binned within a grid of hexagons:"
      ]
    },
    {
      "cell_type": "code",
      "metadata": {
        "colab": {
          "base_uri": "https://localhost:8080/",
          "height": 262
        },
        "id": "cXt_ToNOwMba",
        "outputId": "a6645f8d-2924-42d2-e3a3-5a12f733d58c"
      },
      "source": [
        "plt.hexbin(x, y, gridsize=30, cmap='Blues')\n",
        "cb = plt.colorbar(label='count in bin')"
      ],
      "execution_count": 9,
      "outputs": [
        {
          "output_type": "display_data",
          "data": {
            "image/png": "[encoded data removed]",
            "text/plain": [
              "<Figure size 432x288 with 2 Axes>"
            ]
          },
          "metadata": {
            "needs_background": "light"
          }
        }
      ]
    },
    {
      "cell_type": "markdown",
      "metadata": {
        "id": "9KvrK5lowMbf"
      },
      "source": [
        "``plt.hexbin`` has a number of interesting options, including the ability to specify weights for each point, and to change the output in each bin to any NumPy aggregate (mean of weights, standard deviation of weights, etc.)."
      ]
    }
  ]
}