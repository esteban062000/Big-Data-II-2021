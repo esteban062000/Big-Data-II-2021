{
  "nbformat": 4,
  "nbformat_minor": 0,
  "metadata": {
    "kernelspec": {
      "display_name": "Python 3",
      "language": "python",
      "name": "python3"
    },
    "language_info": {
      "codemirror_mode": {
        "name": "ipython",
        "version": 3
      },
      "file_extension": ".py",
      "mimetype": "text/x-python",
      "name": "python",
      "nbconvert_exporter": "python",
      "pygments_lexer": "ipython3",
      "version": "3.8.2"
    },
    "colab": {
      "name": "Lab2_Notes.ipynb",
      "provenance": []
    }
  },
  "cells": [
    {
      "cell_type": "markdown",
      "metadata": {
        "id": "kJcTK1S14Kvj"
      },
      "source": [
        "# How to Perform Data Cleaning for Machine Learning with Python"
      ]
    },
    {
      "cell_type": "markdown",
      "metadata": {
        "id": "re06e9YV41hQ"
      },
      "source": [
        "## 1. Messy Datasets\n",
        "\n",
        ">\"*Data cleaning is used to refer to all kinds of tasks and activities to detect and repair errors in the data*.\"\n",
        "\n",
        "Se utilizarán los datasets *Oil_Spill.csv* y *Iris_Flowers.csv*."
      ]
    },
    {
      "cell_type": "markdown",
      "metadata": {
        "id": "hfkr-wpk6U28"
      },
      "source": [
        "## 2. Identify Columns That Contain a Single Value\n",
        "\n",
        "Las columnas que tienen un único valor para todas las filas no ofrecen ninguna información para el modelado, pues tienen varianza cero. Para detectarlas, se puede utilizar la función **unique()** de NumPy, que reporta el número de valores únicos en cada columna.\n",
        "\n",
        "El siguiente ejemplo carga el dataset *Oil_Spill* que contiene 50 variables y resume el número de valores únicos en cada columna."
      ]
    },
    {
      "cell_type": "code",
      "metadata": {
        "id": "QLY-q9wo64uJ",
        "outputId": "10c496e6-e95c-4408-bcda-b3b46cb188a1",
        "colab": {
          "base_uri": "https://localhost:8080/"
        }
      },
      "source": [
        "# summarize the number of unique values for each column using numpy\n",
        "from urllib.request import urlopen\n",
        "from numpy import loadtxt\n",
        "from numpy import unique\n",
        "# define the location of the dataset\n",
        "path = 'https://raw.githubusercontent.com/jbrownlee/Datasets/master/oil-spill.csv'\n",
        "# load the dataset\n",
        "data = loadtxt(urlopen(path), delimiter=',')\n",
        "# summarize the number of unique values in each column\n",
        "for i in range(data.shape[1]):\n",
        "\tprint(i, len(unique(data[:, i])))"
      ],
      "execution_count": 1,
      "outputs": [
        {
          "output_type": "stream",
          "name": "stdout",
          "text": [
            "0 238\n",
            "1 297\n",
            "2 927\n",
            "3 933\n",
            "4 179\n",
            "5 375\n",
            "6 820\n",
            "7 618\n",
            "8 561\n",
            "9 57\n",
            "10 577\n",
            "11 59\n",
            "12 73\n",
            "13 107\n",
            "14 53\n",
            "15 91\n",
            "16 893\n",
            "17 810\n",
            "18 170\n",
            "19 53\n",
            "20 68\n",
            "21 9\n",
            "22 1\n",
            "23 92\n",
            "24 9\n",
            "25 8\n",
            "26 9\n",
            "27 308\n",
            "28 447\n",
            "29 392\n",
            "30 107\n",
            "31 42\n",
            "32 4\n",
            "33 45\n",
            "34 141\n",
            "35 110\n",
            "36 3\n",
            "37 758\n",
            "38 9\n",
            "39 9\n",
            "40 388\n",
            "41 220\n",
            "42 644\n",
            "43 649\n",
            "44 499\n",
            "45 2\n",
            "46 937\n",
            "47 169\n",
            "48 286\n",
            "49 2\n"
          ]
        }
      ]
    },
    {
      "cell_type": "markdown",
      "metadata": {
        "id": "jAZ6OXeZ7GDm"
      },
      "source": [
        "La columna 22 solo tiene **1** valor único, por lo que debe ser eliminada. \n",
        "\n",
        "Esta detección se puede realizar también con la función **nunique()** de Pandas, como se muestra a continuación."
      ]
    },
    {
      "cell_type": "code",
      "metadata": {
        "id": "gwc6ctzW7WE0",
        "outputId": "9bbb8743-117c-4a24-86ee-8ad05602806e",
        "colab": {
          "base_uri": "https://localhost:8080/"
        }
      },
      "source": [
        "# summarize the number of unique values for each column using numpy\n",
        "from pandas import read_csv\n",
        "# define the location of the dataset\n",
        "path = 'https://raw.githubusercontent.com/jbrownlee/Datasets/master/oil-spill.csv'\n",
        "# load the dataset\n",
        "df = read_csv(path, header=None)\n",
        "# summarize the number of unique values in each column\n",
        "print(df.nunique())"
      ],
      "execution_count": 2,
      "outputs": [
        {
          "output_type": "stream",
          "name": "stdout",
          "text": [
            "0     238\n",
            "1     297\n",
            "2     927\n",
            "3     933\n",
            "4     179\n",
            "5     375\n",
            "6     820\n",
            "7     618\n",
            "8     561\n",
            "9      57\n",
            "10    577\n",
            "11     59\n",
            "12     73\n",
            "13    107\n",
            "14     53\n",
            "15     91\n",
            "16    893\n",
            "17    810\n",
            "18    170\n",
            "19     53\n",
            "20     68\n",
            "21      9\n",
            "22      1\n",
            "23     92\n",
            "24      9\n",
            "25      8\n",
            "26      9\n",
            "27    308\n",
            "28    447\n",
            "29    392\n",
            "30    107\n",
            "31     42\n",
            "32      4\n",
            "33     45\n",
            "34    141\n",
            "35    110\n",
            "36      3\n",
            "37    758\n",
            "38      9\n",
            "39      9\n",
            "40    388\n",
            "41    220\n",
            "42    644\n",
            "43    649\n",
            "44    499\n",
            "45      2\n",
            "46    937\n",
            "47    169\n",
            "48    286\n",
            "49      2\n",
            "dtype: int64\n"
          ]
        }
      ]
    },
    {
      "cell_type": "markdown",
      "metadata": {
        "id": "hqL0V1p074f3"
      },
      "source": [
        "## 3. Delete Columns That Contain a Single Value\n",
        "\n",
        "Eliminar columnas es sencillo utilizando NumPy o Pandas. Una forma de hacerlo es guardar todas las columnnas que tienen un *single value* y luego eliminarlo del *Pandas DataFrame* con la función **drop()**."
      ]
    },
    {
      "cell_type": "code",
      "metadata": {
        "id": "ixNnkEMK8VkA",
        "outputId": "830abc56-ab83-4adf-bb07-969e893c5c19",
        "colab": {
          "base_uri": "https://localhost:8080/"
        }
      },
      "source": [
        "# delete columns with a single unique value\n",
        "from pandas import read_csv\n",
        "# define the location of the dataset\n",
        "path = 'https://raw.githubusercontent.com/jbrownlee/Datasets/master/oil-spill.csv'\n",
        "# load the dataset\n",
        "df = read_csv(path, header=None)\n",
        "print(df.shape)\n",
        "# get number of unique values for each column\n",
        "counts = df.nunique()\n",
        "# record columns to delete\n",
        "to_del = [i for i,v in enumerate(counts) if v == 1]\n",
        "print(to_del)\n",
        "# drop useless columns\n",
        "df.drop(to_del, axis=1, inplace=True)\n",
        "print(df.shape)"
      ],
      "execution_count": 3,
      "outputs": [
        {
          "output_type": "stream",
          "name": "stdout",
          "text": [
            "(937, 50)\n",
            "[22]\n",
            "(937, 49)\n"
          ]
        }
      ]
    },
    {
      "cell_type": "markdown",
      "metadata": {
        "id": "lKLv5UOy8cVv"
      },
      "source": [
        "El ejemplo anterior carga el dataset, calcula el número de valores únicos para cada columna e identifica aquellas en donde solo hay 1 valor (en este caso, la columna 22). Luego de ser eliminada, se imprime de nuevo la dimensión del *DataFrame* para confirmar que se realizó correctamente la operación."
      ]
    },
    {
      "cell_type": "markdown",
      "metadata": {
        "id": "9wfor9G98xKK"
      },
      "source": [
        "## 4. Consider Columns That Have Very Few Values\n",
        "\n",
        "Cuando la varianza de alguna columna es casi cero, puede o no afectar el modelo predictivo; por ende, no se pueden eliminar sin antes tomar esto en consideración. \n",
        "Para señalar las columnas con pocos valores únicos, se puede calcular el porcentaje de valores únicos con respecto al total de filas en el dataset. Esto se puede hacer manualmente con NumPy:"
      ]
    },
    {
      "cell_type": "code",
      "metadata": {
        "id": "ObHk1Ry49Ry_",
        "outputId": "4bd4034b-e3d2-4242-95d3-a5e9e5a7f470",
        "colab": {
          "base_uri": "https://localhost:8080/"
        }
      },
      "source": [
        "# summarize the percentage of unique values for each column using numpy\n",
        "from urllib.request import urlopen\n",
        "from numpy import loadtxt\n",
        "from numpy import unique\n",
        "# define the location of the dataset\n",
        "path = 'https://raw.githubusercontent.com/jbrownlee/Datasets/master/oil-spill.csv'\n",
        "# load the dataset\n",
        "data = loadtxt(urlopen(path), delimiter=',')\n",
        "# summarize the number of unique values in each column\n",
        "for i in range(data.shape[1]):\n",
        "\tnum = len(unique(data[:, i]))\n",
        "\tpercentage = float(num) / data.shape[0] * 100\n",
        "\tprint('%d, %d, %.1f%%' % (i, num, percentage))"
      ],
      "execution_count": 4,
      "outputs": [
        {
          "output_type": "stream",
          "name": "stdout",
          "text": [
            "0, 238, 25.4%\n",
            "1, 297, 31.7%\n",
            "2, 927, 98.9%\n",
            "3, 933, 99.6%\n",
            "4, 179, 19.1%\n",
            "5, 375, 40.0%\n",
            "6, 820, 87.5%\n",
            "7, 618, 66.0%\n",
            "8, 561, 59.9%\n",
            "9, 57, 6.1%\n",
            "10, 577, 61.6%\n",
            "11, 59, 6.3%\n",
            "12, 73, 7.8%\n",
            "13, 107, 11.4%\n",
            "14, 53, 5.7%\n",
            "15, 91, 9.7%\n",
            "16, 893, 95.3%\n",
            "17, 810, 86.4%\n",
            "18, 170, 18.1%\n",
            "19, 53, 5.7%\n",
            "20, 68, 7.3%\n",
            "21, 9, 1.0%\n",
            "22, 1, 0.1%\n",
            "23, 92, 9.8%\n",
            "24, 9, 1.0%\n",
            "25, 8, 0.9%\n",
            "26, 9, 1.0%\n",
            "27, 308, 32.9%\n",
            "28, 447, 47.7%\n",
            "29, 392, 41.8%\n",
            "30, 107, 11.4%\n",
            "31, 42, 4.5%\n",
            "32, 4, 0.4%\n",
            "33, 45, 4.8%\n",
            "34, 141, 15.0%\n",
            "35, 110, 11.7%\n",
            "36, 3, 0.3%\n",
            "37, 758, 80.9%\n",
            "38, 9, 1.0%\n",
            "39, 9, 1.0%\n",
            "40, 388, 41.4%\n",
            "41, 220, 23.5%\n",
            "42, 644, 68.7%\n",
            "43, 649, 69.3%\n",
            "44, 499, 53.3%\n",
            "45, 2, 0.2%\n",
            "46, 937, 100.0%\n",
            "47, 169, 18.0%\n",
            "48, 286, 30.5%\n",
            "49, 2, 0.2%\n"
          ]
        }
      ]
    },
    {
      "cell_type": "markdown",
      "metadata": {
        "id": "DYJiBtRn9eGO"
      },
      "source": [
        "Se puede actualizar el código para que muestre únicamente aquellas variables que tienen valores únicos menores al 1% del porcentaje total de filas."
      ]
    },
    {
      "cell_type": "code",
      "metadata": {
        "id": "1C34H3Nu9oC6",
        "outputId": "cc0bae90-124f-4881-b74a-ae4c8a9fd069",
        "colab": {
          "base_uri": "https://localhost:8080/"
        }
      },
      "source": [
        "# summarize the percentage of unique values for each column using numpy\n",
        "from urllib.request import urlopen\n",
        "from numpy import loadtxt\n",
        "from numpy import unique\n",
        "# define the location of the dataset\n",
        "path = 'https://raw.githubusercontent.com/jbrownlee/Datasets/master/oil-spill.csv'\n",
        "# load the dataset\n",
        "data = loadtxt(urlopen(path), delimiter=',')\n",
        "# summarize the number of unique values in each column\n",
        "for i in range(data.shape[1]):\n",
        "\tnum = len(unique(data[:, i]))\n",
        "\tpercentage = float(num) / data.shape[0] * 100\n",
        "\tif percentage < 1:\n",
        "\t\tprint('%d, %d, %.1f%%' % (i, num, percentage))"
      ],
      "execution_count": 5,
      "outputs": [
        {
          "output_type": "stream",
          "name": "stdout",
          "text": [
            "21, 9, 1.0%\n",
            "22, 1, 0.1%\n",
            "24, 9, 1.0%\n",
            "25, 8, 0.9%\n",
            "26, 9, 1.0%\n",
            "32, 4, 0.4%\n",
            "36, 3, 0.3%\n",
            "38, 9, 1.0%\n",
            "39, 9, 1.0%\n",
            "45, 2, 0.2%\n",
            "49, 2, 0.2%\n"
          ]
        }
      ]
    },
    {
      "cell_type": "markdown",
      "metadata": {
        "id": "-_Jz-jhI9vn_"
      },
      "source": [
        "Como se puede observar, 11 de las 50 variables tienen pocos valores únicos. Esto no quiere decir que deban eliminarse, sino que requieren más atención.\n",
        "\n",
        "Si se desearan eliminar todas las columnas con valores únicos menores al 1% del total de filas, se puede realizar lo siguiente:"
      ]
    },
    {
      "cell_type": "code",
      "metadata": {
        "id": "rEQzffqK9_s5",
        "outputId": "6d716901-54a2-47f2-a1d9-9e80bc467ef3",
        "colab": {
          "base_uri": "https://localhost:8080/"
        }
      },
      "source": [
        "# delete columns where number of unique values is less than 1% of the rows\n",
        "from pandas import read_csv\n",
        "# define the location of the dataset\n",
        "path = 'https://raw.githubusercontent.com/jbrownlee/Datasets/master/oil-spill.csv'\n",
        "# load the dataset\n",
        "df = read_csv(path, header=None)\n",
        "print(df.shape)\n",
        "# get number of unique values for each column\n",
        "counts = df.nunique()\n",
        "# record columns to delete\n",
        "to_del = [i for i,v in enumerate(counts) if (float(v)/df.shape[0]*100) < 1]\n",
        "print(to_del)\n",
        "# drop useless columns\n",
        "df.drop(to_del, axis=1, inplace=True)\n",
        "print(df.shape)"
      ],
      "execution_count": 6,
      "outputs": [
        {
          "output_type": "stream",
          "name": "stdout",
          "text": [
            "(937, 50)\n",
            "[21, 22, 24, 25, 26, 32, 36, 38, 39, 45, 49]\n",
            "(937, 39)\n"
          ]
        }
      ]
    },
    {
      "cell_type": "markdown",
      "metadata": {
        "id": "ZBSdgFIh-G4B"
      },
      "source": [
        "## 5. Remove Columns That Have A Low Variance\n",
        "\n",
        "La clase **VarianceThreshold** de la librería **scikit** permite especificar el argumento *threshold*, que por defecto se encuentra en 0.0 . Este argumento se puede modificar con la función *fit_transform()*, para determinar un límite que se utilizará para eliminar todas las columnas que tengan una varianza menor a él. El siguiente código elimina las columnas con varianza menor a 0.0:"
      ]
    },
    {
      "cell_type": "code",
      "metadata": {
        "id": "r-ix9T19-nxJ",
        "outputId": "998f01e4-1738-42bc-8a14-e0d613139736",
        "colab": {
          "base_uri": "https://localhost:8080/"
        }
      },
      "source": [
        "# example of apply the variance threshold\n",
        "from pandas import read_csv\n",
        "from sklearn.feature_selection import VarianceThreshold\n",
        "# define the location of the dataset\n",
        "path = 'https://raw.githubusercontent.com/jbrownlee/Datasets/master/oil-spill.csv'\n",
        "# load the dataset\n",
        "df = read_csv(path, header=None)\n",
        "# split data into inputs and outputs\n",
        "data = df.values\n",
        "X = data[:, :-1]\n",
        "y = data[:, -1]\n",
        "print(X.shape, y.shape)\n",
        "# define the transform\n",
        "transform = VarianceThreshold()\n",
        "# transform the input data\n",
        "X_sel = transform.fit_transform(X)\n",
        "print(X_sel.shape)"
      ],
      "execution_count": 8,
      "outputs": [
        {
          "output_type": "stream",
          "name": "stdout",
          "text": [
            "(937, 49) (937,)\n",
            "(937, 48)\n"
          ]
        }
      ]
    },
    {
      "cell_type": "markdown",
      "metadata": {
        "id": "7Je3f_Gw-1ov"
      },
      "source": [
        "Se puede definir una secuencia de *thresholds* desde 0.0 hasta 0.5, con un *step* de 0.05 . "
      ]
    },
    {
      "cell_type": "code",
      "metadata": {
        "id": "3Gb7Xee3_FhH",
        "outputId": "88a81cfd-b4e5-4fd4-a0f0-12491b3846a8",
        "colab": {
          "base_uri": "https://localhost:8080/"
        }
      },
      "source": [
        "# example of apply the variance threshold\n",
        "from pandas import read_csv\n",
        "from sklearn.feature_selection import VarianceThreshold\n",
        "# define the location of the dataset\n",
        "path = 'https://raw.githubusercontent.com/jbrownlee/Datasets/master/oil-spill.csv'\n",
        "# load the dataset\n",
        "df = read_csv(path, header=None)\n",
        "# split data into inputs and outputs\n",
        "data = df.values\n",
        "X = data[:, :-1]\n",
        "y = data[:, -1]\n",
        "print(X.shape, y.shape)\n",
        "# define the transform\n",
        "transform = VarianceThreshold()\n",
        "# transform the input data\n",
        "X_sel = transform.fit_transform(X)\n",
        "print(X_sel.shape)\n",
        "# define thresholds to check\n",
        "thresholds = [0.0, 0.55, 0.05]\n",
        "# apply transform with each threshold\n",
        "results = list()\n",
        "for t in thresholds:\n",
        "\t# define the transform\n",
        "\ttransform = VarianceThreshold(threshold=t)\n",
        "\t# transform the input data\n",
        "\tX_sel = transform.fit_transform(X)\n",
        "\t# determine the number of input features\n",
        "\tn_features = X_sel.shape[1]\n",
        "\tprint('>Threshold=%.2f, Features=%d' % (t, n_features))\n",
        "\t# store the result\n",
        "\tresults.append(n_features)"
      ],
      "execution_count": 11,
      "outputs": [
        {
          "output_type": "stream",
          "name": "stdout",
          "text": [
            "(937, 49) (937,)\n",
            "(937, 48)\n",
            ">Threshold=0.00, Features=48\n",
            ">Threshold=0.55, Features=31\n",
            ">Threshold=0.05, Features=37\n"
          ]
        }
      ]
    },
    {
      "cell_type": "markdown",
      "metadata": {
        "id": "_DLOTIww_pnV"
      },
      "source": [
        "Al unir todo esto y realizar un gráfico para observar los resultados, se tiene lo siguiente:"
      ]
    },
    {
      "cell_type": "code",
      "metadata": {
        "id": "eFJ_JBoB_vKr",
        "outputId": "ccca64f8-45d4-40bd-e55f-963f4c1c67db",
        "colab": {
          "base_uri": "https://localhost:8080/",
          "height": 469
        }
      },
      "source": [
        "# explore the effect of the variance thresholds on the number of selected features\n",
        "from numpy import arange\n",
        "from pandas import read_csv\n",
        "from sklearn.feature_selection import VarianceThreshold\n",
        "from matplotlib import pyplot\n",
        "# define the location of the dataset\n",
        "path = 'https://raw.githubusercontent.com/jbrownlee/Datasets/master/oil-spill.csv'\n",
        "# load the dataset\n",
        "df = read_csv(path, header=None)\n",
        "# split data into inputs and outputs\n",
        "data = df.values\n",
        "X = data[:, :-1]\n",
        "y = data[:, -1]\n",
        "print(X.shape, y.shape)\n",
        "# define thresholds to check\n",
        "thresholds = arange(0.0, 0.55, 0.05)\n",
        "# apply transform with each threshold\n",
        "results = list()\n",
        "for t in thresholds:\n",
        "\t# define the transform\n",
        "\ttransform = VarianceThreshold(threshold=t)\n",
        "\t# transform the input data\n",
        "\tX_sel = transform.fit_transform(X)\n",
        "\t# determine the number of input features\n",
        "\tn_features = X_sel.shape[1]\n",
        "\tprint('>Threshold=%.2f, Features=%d' % (t, n_features))\n",
        "\t# store the result\n",
        "\tresults.append(n_features)\n",
        "# plot the threshold vs the number of selected features\n",
        "pyplot.plot(thresholds, results)\n",
        "pyplot.show()"
      ],
      "execution_count": 12,
      "outputs": [
        {
          "output_type": "stream",
          "name": "stdout",
          "text": [
            "(937, 49) (937,)\n",
            ">Threshold=0.00, Features=48\n",
            ">Threshold=0.05, Features=37\n",
            ">Threshold=0.10, Features=36\n",
            ">Threshold=0.15, Features=35\n",
            ">Threshold=0.20, Features=35\n",
            ">Threshold=0.25, Features=35\n",
            ">Threshold=0.30, Features=35\n",
            ">Threshold=0.35, Features=35\n",
            ">Threshold=0.40, Features=35\n",
            ">Threshold=0.45, Features=33\n",
            ">Threshold=0.50, Features=31\n"
          ]
        },
        {
          "output_type": "display_data",
          "data": {
            "image/png": "[encoded data removed]",
            "text/plain": [
              "<Figure size 432x288 with 1 Axes>"
            ]
          },
          "metadata": {
            "needs_background": "light"
          }
        }
      ]
    },
    {
      "cell_type": "markdown",
      "metadata": {
        "id": "ic_zEvts_9IY"
      },
      "source": [
        "## 6. Identify Rows That Contain Duplicate Data"
      ]
    },
    {
      "cell_type": "markdown",
      "metadata": {
        "id": "pd3xHUs83ljW"
      },
      "source": [
        "## ¿Qué aprendí?\n",
        "\n",
        "## Fuentes\n",
        "https://machinelearningmastery.com/basic-data-cleaning-for-machine-learning/"
      ]
    }
  ]
}